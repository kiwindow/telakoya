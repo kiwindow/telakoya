{
  "nbformat": 4,
  "nbformat_minor": 0,
  "metadata": {
    "colab": {
      "provenance": []
    },
    "kernelspec": {
      "name": "python3",
      "display_name": "Python 3"
    },
    "language_info": {
      "name": "python"
    }
  },
  "cells": [
    {
      "cell_type": "markdown",
      "source": [
        "# 0. ライブラリの読み込み"
      ],
      "metadata": {
        "id": "yfnsHnnkCedC"
      }
    },
    {
      "cell_type": "code",
      "source": [
        "# ライブラリの読み込み\n",
        "import numpy as np\n",
        "import pandas as pd\n",
        "import matplotlib.pyplot as plt\n",
        "%matplotlib inline"
      ],
      "metadata": {
        "id": "tH7p2p-JwSJZ"
      },
      "execution_count": 2,
      "outputs": []
    },
    {
      "cell_type": "code",
      "source": [
        "# ライブラリの読み込み\n",
        "import numpy as np\n",
        "import pandas as pd\n",
        "import matplotlib.pyplot as plt\n",
        "%matplotlib inline"
      ],
      "metadata": {
        "id": "T4sm0wqNwinC"
      },
      "execution_count": 3,
      "outputs": []
    },
    {
      "cell_type": "markdown",
      "source": [
        "# 1. 回帰問題"
      ],
      "metadata": {
        "id": "JmpOnDF5wx1O"
      }
    },
    {
      "cell_type": "markdown",
      "source": [
        "## 1) データの準備"
      ],
      "metadata": {
        "id": "C0ogiEEWChNf"
      }
    },
    {
      "cell_type": "code",
      "source": [
        "# pandasで表計算のデータを読み込む\n",
        "df = pd.read_csv('/content/drive/MyDrive/Telakoya/tela4/data/boston.csv')\n",
        "df"
      ],
      "metadata": {
        "id": "CIxJIgjKwtIX"
      },
      "execution_count": null,
      "outputs": []
    },
    {
      "cell_type": "code",
      "source": [
        "# 説明変数と目的変数に分離し、numpyに変換\n",
        "x = df.iloc[:, :-1].values\n",
        "t = df.iloc[:, -1].values"
      ],
      "metadata": {
        "id": "hnC7XKv9wtRK"
      },
      "execution_count": 10,
      "outputs": []
    },
    {
      "cell_type": "code",
      "source": [
        "# 学習データと検証データに分離する\n",
        "from sklearn.model_selection import train_test_split\n",
        "x_train, x_test, t_train, t_test = train_test_split(x, t, test_size = 0.3, random_state = 0)"
      ],
      "metadata": {
        "id": "l-czFOr8wnmA"
      },
      "execution_count": 12,
      "outputs": []
    },
    {
      "cell_type": "markdown",
      "source": [
        "## 2) 機械学習の実行"
      ],
      "metadata": {
        "id": "S_IwGj-uCkG_"
      }
    },
    {
      "cell_type": "code",
      "source": [
        "# 機械学習　回帰問題\n",
        "# ①　モデルの読み込み　(モデルの設計図)\n",
        "from sklearn.linear_model import LinearRegression\n",
        "# ②　モデルのインタンス化 (モデルの活性化)\n",
        "model = LinearRegression()\n",
        "# ③　モデルの学習\n",
        "model.fit(x_train, t_train)"
      ],
      "metadata": {
        "colab": {
          "base_uri": "https://localhost:8080/"
        },
        "id": "2xg504cny3dT",
        "outputId": "fe02d033-f038-4e08-96c2-f325ded00e11"
      },
      "execution_count": 13,
      "outputs": [
        {
          "output_type": "execute_result",
          "data": {
            "text/plain": [
              "LinearRegression()"
            ]
          },
          "metadata": {},
          "execution_count": 13
        }
      ]
    },
    {
      "cell_type": "code",
      "source": [
        "model.coef_"
      ],
      "metadata": {
        "colab": {
          "base_uri": "https://localhost:8080/"
        },
        "id": "oqJu5VT80Pto",
        "outputId": "6fcce858-e6b3-406e-a499-82128c0db5ac"
      },
      "execution_count": 14,
      "outputs": [
        {
          "output_type": "execute_result",
          "data": {
            "text/plain": [
              "array([-1.21310401e-01,  4.44664254e-02,  1.13416945e-02,  2.51124642e+00,\n",
              "       -1.62312529e+01,  3.85906801e+00, -9.98516565e-03, -1.50026956e+00,\n",
              "        2.42143466e-01, -1.10716124e-02, -1.01775264e+00,  6.81446545e-03,\n",
              "       -4.86738066e-01])"
            ]
          },
          "metadata": {},
          "execution_count": 14
        }
      ]
    },
    {
      "cell_type": "code",
      "source": [
        "# モデルの評価 (決定係数)\n",
        "model.score(x_test, t_test)"
      ],
      "metadata": {
        "colab": {
          "base_uri": "https://localhost:8080/"
        },
        "id": "Gb8H8r770Rgj",
        "outputId": "0dd07d89-c107-479a-9460-80dbb76a4c42"
      },
      "execution_count": 15,
      "outputs": [
        {
          "output_type": "execute_result",
          "data": {
            "text/plain": [
              "0.6733825506400171"
            ]
          },
          "metadata": {},
          "execution_count": 15
        }
      ]
    },
    {
      "cell_type": "code",
      "source": [
        "# モデルによる予測値\n",
        "pred = model.predict(x_test)\n",
        "pred"
      ],
      "metadata": {
        "id": "3EKeMl8q0g6n"
      },
      "execution_count": null,
      "outputs": []
    },
    {
      "cell_type": "code",
      "source": [
        "t_test"
      ],
      "metadata": {
        "id": "wvPJAbhn0ujm"
      },
      "execution_count": null,
      "outputs": []
    },
    {
      "cell_type": "code",
      "source": [
        "# 散布図による予測値の図示\n",
        "plt.scatter(pred, t_test)"
      ],
      "metadata": {
        "colab": {
          "base_uri": "https://localhost:8080/",
          "height": 283
        },
        "id": "8hjmwo3x0zi4",
        "outputId": "a958d601-961f-4c94-b7a4-8420a82ffb38"
      },
      "execution_count": 18,
      "outputs": [
        {
          "output_type": "execute_result",
          "data": {
            "text/plain": [
              "<matplotlib.collections.PathCollection at 0x7fd9ac156f70>"
            ]
          },
          "metadata": {},
          "execution_count": 18
        },
        {
          "output_type": "display_data",
          "data": {
            "text/plain": [
              "<Figure size 432x288 with 1 Axes>"
            ],
            "image/png": "[encoded data removed]"
          },
          "metadata": {
            "needs_background": "light"
          }
        }
      ]
    },
    {
      "cell_type": "markdown",
      "source": [
        "## 3) モデルの保存と復元"
      ],
      "metadata": {
        "id": "L8tyyPEPCn1S"
      }
    },
    {
      "cell_type": "code",
      "source": [
        "# モデルの保存\n",
        "import pickle\n",
        "with open('/content/drive/MyDrive/Telakoya/tela4/model/boston.pickle', mode = 'wb') as f:\n",
        "    pickle.dump(model, f)"
      ],
      "metadata": {
        "id": "pDlI5tAR1CXt"
      },
      "execution_count": 19,
      "outputs": []
    },
    {
      "cell_type": "code",
      "source": [
        "# モデルの復元\n",
        "import pickle\n",
        "with open('/content/drive/MyDrive/Telakoya/tela4/model/boston.pickle', mode = 'rb') as f:\n",
        "    model2 = pickle.load(f)"
      ],
      "metadata": {
        "id": "gVimAjgX2Ajn"
      },
      "execution_count": 21,
      "outputs": []
    },
    {
      "cell_type": "code",
      "source": [
        "pred2 = model2.predict(x_test)\n",
        "pred2"
      ],
      "metadata": {
        "id": "xDfe24f62VSu"
      },
      "execution_count": null,
      "outputs": []
    },
    {
      "cell_type": "code",
      "source": [
        "pred == pred2"
      ],
      "metadata": {
        "id": "YjprllD72kL_"
      },
      "execution_count": null,
      "outputs": []
    },
    {
      "cell_type": "markdown",
      "source": [
        "# 2. 分類問題"
      ],
      "metadata": {
        "id": "QsvByMJ12_nb"
      }
    },
    {
      "cell_type": "markdown",
      "source": [
        "## 1) データの読み込み"
      ],
      "metadata": {
        "id": "D56Q2fESCrIX"
      }
    },
    {
      "cell_type": "code",
      "source": [
        "# データの読み込み\n",
        "df = pd.read_csv('/content/drive/MyDrive/Telakoya/tela4/data/breast.csv')\n",
        "df"
      ],
      "metadata": {
        "colab": {
          "base_uri": "https://localhost:8080/",
          "height": 522
        },
        "id": "wz2aKxlo2tLo",
        "outputId": "b4c65c3f-6509-4a31-c218-78b0e8423745"
      },
      "execution_count": 25,
      "outputs": [
        {
          "output_type": "execute_result",
          "data": {
            "text/plain": [
              "     mean radius  mean texture  mean perimeter  mean area  mean smoothness  \\\n",
              "0          17.99         10.38          122.80     1001.0          0.11840   \n",
              "1          20.57         17.77          132.90     1326.0          0.08474   \n",
              "2          19.69         21.25          130.00     1203.0          0.10960   \n",
              "3          11.42         20.38           77.58      386.1          0.14250   \n",
              "4          20.29         14.34          135.10     1297.0          0.10030   \n",
              "..           ...           ...             ...        ...              ...   \n",
              "564        21.56         22.39          142.00     1479.0          0.11100   \n",
              "565        20.13         28.25          131.20     1261.0          0.09780   \n",
              "566        16.60         28.08          108.30      858.1          0.08455   \n",
              "567        20.60         29.33          140.10     1265.0          0.11780   \n",
              "568         7.76         24.54           47.92      181.0          0.05263   \n",
              "\n",
              "     mean compactness  mean concavity  mean concave points  mean symmetry  \\\n",
              "0             0.27760         0.30010              0.14710         0.2419   \n",
              "1             0.07864         0.08690              0.07017         0.1812   \n",
              "2             0.15990         0.19740              0.12790         0.2069   \n",
              "3             0.28390         0.24140              0.10520         0.2597   \n",
              "4             0.13280         0.19800              0.10430         0.1809   \n",
              "..                ...             ...                  ...            ...   \n",
              "564           0.11590         0.24390              0.13890         0.1726   \n",
              "565           0.10340         0.14400              0.09791         0.1752   \n",
              "566           0.10230         0.09251              0.05302         0.1590   \n",
              "567           0.27700         0.35140              0.15200         0.2397   \n",
              "568           0.04362         0.00000              0.00000         0.1587   \n",
              "\n",
              "     mean fractal dimension  ...  worst texture  worst perimeter  worst area  \\\n",
              "0                   0.07871  ...          17.33           184.60      2019.0   \n",
              "1                   0.05667  ...          23.41           158.80      1956.0   \n",
              "2                   0.05999  ...          25.53           152.50      1709.0   \n",
              "3                   0.09744  ...          26.50            98.87       567.7   \n",
              "4                   0.05883  ...          16.67           152.20      1575.0   \n",
              "..                      ...  ...            ...              ...         ...   \n",
              "564                 0.05623  ...          26.40           166.10      2027.0   \n",
              "565                 0.05533  ...          38.25           155.00      1731.0   \n",
              "566                 0.05648  ...          34.12           126.70      1124.0   \n",
              "567                 0.07016  ...          39.42           184.60      1821.0   \n",
              "568                 0.05884  ...          30.37            59.16       268.6   \n",
              "\n",
              "     worst smoothness  worst compactness  worst concavity  \\\n",
              "0             0.16220            0.66560           0.7119   \n",
              "1             0.12380            0.18660           0.2416   \n",
              "2             0.14440            0.42450           0.4504   \n",
              "3             0.20980            0.86630           0.6869   \n",
              "4             0.13740            0.20500           0.4000   \n",
              "..                ...                ...              ...   \n",
              "564           0.14100            0.21130           0.4107   \n",
              "565           0.11660            0.19220           0.3215   \n",
              "566           0.11390            0.30940           0.3403   \n",
              "567           0.16500            0.86810           0.9387   \n",
              "568           0.08996            0.06444           0.0000   \n",
              "\n",
              "     worst concave points  worst symmetry  worst fractal dimension  malignant  \n",
              "0                  0.2654          0.4601                  0.11890        0.0  \n",
              "1                  0.1860          0.2750                  0.08902        0.0  \n",
              "2                  0.2430          0.3613                  0.08758        0.0  \n",
              "3                  0.2575          0.6638                  0.17300        0.0  \n",
              "4                  0.1625          0.2364                  0.07678        0.0  \n",
              "..                    ...             ...                      ...        ...  \n",
              "564                0.2216          0.2060                  0.07115        0.0  \n",
              "565                0.1628          0.2572                  0.06637        0.0  \n",
              "566                0.1418          0.2218                  0.07820        0.0  \n",
              "567                0.2650          0.4087                  0.12400        0.0  \n",
              "568                0.0000          0.2871                  0.07039        1.0  \n",
              "\n",
              "[569 rows x 31 columns]"
            ],
            "text/html": [
              "\n",
              "  <div id=\"df-4ea099ae-48f6-4cf3-ad56-2fb8f127caf0\">\n",
              "    <div class=\"colab-df-container\">\n",
              "      <div>\n",
              "<style scoped>\n",
              "    .dataframe tbody tr th:only-of-type {\n",
              "        vertical-align: middle;\n",
              "    }\n",
              "\n",
              "    .dataframe tbody tr th {\n",
              "        vertical-align: top;\n",
              "    }\n",
              "\n",
              "    .dataframe thead th {\n",
              "        text-align: right;\n",
              "    }\n",
              "</style>\n",
              "<table border=\"1\" class=\"dataframe\">\n",
              "  <thead>\n",
              "    <tr style=\"text-align: right;\">\n",
              "      <th></th>\n",
              "      <th>mean radius</th>\n",
              "      <th>mean texture</th>\n",
              "      <th>mean perimeter</th>\n",
              "      <th>mean area</th>\n",
              "      <th>mean smoothness</th>\n",
              "      <th>mean compactness</th>\n",
              "      <th>mean concavity</th>\n",
              "      <th>mean concave points</th>\n",
              "      <th>mean symmetry</th>\n",
              "      <th>mean fractal dimension</th>\n",
              "      <th>...</th>\n",
              "      <th>worst texture</th>\n",
              "      <th>worst perimeter</th>\n",
              "      <th>worst area</th>\n",
              "      <th>worst smoothness</th>\n",
              "      <th>worst compactness</th>\n",
              "      <th>worst concavity</th>\n",
              "      <th>worst concave points</th>\n",
              "      <th>worst symmetry</th>\n",
              "      <th>worst fractal dimension</th>\n",
              "      <th>malignant</th>\n",
              "    </tr>\n",
              "  </thead>\n",
              "  <tbody>\n",
              "    <tr>\n",
              "      <th>0</th>\n",
              "      <td>17.99</td>\n",
              "      <td>10.38</td>\n",
              "      <td>122.80</td>\n",
              "      <td>1001.0</td>\n",
              "      <td>0.11840</td>\n",
              "      <td>0.27760</td>\n",
              "      <td>0.30010</td>\n",
              "      <td>0.14710</td>\n",
              "      <td>0.2419</td>\n",
              "      <td>0.07871</td>\n",
              "      <td>...</td>\n",
              "      <td>17.33</td>\n",
              "      <td>184.60</td>\n",
              "      <td>2019.0</td>\n",
              "      <td>0.16220</td>\n",
              "      <td>0.66560</td>\n",
              "      <td>0.7119</td>\n",
              "      <td>0.2654</td>\n",
              "      <td>0.4601</td>\n",
              "      <td>0.11890</td>\n",
              "      <td>0.0</td>\n",
              "    </tr>\n",
              "    <tr>\n",
              "      <th>1</th>\n",
              "      <td>20.57</td>\n",
              "      <td>17.77</td>\n",
              "      <td>132.90</td>\n",
              "      <td>1326.0</td>\n",
              "      <td>0.08474</td>\n",
              "      <td>0.07864</td>\n",
              "      <td>0.08690</td>\n",
              "      <td>0.07017</td>\n",
              "      <td>0.1812</td>\n",
              "      <td>0.05667</td>\n",
              "      <td>...</td>\n",
              "      <td>23.41</td>\n",
              "      <td>158.80</td>\n",
              "      <td>1956.0</td>\n",
              "      <td>0.12380</td>\n",
              "      <td>0.18660</td>\n",
              "      <td>0.2416</td>\n",
              "      <td>0.1860</td>\n",
              "      <td>0.2750</td>\n",
              "      <td>0.08902</td>\n",
              "      <td>0.0</td>\n",
              "    </tr>\n",
              "    <tr>\n",
              "      <th>2</th>\n",
              "      <td>19.69</td>\n",
              "      <td>21.25</td>\n",
              "      <td>130.00</td>\n",
              "      <td>1203.0</td>\n",
              "      <td>0.10960</td>\n",
              "      <td>0.15990</td>\n",
              "      <td>0.19740</td>\n",
              "      <td>0.12790</td>\n",
              "      <td>0.2069</td>\n",
              "      <td>0.05999</td>\n",
              "      <td>...</td>\n",
              "      <td>25.53</td>\n",
              "      <td>152.50</td>\n",
              "      <td>1709.0</td>\n",
              "      <td>0.14440</td>\n",
              "      <td>0.42450</td>\n",
              "      <td>0.4504</td>\n",
              "      <td>0.2430</td>\n",
              "      <td>0.3613</td>\n",
              "      <td>0.08758</td>\n",
              "      <td>0.0</td>\n",
              "    </tr>\n",
              "    <tr>\n",
              "      <th>3</th>\n",
              "      <td>11.42</td>\n",
              "      <td>20.38</td>\n",
              "      <td>77.58</td>\n",
              "      <td>386.1</td>\n",
              "      <td>0.14250</td>\n",
              "      <td>0.28390</td>\n",
              "      <td>0.24140</td>\n",
              "      <td>0.10520</td>\n",
              "      <td>0.2597</td>\n",
              "      <td>0.09744</td>\n",
              "      <td>...</td>\n",
              "      <td>26.50</td>\n",
              "      <td>98.87</td>\n",
              "      <td>567.7</td>\n",
              "      <td>0.20980</td>\n",
              "      <td>0.86630</td>\n",
              "      <td>0.6869</td>\n",
              "      <td>0.2575</td>\n",
              "      <td>0.6638</td>\n",
              "      <td>0.17300</td>\n",
              "      <td>0.0</td>\n",
              "    </tr>\n",
              "    <tr>\n",
              "      <th>4</th>\n",
              "      <td>20.29</td>\n",
              "      <td>14.34</td>\n",
              "      <td>135.10</td>\n",
              "      <td>1297.0</td>\n",
              "      <td>0.10030</td>\n",
              "      <td>0.13280</td>\n",
              "      <td>0.19800</td>\n",
              "      <td>0.10430</td>\n",
              "      <td>0.1809</td>\n",
              "      <td>0.05883</td>\n",
              "      <td>...</td>\n",
              "      <td>16.67</td>\n",
              "      <td>152.20</td>\n",
              "      <td>1575.0</td>\n",
              "      <td>0.13740</td>\n",
              "      <td>0.20500</td>\n",
              "      <td>0.4000</td>\n",
              "      <td>0.1625</td>\n",
              "      <td>0.2364</td>\n",
              "      <td>0.07678</td>\n",
              "      <td>0.0</td>\n",
              "    </tr>\n",
              "    <tr>\n",
              "      <th>...</th>\n",
              "      <td>...</td>\n",
              "      <td>...</td>\n",
              "      <td>...</td>\n",
              "      <td>...</td>\n",
              "      <td>...</td>\n",
              "      <td>...</td>\n",
              "      <td>...</td>\n",
              "      <td>...</td>\n",
              "      <td>...</td>\n",
              "      <td>...</td>\n",
              "      <td>...</td>\n",
              "      <td>...</td>\n",
              "      <td>...</td>\n",
              "      <td>...</td>\n",
              "      <td>...</td>\n",
              "      <td>...</td>\n",
              "      <td>...</td>\n",
              "      <td>...</td>\n",
              "      <td>...</td>\n",
              "      <td>...</td>\n",
              "      <td>...</td>\n",
              "    </tr>\n",
              "    <tr>\n",
              "      <th>564</th>\n",
              "      <td>21.56</td>\n",
              "      <td>22.39</td>\n",
              "      <td>142.00</td>\n",
              "      <td>1479.0</td>\n",
              "      <td>0.11100</td>\n",
              "      <td>0.11590</td>\n",
              "      <td>0.24390</td>\n",
              "      <td>0.13890</td>\n",
              "      <td>0.1726</td>\n",
              "      <td>0.05623</td>\n",
              "      <td>...</td>\n",
              "      <td>26.40</td>\n",
              "      <td>166.10</td>\n",
              "      <td>2027.0</td>\n",
              "      <td>0.14100</td>\n",
              "      <td>0.21130</td>\n",
              "      <td>0.4107</td>\n",
              "      <td>0.2216</td>\n",
              "      <td>0.2060</td>\n",
              "      <td>0.07115</td>\n",
              "      <td>0.0</td>\n",
              "    </tr>\n",
              "    <tr>\n",
              "      <th>565</th>\n",
              "      <td>20.13</td>\n",
              "      <td>28.25</td>\n",
              "      <td>131.20</td>\n",
              "      <td>1261.0</td>\n",
              "      <td>0.09780</td>\n",
              "      <td>0.10340</td>\n",
              "      <td>0.14400</td>\n",
              "      <td>0.09791</td>\n",
              "      <td>0.1752</td>\n",
              "      <td>0.05533</td>\n",
              "      <td>...</td>\n",
              "      <td>38.25</td>\n",
              "      <td>155.00</td>\n",
              "      <td>1731.0</td>\n",
              "      <td>0.11660</td>\n",
              "      <td>0.19220</td>\n",
              "      <td>0.3215</td>\n",
              "      <td>0.1628</td>\n",
              "      <td>0.2572</td>\n",
              "      <td>0.06637</td>\n",
              "      <td>0.0</td>\n",
              "    </tr>\n",
              "    <tr>\n",
              "      <th>566</th>\n",
              "      <td>16.60</td>\n",
              "      <td>28.08</td>\n",
              "      <td>108.30</td>\n",
              "      <td>858.1</td>\n",
              "      <td>0.08455</td>\n",
              "      <td>0.10230</td>\n",
              "      <td>0.09251</td>\n",
              "      <td>0.05302</td>\n",
              "      <td>0.1590</td>\n",
              "      <td>0.05648</td>\n",
              "      <td>...</td>\n",
              "      <td>34.12</td>\n",
              "      <td>126.70</td>\n",
              "      <td>1124.0</td>\n",
              "      <td>0.11390</td>\n",
              "      <td>0.30940</td>\n",
              "      <td>0.3403</td>\n",
              "      <td>0.1418</td>\n",
              "      <td>0.2218</td>\n",
              "      <td>0.07820</td>\n",
              "      <td>0.0</td>\n",
              "    </tr>\n",
              "    <tr>\n",
              "      <th>567</th>\n",
              "      <td>20.60</td>\n",
              "      <td>29.33</td>\n",
              "      <td>140.10</td>\n",
              "      <td>1265.0</td>\n",
              "      <td>0.11780</td>\n",
              "      <td>0.27700</td>\n",
              "      <td>0.35140</td>\n",
              "      <td>0.15200</td>\n",
              "      <td>0.2397</td>\n",
              "      <td>0.07016</td>\n",
              "      <td>...</td>\n",
              "      <td>39.42</td>\n",
              "      <td>184.60</td>\n",
              "      <td>1821.0</td>\n",
              "      <td>0.16500</td>\n",
              "      <td>0.86810</td>\n",
              "      <td>0.9387</td>\n",
              "      <td>0.2650</td>\n",
              "      <td>0.4087</td>\n",
              "      <td>0.12400</td>\n",
              "      <td>0.0</td>\n",
              "    </tr>\n",
              "    <tr>\n",
              "      <th>568</th>\n",
              "      <td>7.76</td>\n",
              "      <td>24.54</td>\n",
              "      <td>47.92</td>\n",
              "      <td>181.0</td>\n",
              "      <td>0.05263</td>\n",
              "      <td>0.04362</td>\n",
              "      <td>0.00000</td>\n",
              "      <td>0.00000</td>\n",
              "      <td>0.1587</td>\n",
              "      <td>0.05884</td>\n",
              "      <td>...</td>\n",
              "      <td>30.37</td>\n",
              "      <td>59.16</td>\n",
              "      <td>268.6</td>\n",
              "      <td>0.08996</td>\n",
              "      <td>0.06444</td>\n",
              "      <td>0.0000</td>\n",
              "      <td>0.0000</td>\n",
              "      <td>0.2871</td>\n",
              "      <td>0.07039</td>\n",
              "      <td>1.0</td>\n",
              "    </tr>\n",
              "  </tbody>\n",
              "</table>\n",
              "<p>569 rows × 31 columns</p>\n",
              "</div>\n",
              "      <button class=\"colab-df-convert\" onclick=\"convertToInteractive('df-4ea099ae-48f6-4cf3-ad56-2fb8f127caf0')\"\n",
              "              title=\"Convert this dataframe to an interactive table.\"\n",
              "              style=\"display:none;\">\n",
              "        \n",
              "  <svg xmlns=\"http://www.w3.org/2000/svg\" height=\"24px\"viewBox=\"0 0 24 24\"\n",
              "       width=\"24px\">\n",
              "    <path d=\"M0 0h24v24H0V0z\" fill=\"none\"/>\n",
              "    <path d=\"M18.56 5.44l.94 2.06.94-2.06 2.06-.94-2.06-.94-.94-2.06-.94 2.06-2.06.94zm-11 1L8.5 8.5l.94-2.06 2.06-.94-2.06-.94L8.5 2.5l-.94 2.06-2.06.94zm10 10l.94 2.06.94-2.06 2.06-.94-2.06-.94-.94-2.06-.94 2.06-2.06.94z\"/><path d=\"M17.41 7.96l-1.37-1.37c-.4-.4-.92-.59-1.43-.59-.52 0-1.04.2-1.43.59L10.3 9.45l-7.72 7.72c-.78.78-.78 2.05 0 2.83L4 21.41c.39.39.9.59 1.41.59.51 0 1.02-.2 1.41-.59l7.78-7.78 2.81-2.81c.8-.78.8-2.07 0-2.86zM5.41 20L4 18.59l7.72-7.72 1.47 1.35L5.41 20z\"/>\n",
              "  </svg>\n",
              "      </button>\n",
              "      \n",
              "  <style>\n",
              "    .colab-df-container {\n",
              "      display:flex;\n",
              "      flex-wrap:wrap;\n",
              "      gap: 12px;\n",
              "    }\n",
              "\n",
              "    .colab-df-convert {\n",
              "      background-color: #E8F0FE;\n",
              "      border: none;\n",
              "      border-radius: 50%;\n",
              "      cursor: pointer;\n",
              "      display: none;\n",
              "      fill: #1967D2;\n",
              "      height: 32px;\n",
              "      padding: 0 0 0 0;\n",
              "      width: 32px;\n",
              "    }\n",
              "\n",
              "    .colab-df-convert:hover {\n",
              "      background-color: #E2EBFA;\n",
              "      box-shadow: 0px 1px 2px rgba(60, 64, 67, 0.3), 0px 1px 3px 1px rgba(60, 64, 67, 0.15);\n",
              "      fill: #174EA6;\n",
              "    }\n",
              "\n",
              "    [theme=dark] .colab-df-convert {\n",
              "      background-color: #3B4455;\n",
              "      fill: #D2E3FC;\n",
              "    }\n",
              "\n",
              "    [theme=dark] .colab-df-convert:hover {\n",
              "      background-color: #434B5C;\n",
              "      box-shadow: 0px 1px 3px 1px rgba(0, 0, 0, 0.15);\n",
              "      filter: drop-shadow(0px 1px 2px rgba(0, 0, 0, 0.3));\n",
              "      fill: #FFFFFF;\n",
              "    }\n",
              "  </style>\n",
              "\n",
              "      <script>\n",
              "        const buttonEl =\n",
              "          document.querySelector('#df-4ea099ae-48f6-4cf3-ad56-2fb8f127caf0 button.colab-df-convert');\n",
              "        buttonEl.style.display =\n",
              "          google.colab.kernel.accessAllowed ? 'block' : 'none';\n",
              "\n",
              "        async function convertToInteractive(key) {\n",
              "          const element = document.querySelector('#df-4ea099ae-48f6-4cf3-ad56-2fb8f127caf0');\n",
              "          const dataTable =\n",
              "            await google.colab.kernel.invokeFunction('convertToInteractive',\n",
              "                                                     [key], {});\n",
              "          if (!dataTable) return;\n",
              "\n",
              "          const docLinkHtml = 'Like what you see? Visit the ' +\n",
              "            '<a target=\"_blank\" href=https://colab.research.google.com/notebooks/data_table.ipynb>data table notebook</a>'\n",
              "            + ' to learn more about interactive tables.';\n",
              "          element.innerHTML = '';\n",
              "          dataTable['output_type'] = 'display_data';\n",
              "          await google.colab.output.renderOutput(dataTable, element);\n",
              "          const docLink = document.createElement('div');\n",
              "          docLink.innerHTML = docLinkHtml;\n",
              "          element.appendChild(docLink);\n",
              "        }\n",
              "      </script>\n",
              "    </div>\n",
              "  </div>\n",
              "  "
            ]
          },
          "metadata": {},
          "execution_count": 25
        }
      ]
    },
    {
      "cell_type": "code",
      "source": [
        "# 説明変数と目的変数に分離し、numpyに変換\n",
        "x = df.iloc[:, :-1].values\n",
        "t = df.iloc[:, -1].values"
      ],
      "metadata": {
        "id": "VsSvjGpC3iLt"
      },
      "execution_count": 26,
      "outputs": []
    },
    {
      "cell_type": "code",
      "source": [
        "# 学習データと検証データに分離する\n",
        "from sklearn.model_selection import train_test_split\n",
        "x_train, x_test, t_train, t_test = train_test_split(x, t, test_size = 0.3, random_state = 0)"
      ],
      "metadata": {
        "id": "8KAdKDmX3xCL"
      },
      "execution_count": 27,
      "outputs": []
    },
    {
      "cell_type": "markdown",
      "source": [
        "## 2) 機械学習の実行"
      ],
      "metadata": {
        "id": "bDU-yZhWCuCM"
      }
    },
    {
      "cell_type": "code",
      "source": [
        "# 機械学習　分類問題\n",
        "# ①　モデルの読み込み　(モデルの設計図)\n",
        "from sklearn.linear_model import LinearRegression\n",
        "# ②　モデルのインタンス化 (モデルの活性化)\n",
        "model = LinearRegression()\n",
        "# ③　モデルの学習\n",
        "model.fit(x_train, t_train)"
      ],
      "metadata": {
        "id": "MEN2w4De31rN"
      },
      "execution_count": null,
      "outputs": []
    },
    {
      "cell_type": "code",
      "source": [
        "model.coef_"
      ],
      "metadata": {
        "id": "R1qLnw4z4TpO"
      },
      "execution_count": null,
      "outputs": []
    },
    {
      "cell_type": "code",
      "source": [
        "# モデルによる予測値\n",
        "pred = model.predict(x_test)\n",
        "pred"
      ],
      "metadata": {
        "colab": {
          "base_uri": "https://localhost:8080/"
        },
        "id": "oO4pbYys4Us4",
        "outputId": "dc991e98-0444-4cd1-f74b-6850ab9554df"
      },
      "execution_count": 48,
      "outputs": [
        {
          "output_type": "execute_result",
          "data": {
            "text/plain": [
              "array([ 0.17707448,  0.81987521,  0.97355174,  0.80617575,  0.95612818,\n",
              "        0.91307933,  1.05724419,  0.97540301,  1.1058957 ,  1.07483318,\n",
              "        0.70965109,  0.78509148,  1.27354914,  0.69950266,  0.63289002,\n",
              "        0.18562744,  1.00352805,  0.10225937,  0.10320654, -0.17380385,\n",
              "        0.03629234,  0.33200236,  0.82884983,  0.97922469,  0.23465956,\n",
              "        0.92776417,  1.09722388,  0.36150762,  0.93493157,  0.02001526,\n",
              "        1.0277572 ,  0.15535754,  0.66951523,  0.41607532,  1.29633559,\n",
              "        0.10850394,  0.7200238 ,  0.32102958,  0.79752284, -0.01729324,\n",
              "        0.42169619,  1.11996192,  0.49338782,  1.17670755,  0.58756646,\n",
              "       -0.28051446,  1.36245457,  0.81742217,  0.99115109, -0.03571308,\n",
              "        0.47931952,  0.65447029,  0.1667618 ,  0.92046487,  0.96293178,\n",
              "        0.92058183,  1.07412067,  0.8019246 ,  0.8443541 , -0.01532489,\n",
              "        0.08743167,  0.17269978,  1.13609622,  0.8923627 ,  0.03085382,\n",
              "        0.72910668, -0.59037602, -0.2485057 ,  0.1487008 ,  1.01646111,\n",
              "        0.59519944, -0.02198971,  0.92361728,  0.43947825, -0.10157675,\n",
              "        0.86875273,  1.15704368,  0.78222947,  0.95536067,  1.17714064,\n",
              "        0.41554468, -0.25852159, -0.19607567,  0.99187677,  0.33627283,\n",
              "        0.90207902,  1.13981164,  1.34877262,  0.10652913, -0.58833085,\n",
              "        1.1347263 ,  0.49704321,  0.54068318, -0.27331179,  0.81148532,\n",
              "        0.99738389, -0.23345338,  0.70211554,  0.86427271,  1.02925004,\n",
              "        1.58487104,  1.02148237,  0.93609654,  0.75913895, -0.04400875,\n",
              "        1.2533906 , -0.06000442,  0.91234652,  0.66632104,  0.57375423,\n",
              "        0.8499899 ,  0.02839095,  0.17033913,  0.8141873 ,  1.03437722,\n",
              "        0.74466823,  0.7113263 ,  0.94653095,  0.80222119,  1.02153024,\n",
              "        0.66237248,  1.01594392,  0.43679785,  0.74789093, -0.19903041,\n",
              "        0.65501295,  0.60461247,  1.03509072,  1.0714164 ,  1.10986902,\n",
              "        0.22048285,  0.97171658,  1.06239166,  0.71545091,  0.62471803,\n",
              "        1.23397426,  0.61382681,  0.59866054, -0.19389015,  1.14241766,\n",
              "        0.95531294,  0.89800084, -0.21499951,  0.8414733 ,  0.9692808 ,\n",
              "        0.01594877,  0.86375817,  0.60567631,  0.92081688,  0.91716028,\n",
              "        0.89616138,  0.84998133,  0.57055434,  0.75522409,  1.15998903,\n",
              "        0.35843987,  0.73331178,  0.3941945 ,  1.00180034, -0.15803978,\n",
              "       -0.16626932,  0.95455125,  0.79430627,  0.16382128,  1.05315389,\n",
              "        0.069403  ,  0.34762512,  0.18816314,  0.70466686,  0.90265307,\n",
              "        1.12610922])"
            ]
          },
          "metadata": {},
          "execution_count": 48
        }
      ]
    },
    {
      "cell_type": "code",
      "source": [
        "x1 = x_test[0]\n",
        "x1"
      ],
      "metadata": {
        "colab": {
          "base_uri": "https://localhost:8080/"
        },
        "id": "nu6rQvWi5zWM",
        "outputId": "1ca05869-7d6d-4dc9-b5cb-c7e8fb8312c1"
      },
      "execution_count": 37,
      "outputs": [
        {
          "output_type": "execute_result",
          "data": {
            "text/plain": [
              "array([1.340e+01, 2.052e+01, 8.864e+01, 5.567e+02, 1.106e-01, 1.469e-01,\n",
              "       1.445e-01, 8.172e-02, 2.116e-01, 7.325e-02, 3.906e-01, 9.306e-01,\n",
              "       3.093e+00, 3.367e+01, 5.414e-03, 2.265e-02, 3.452e-02, 1.334e-02,\n",
              "       1.705e-02, 4.005e-03, 1.641e+01, 2.966e+01, 1.133e+02, 8.444e+02,\n",
              "       1.574e-01, 3.856e-01, 5.106e-01, 2.051e-01, 3.585e-01, 1.109e-01])"
            ]
          },
          "metadata": {},
          "execution_count": 37
        }
      ]
    },
    {
      "cell_type": "code",
      "source": [
        "model.predict([x1])"
      ],
      "metadata": {
        "colab": {
          "base_uri": "https://localhost:8080/"
        },
        "id": "pB1i14sa55cs",
        "outputId": "731c61b2-9b9d-4bff-f820-731e6fa5f7d7"
      },
      "execution_count": 39,
      "outputs": [
        {
          "output_type": "execute_result",
          "data": {
            "text/plain": [
              "array([0.17707448])"
            ]
          },
          "metadata": {},
          "execution_count": 39
        }
      ]
    },
    {
      "cell_type": "code",
      "source": [
        "t_test[0]"
      ],
      "metadata": {
        "colab": {
          "base_uri": "https://localhost:8080/"
        },
        "id": "xToqpezV6Aba",
        "outputId": "aa102ff1-e292-484d-b073-d8731d5e4a70"
      },
      "execution_count": 40,
      "outputs": [
        {
          "output_type": "execute_result",
          "data": {
            "text/plain": [
              "0.0"
            ]
          },
          "metadata": {},
          "execution_count": 40
        }
      ]
    },
    {
      "cell_type": "code",
      "source": [
        "def f(x):\n",
        "    res = model.predict([x])\n",
        "    return(res)"
      ],
      "metadata": {
        "id": "HD2oHZkr6D4p"
      },
      "execution_count": 45,
      "outputs": []
    },
    {
      "cell_type": "code",
      "source": [
        "f(x_test[0])[0]"
      ],
      "metadata": {
        "colab": {
          "base_uri": "https://localhost:8080/"
        },
        "id": "TJyWCX0H6MZT",
        "outputId": "8b78b1a3-0a65-4e2d-e7fe-0f3556c79ab2"
      },
      "execution_count": 47,
      "outputs": [
        {
          "output_type": "execute_result",
          "data": {
            "text/plain": [
              "0.17707447849546476"
            ]
          },
          "metadata": {},
          "execution_count": 47
        }
      ]
    },
    {
      "cell_type": "markdown",
      "source": [
        "## 3) 分類問題の評価"
      ],
      "metadata": {
        "id": "8BPFyPeYCxpZ"
      }
    },
    {
      "cell_type": "code",
      "source": [
        "# 2値分類の結果を評価する関数\n",
        "def showscores(trueval, predval):\n",
        "    # trueval: 検証データの観測値 (0 or 1), predval: 予測モデルによる予測値 (0〜1程度の実数)\n",
        "    !pip install lifelines --quiet\n",
        "    from lifelines.utils import concordance_index    \n",
        "    from sklearn.metrics import confusion_matrix\n",
        "    import seaborn as sns\n",
        "    from sklearn.metrics import accuracy_score\n",
        "    from sklearn.metrics import precision_score\n",
        "    from sklearn.metrics import recall_score\n",
        "    from sklearn.metrics import f1_score\n",
        "    from sklearn.metrics import roc_auc_score\n",
        "\n",
        "    # 端数処理\n",
        "    import math\n",
        "    def my_round(val, digit=0):\n",
        "        p = 10 ** digit\n",
        "        try:\n",
        "            ans = (val * p * 2 + 1) // 2 / p\n",
        "        except:\n",
        "            ans = 'N/A'\n",
        "        return ans      \n",
        "\n",
        "    # predintが整数の場合、AUCが低く出ることの警告文\n",
        "    if np.array(predval).flatten()[0].is_integer():\n",
        "        print('')\n",
        "        print('◇ 予測値が整数であったため、ROCのAUC と C-index が実際よりも低値に出ることに注意。')\n",
        "        print('')     \n",
        "    else: \n",
        "        pass\n",
        "    \n",
        "    # 目的変数を整数にする\n",
        "    round = [1 if p >= 0.5 else 0 for p in predval]   \n",
        "\n",
        "    # 混同行列の作成\n",
        "    cm = confusion_matrix(trueval, round)\n",
        "    tn, fp, fn, tp = confusion_matrix(trueval, round).ravel()\n",
        "    confmat = [[tp, fp], [fn, tn]]\n",
        "\n",
        "    # 各種評価値の計算\n",
        "    acc = accuracy_score(trueval, round)\n",
        "    prec = precision_score(trueval, round)\n",
        "    rec = recall_score(trueval, round)\n",
        "    f1 = f1_score(trueval, round)\n",
        "    spec = tn/(tn + fp)\n",
        "\n",
        "    auc = roc_auc_score(trueval, predval)\n",
        "    cind = concordance_index(trueval, predval)\n",
        "\n",
        "    # 出力　: ( 1, Accuracy, 2. Precision 3. Recall 4. f1-score 5. Specificity, 6. AUCofROC, 7. C-index, 8. 混同行列)\n",
        "    # res = np.array([acc, prec, rec, f1, spec, auc, cind, [[tp, fp], [fn, tn]] ])\n",
        "\n",
        "    # ヒートマップ\n",
        "    hm = sns.heatmap(confmat, annot=True, cmap='Blues')\n",
        "\n",
        "    print('■ 2値分類の予測結果の評価')\n",
        "    print('')\n",
        "    print('□　検証データのサンプル数: ' + str(len(trueval)))\n",
        "    print('')\n",
        "    print('□　混同行列: ')\n",
        "    print(pd.DataFrame(confmat,  index=['Predict True', 'Predict False'], columns=['Actual True', 'Actual False'] ))\n",
        "    print('')\n",
        "    print('   Accuracy(正解率): ' + str(my_round(acc,5)) + '   precision(精度): ' + str(my_round(prec,5)) + '    recall(再現率): ' + str(my_round(rec, 5)))\n",
        "    print('   f1-score(f1値): ' + str(my_round(f1,5)) + '   specificity(特異度): ' + str(my_round(spec,5)))  \n",
        "    print('')\n",
        "    print('   AUC of ROC: ' + str(my_round(auc)) + '    C-index (c-Statistics): ' + str(my_round(cind,5)))\n",
        "    print('')\n",
        "    print('□　混同行列のヒートマップ:')\n",
        "    plt.show()\n",
        "    print('')"
      ],
      "metadata": {
        "id": "ZLmDpojsC4R-"
      },
      "execution_count": null,
      "outputs": []
    },
    {
      "cell_type": "code",
      "source": [
        "showscores(t_test, pred)"
      ],
      "metadata": {
        "colab": {
          "base_uri": "https://localhost:8080/",
          "height": 620
        },
        "id": "AoBVbIPj4cA9",
        "outputId": "79a8d9cd-5a72-4714-82f8-1dd004647283"
      },
      "execution_count": 33,
      "outputs": [
        {
          "output_type": "stream",
          "name": "stdout",
          "text": [
            "\u001b[2K     \u001b[90m━━━━━━━━━━━━━━━━━━━━━━━━━━━━━━━━━━━━━━\u001b[0m \u001b[32m349.7/349.7 KB\u001b[0m \u001b[31m12.7 MB/s\u001b[0m eta \u001b[36m0:00:00\u001b[0m\n",
            "\u001b[?25h  Preparing metadata (setup.py) ... \u001b[?25l\u001b[?25hdone\n",
            "\u001b[2K     \u001b[90m━━━━━━━━━━━━━━━━━━━━━━━━━━━━━━━━━━━━━━━━\u001b[0m \u001b[32m77.1/77.1 KB\u001b[0m \u001b[31m10.5 MB/s\u001b[0m eta \u001b[36m0:00:00\u001b[0m\n",
            "\u001b[?25h  Building wheel for autograd-gamma (setup.py) ... \u001b[?25l\u001b[?25hdone\n",
            "■ 2値分類の予測結果の評価\n",
            "\n",
            "□　検証データのサンプル数: 171\n",
            "\n",
            "□　混同行列: \n",
            "               Actual True  Actual False\n",
            "Predict True           108             5\n",
            "Predict False            0            58\n",
            "\n",
            "   Accuracy(正解率): 0.97076   precision(精度): 0.95575    recall(再現率): 1.0\n",
            "   f1-score(f1値): 0.97738   specificity(特異度): 0.92063\n",
            "\n",
            "   AUC of ROC: 1.0    C-index (c-Statistics): 0.99574\n",
            "\n",
            "□　混同行列のヒートマップ:\n"
          ]
        },
        {
          "output_type": "display_data",
          "data": {
            "text/plain": [
              "<Figure size 432x288 with 2 Axes>"
            ],
            "image/png": "[encoded data removed]"
          },
          "metadata": {
            "needs_background": "light"
          }
        },
        {
          "output_type": "stream",
          "name": "stdout",
          "text": [
            "\n"
          ]
        }
      ]
    }
  ]
}