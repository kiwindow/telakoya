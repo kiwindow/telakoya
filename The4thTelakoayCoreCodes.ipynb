{
  "nbformat": 4,
  "nbformat_minor": 0,
  "metadata": {
    "colab": {
      "provenance": []
    },
    "kernelspec": {
      "name": "python3",
      "display_name": "Python 3"
    },
    "language_info": {
      "name": "python"
    }
  },
  "cells": [
    {
      "cell_type": "code",
      "execution_count": null,
      "metadata": {
        "id": "vA4CP3ge3qQw"
      },
      "outputs": [],
      "source": [
        "import numpy as np  \n",
        "import pandas as pd  \n",
        "import matplotlib.pyplot as plt  \n",
        "%matplotlib inline"
      ]
    },
    {
      "cell_type": "markdown",
      "source": [
        "## 1. 回帰問題"
      ],
      "metadata": {
        "id": "c-cFnAt665G2"
      }
    },
    {
      "cell_type": "code",
      "source": [
        "df = pd.read_csv('/content/drive/MyDrive/Telakoya/tela4/data/boston.csv')\n",
        "df"
      ],
      "metadata": {
        "id": "tsVXzAOd3yyo"
      },
      "execution_count": null,
      "outputs": []
    },
    {
      "cell_type": "code",
      "source": [
        "x = df.iloc[:, :-1].values\n",
        "t = df.iloc[:, -1].values"
      ],
      "metadata": {
        "id": "Pq5hTL5d31PI"
      },
      "execution_count": null,
      "outputs": []
    },
    {
      "cell_type": "code",
      "source": [
        "from sklearn.model_selection import train_test_split\n",
        "x_train, x_test, t_train, t_test = train_test_split(x, t, test_size = 0.3, random_state = 0)"
      ],
      "metadata": {
        "id": "cGjNCoT-33Gx"
      },
      "execution_count": null,
      "outputs": []
    },
    {
      "cell_type": "code",
      "source": [
        "from sklearn.linear_model import LinearRegression\n",
        "model = LinearRegression()\n",
        "model.fit(x_train, t_train)"
      ],
      "metadata": {
        "id": "Qp_zgk_235VO"
      },
      "execution_count": null,
      "outputs": []
    },
    {
      "cell_type": "code",
      "source": [
        "model.score(x_test, t_test)"
      ],
      "metadata": {
        "id": "trYEdtMF4A_e"
      },
      "execution_count": null,
      "outputs": []
    },
    {
      "cell_type": "code",
      "source": [
        "pred = model.predict(x_test)\n",
        "pred"
      ],
      "metadata": {
        "id": "nK7FEX-R4C5g"
      },
      "execution_count": null,
      "outputs": []
    },
    {
      "cell_type": "code",
      "source": [
        "plt.scatter(pred, t_test)"
      ],
      "metadata": {
        "id": "DQZDuXjb4FdN"
      },
      "execution_count": null,
      "outputs": []
    },
    {
      "cell_type": "code",
      "source": [
        "import pickle\n",
        "with open('/content/drive/MyDrive/Telakoya/tela4/model/boston.pickle', mode = 'wb') as f:\n",
        "    pickle.dump(model, f)"
      ],
      "metadata": {
        "id": "HC4KaSo34H6R"
      },
      "execution_count": null,
      "outputs": []
    },
    {
      "cell_type": "code",
      "source": [
        "with open('/content/drive/MyDrive/Telakoya/tela4/model/boston.pickle', mode = 'rb') as f:\n",
        "    model2 = pickle.load(f)"
      ],
      "metadata": {
        "id": "dPZ02sLW4H4D"
      },
      "execution_count": null,
      "outputs": []
    },
    {
      "cell_type": "code",
      "source": [
        "pred2 = model2.predict(x_test)\n",
        "pred2"
      ],
      "metadata": {
        "id": "CWnin-M94H13"
      },
      "execution_count": null,
      "outputs": []
    },
    {
      "cell_type": "code",
      "source": [
        "pred == pred2"
      ],
      "metadata": {
        "id": "iD3lGlza60op"
      },
      "execution_count": null,
      "outputs": []
    },
    {
      "cell_type": "markdown",
      "source": [
        "## 2. 分類問題"
      ],
      "metadata": {
        "id": "2zbTJ4Mg67fd"
      }
    },
    {
      "cell_type": "code",
      "source": [
        "df = pd.read_csv('/content/drive/MyDrive/Telakoya/tela4/data/breast.csv')\n",
        "df"
      ],
      "metadata": {
        "id": "TJg1gt1g68dd"
      },
      "execution_count": null,
      "outputs": []
    },
    {
      "cell_type": "code",
      "source": [
        "x = df.iloc[:, :-1].values\n",
        "t = df.iloc[:, -1].values"
      ],
      "metadata": {
        "id": "jGwtyRvr6_cc"
      },
      "execution_count": null,
      "outputs": []
    },
    {
      "cell_type": "code",
      "source": [
        "from sklearn.model_selection import train_test_split\n",
        "x_train, x_test, t_train, t_test = train_test_split(x, t, test_size = 0.3, random_state = 0)"
      ],
      "metadata": {
        "id": "gXFhfwnn6_Yz"
      },
      "execution_count": null,
      "outputs": []
    },
    {
      "cell_type": "code",
      "source": [
        "import seaborn as sns\n",
        "sns.displot(t)"
      ],
      "metadata": {
        "id": "1iwUQAHY6_Vz"
      },
      "execution_count": null,
      "outputs": []
    },
    {
      "cell_type": "code",
      "source": [
        "from sklearn.linear_model import LinearRegression\n",
        "model = LinearRegression()\n",
        "model.fit(x_train, t_train)"
      ],
      "metadata": {
        "id": "MBYGDZ0f6_Sa"
      },
      "execution_count": null,
      "outputs": []
    },
    {
      "cell_type": "code",
      "source": [
        "pred = model.predict(x_test)\n",
        "pred"
      ],
      "metadata": {
        "id": "Caj3fu1r7s6g"
      },
      "execution_count": null,
      "outputs": []
    },
    {
      "cell_type": "code",
      "source": [
        "showscores(t_test, pred)"
      ],
      "metadata": {
        "id": "4Hqyp3QD7s2y"
      },
      "execution_count": null,
      "outputs": []
    }
  ]
}