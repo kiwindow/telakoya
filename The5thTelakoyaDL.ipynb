{
  "nbformat": 4,
  "nbformat_minor": 0,
  "metadata": {
    "colab": {
      "provenance": [],
      "collapsed_sections": [
        "dZGzoyVHjdep",
        "mPLwF0d30ck7",
        "n3A62Ym47vXD",
        "x_kzi0ZA7x36",
        "McAGloto9-KO",
        "jAyXVt4cBjHY",
        "XTb0BjxMC58F",
        "jC0-C3hJGjDY",
        "72RpjncYGmuE",
        "xZkDqBp9m9kE",
        "vk_nAALAnRj3",
        "z-YccPmus6cL",
        "H6T1EvGjsUpa",
        "ZwFldizVu3Lw",
        "vdRvP3pzu3Lw",
        "GL_fA49lymZu",
        "AW7ExxKKzg5v",
        "AkmYSXfF3ExU",
        "bLshO9Gr5h4H",
        "6qZWqpGVnSXT",
        "LrBl5lGd6lIv",
        "BqdDeC2Q6o0c",
        "_zIswdNe6xiQ",
        "YmUZIlkv7m-3",
        "5HLmeo_A8Yu7",
        "jMqO20Oa9WsZ",
        "HYXivXvt-D1m",
        "rXAxrNCk-NtS",
        "BQjzHzND-kt8",
        "gH2NERPl-n00",
        "76P20KzQ-qZq",
        "M-Gv27So-tUr",
        "RBUnAOf4-wYG"
      ],
      "machine_shape": "hm",
      "gpuType": "A100"
    },
    "kernelspec": {
      "name": "python3",
      "display_name": "Python 3"
    },
    "language_info": {
      "name": "python"
    },
    "accelerator": "GPU",
    "gpuClass": "standard"
  },
  "cells": [
    {
      "cell_type": "markdown",
      "source": [
        "# ■ 日本腎・血液浄化AI学会主催「よくわかる寺子屋セミナー」\n",
        "\n",
        "# 第5回「深層学習による画像問題」　演習プログラム"
      ],
      "metadata": {
        "id": "7EewZ4vjix3L"
      }
    },
    {
      "cell_type": "markdown",
      "source": [
        "## □ 文責　学術委員会副委員長　岩藤和広"
      ],
      "metadata": {
        "id": "ObWUzCOajAZ-"
      }
    },
    {
      "cell_type": "markdown",
      "source": [
        "# 0. 環境設定"
      ],
      "metadata": {
        "id": "dZGzoyVHjdep"
      }
    },
    {
      "cell_type": "markdown",
      "source": [
        "- MyDriveの中にTelakoya というフォルダーを作成し、その中に tela5 というフォルダーを作成する\n",
        "- フォルダー tela5 の中に model というフォルダーを作る。"
      ],
      "metadata": {
        "id": "mXHT_P34jgR0"
      }
    },
    {
      "cell_type": "markdown",
      "source": [
        "- 最初に、このnotebookをGoogle Driveにmount(Google driveに接続)する。\n",
        "- その方法は、https://github.com/kiwindow/telakoya の中の「Google Colabortoryの使い方」を参照。\n",
        "- 【重要】 mountする前に\n",
        "- 「ランタイム」➡「ランタイムのタイプを変更」➡「ハードウェアアクセラレータ」を「GPU」に切り替えて保存する。\n",
        "- 　これを行わないと、エラーが出たり、計算に長い時間がかかる。\n",
        "- mount出来ると、左のサイドバーに drive というフォルダーが現れる。\n",
        "- もし drive というフォルダーがなければ、次のセルを実行する。"
      ],
      "metadata": {
        "id": "fLeKGSG7Aais"
      }
    },
    {
      "cell_type": "code",
      "source": [
        "# Gogle driveにmountする\n",
        "from google.colab import drive\n",
        "drive.mount('/content/drive')"
      ],
      "metadata": {
        "id": "eAvyB44qA0JL",
        "colab": {
          "base_uri": "https://localhost:8080/"
        },
        "outputId": "e1281544-a31a-4a8f-f8b3-363ad7db4811"
      },
      "execution_count": null,
      "outputs": [
        {
          "output_type": "stream",
          "name": "stdout",
          "text": [
            "Drive already mounted at /content/drive; to attempt to forcibly remount, call drive.mount(\"/content/drive\", force_remount=True).\n"
          ]
        }
      ]
    },
    {
      "cell_type": "code",
      "source": [
        "# 以下のコマンドでどの種類のGPUに接続したかが分かる\n",
        "!nvidia-smi"
      ],
      "metadata": {
        "colab": {
          "base_uri": "https://localhost:8080/"
        },
        "id": "HFw-SoKt4Sy_",
        "outputId": "dbda94c9-f975-4df0-d518-daf5b719d126"
      },
      "execution_count": null,
      "outputs": [
        {
          "output_type": "stream",
          "name": "stdout",
          "text": [
            "Mon May 15 01:02:09 2023       \n",
            "+-----------------------------------------------------------------------------+\n",
            "| NVIDIA-SMI 525.85.12    Driver Version: 525.85.12    CUDA Version: 12.0     |\n",
            "|-------------------------------+----------------------+----------------------+\n",
            "| GPU  Name        Persistence-M| Bus-Id        Disp.A | Volatile Uncorr. ECC |\n",
            "| Fan  Temp  Perf  Pwr:Usage/Cap|         Memory-Usage | GPU-Util  Compute M. |\n",
            "|                               |                      |               MIG M. |\n",
            "|===============================+======================+======================|\n",
            "|   0  NVIDIA A100-SXM...  Off  | 00000000:00:04.0 Off |                    0 |\n",
            "| N/A   32C    P0    46W / 400W |      0MiB / 40960MiB |      0%      Default |\n",
            "|                               |                      |             Disabled |\n",
            "+-------------------------------+----------------------+----------------------+\n",
            "                                                                               \n",
            "+-----------------------------------------------------------------------------+\n",
            "| Processes:                                                                  |\n",
            "|  GPU   GI   CI        PID   Type   Process name                  GPU Memory |\n",
            "|        ID   ID                                                   Usage      |\n",
            "|=============================================================================|\n",
            "|  No running processes found                                                 |\n",
            "+-----------------------------------------------------------------------------+\n"
          ]
        }
      ]
    },
    {
      "cell_type": "markdown",
      "source": [
        "# 1. ライブラリやデータの準備"
      ],
      "metadata": {
        "id": "mPLwF0d30ck7"
      }
    },
    {
      "cell_type": "markdown",
      "source": [
        "## 1) ライブラリの読み込み"
      ],
      "metadata": {
        "id": "n3A62Ym47vXD"
      }
    },
    {
      "cell_type": "markdown",
      "source": [
        "- Tensorflow2のwrapperであるKerasを利用する。\n",
        "- 深層学習はTensorflow2かPyTorchというframeworkを利用するが、どちらもプログラムがやや煩雑。\n",
        "- KerasはTensorflow2を機械学習のsklearnのような書式で書けるようにしたもの。\n",
        "- Tensorflow2は企業などで、PyTorchは研究機関などで、それぞれ利用されることが多い。"
      ],
      "metadata": {
        "id": "ZjTomyr-8qa4"
      }
    },
    {
      "cell_type": "code",
      "source": [
        "# ライブラリの読み込み\n",
        "import tensorflow as tf\n",
        "from tensorflow import keras\n",
        "\n",
        "import numpy as np  # 数値計算のライブラリ\n",
        "import matplotlib.pyplot as plt  # 図示のライブラリ\n",
        "%matplotlib inline"
      ],
      "metadata": {
        "id": "cQlCR_oDj4Fo"
      },
      "execution_count": null,
      "outputs": []
    },
    {
      "cell_type": "markdown",
      "source": [
        "## 2) データの読み込み"
      ],
      "metadata": {
        "id": "x_kzi0ZA7x36"
      }
    },
    {
      "cell_type": "markdown",
      "source": [
        "- mnist と呼ばれる手書き数字(0〜9)の画像データを利用する。\n",
        "- mnist には、学習データが60,000字、検証データが10,000字ある。\n",
        "- データは、28×28個の整数(0〜255)からなる行列で形成されている。\n",
        "- 一つ一つの文字には、0〜9の正解データも付いている。"
      ],
      "metadata": {
        "id": "xPtB14Uz72tR"
      }
    },
    {
      "cell_type": "code",
      "source": [
        "# データの読み込み\n",
        "from keras.datasets import mnist\n",
        "(x_train, t_train), (x_test, t_test) = mnist.load_data()"
      ],
      "metadata": {
        "colab": {
          "base_uri": "https://localhost:8080/"
        },
        "id": "SLeN1gZl7oNA",
        "outputId": "d062a008-5023-439f-e422-3331435ef6e7"
      },
      "execution_count": null,
      "outputs": [
        {
          "output_type": "stream",
          "name": "stdout",
          "text": [
            "Downloading data from https://storage.googleapis.com/tensorflow/tf-keras-datasets/mnist.npz\n",
            "11490434/11490434 [==============================] - 0s 0us/step\n"
          ]
        }
      ]
    },
    {
      "cell_type": "code",
      "source": [
        "# データ数の確認\n",
        "len(x_train)"
      ],
      "metadata": {
        "colab": {
          "base_uri": "https://localhost:8080/"
        },
        "id": "BOA59-Wt8m04",
        "outputId": "c9c784b0-45be-44a8-ccb4-2ec8c9bbb605"
      },
      "execution_count": null,
      "outputs": [
        {
          "output_type": "execute_result",
          "data": {
            "text/plain": [
              "60000"
            ]
          },
          "metadata": {},
          "execution_count": 5
        }
      ]
    },
    {
      "cell_type": "code",
      "source": [
        "len(x_test)"
      ],
      "metadata": {
        "colab": {
          "base_uri": "https://localhost:8080/"
        },
        "id": "kDtmMaDX9pkN",
        "outputId": "d5dae281-286f-489d-884b-194616df5100"
      },
      "execution_count": null,
      "outputs": [
        {
          "output_type": "execute_result",
          "data": {
            "text/plain": [
              "10000"
            ]
          },
          "metadata": {},
          "execution_count": 6
        }
      ]
    },
    {
      "cell_type": "code",
      "source": [
        "# データの形の確認\n",
        "x_train.shape"
      ],
      "metadata": {
        "colab": {
          "base_uri": "https://localhost:8080/"
        },
        "id": "cALwBSRa-epL",
        "outputId": "f03eeb2f-9a06-4069-af00-a39d679e6f35"
      },
      "execution_count": null,
      "outputs": [
        {
          "output_type": "execute_result",
          "data": {
            "text/plain": [
              "(60000, 28, 28)"
            ]
          },
          "metadata": {},
          "execution_count": 11
        }
      ]
    },
    {
      "cell_type": "code",
      "source": [
        "x_test.shape"
      ],
      "metadata": {
        "colab": {
          "base_uri": "https://localhost:8080/"
        },
        "id": "ICFGYe3y-i0f",
        "outputId": "7ef7f971-fc2d-4403-c5a4-4c78b912a842"
      },
      "execution_count": null,
      "outputs": [
        {
          "output_type": "execute_result",
          "data": {
            "text/plain": [
              "(10000, 28, 28)"
            ]
          },
          "metadata": {},
          "execution_count": 12
        }
      ]
    },
    {
      "cell_type": "code",
      "source": [
        "# データの中身の確認\n",
        "x_train[0]"
      ],
      "metadata": {
        "id": "_ABj_HLI9rDW"
      },
      "execution_count": null,
      "outputs": []
    },
    {
      "cell_type": "code",
      "source": [
        "t_train[0]"
      ],
      "metadata": {
        "colab": {
          "base_uri": "https://localhost:8080/"
        },
        "id": "AcZdzxPB9vsc",
        "outputId": "1ad937c9-16f6-42bc-f49e-04db77c6cfb8"
      },
      "execution_count": null,
      "outputs": [
        {
          "output_type": "execute_result",
          "data": {
            "text/plain": [
              "5"
            ]
          },
          "metadata": {},
          "execution_count": 8
        }
      ]
    },
    {
      "cell_type": "code",
      "source": [
        "# データの図示\n",
        "plt.imshow(x_train[0])"
      ],
      "metadata": {
        "colab": {
          "base_uri": "https://localhost:8080/",
          "height": 448
        },
        "id": "Ndlg8jTg9zNe",
        "outputId": "0ff30ec0-19b0-430b-c841-baf82f13099a"
      },
      "execution_count": null,
      "outputs": [
        {
          "output_type": "execute_result",
          "data": {
            "text/plain": [
              "<matplotlib.image.AxesImage at 0x7fb4555591e0>"
            ]
          },
          "metadata": {},
          "execution_count": 10
        },
        {
          "output_type": "display_data",
          "data": {
            "text/plain": [
              "<Figure size 640x480 with 1 Axes>"
            ],
            "image/png": "[encoded data removed]"
          },
          "metadata": {}
        }
      ]
    },
    {
      "cell_type": "markdown",
      "source": [
        "## 3) 画像データの正規化・浮動小数点化とChannelの次元の付加"
      ],
      "metadata": {
        "id": "McAGloto9-KO"
      }
    },
    {
      "cell_type": "markdown",
      "source": [
        "- 整数のデータを、0〜1の浮動小数点(float32)に正規化する。\n",
        "- 個々のデータの形を、(縦の数、横の数、Channel)にする。"
      ],
      "metadata": {
        "id": "v0xMXivI-Emt"
      }
    },
    {
      "cell_type": "code",
      "source": [
        "# 画像データの正規化(0〜1)と小数化(float32)\n",
        "x_train = x_train.astype('float32')/255\n",
        "x_test = x_test.astype('float32')/255"
      ],
      "metadata": {
        "id": "Vk_10Lim96bB"
      },
      "execution_count": null,
      "outputs": []
    },
    {
      "cell_type": "code",
      "source": [
        "# 正規化とfloat32になったことの確認\n",
        "x_train[0]"
      ],
      "metadata": {
        "id": "iL4nK7nq_yaI"
      },
      "execution_count": null,
      "outputs": []
    },
    {
      "cell_type": "markdown",
      "source": [
        "https://numpy.org/doc/stable/reference/generated/numpy.expand_dims.html"
      ],
      "metadata": {
        "id": "4vWiNdvOCsGj"
      }
    },
    {
      "cell_type": "code",
      "source": [
        "# 個々のデータの形を 28 x 28 x 1 とする (channelの次元を最後に加える)\n",
        "x_train = np.expand_dims(x_train, -1)\n",
        "x_test = np.expand_dims(x_test, -1)"
      ],
      "metadata": {
        "id": "1EHOPseiANMJ"
      },
      "execution_count": null,
      "outputs": []
    },
    {
      "cell_type": "code",
      "source": [
        "# データの形の確認\n",
        "x_train.shape"
      ],
      "metadata": {
        "colab": {
          "base_uri": "https://localhost:8080/"
        },
        "id": "_fJWaD9GA6QV",
        "outputId": "8c9c53e3-340f-4020-b62e-2a9fa32b3375"
      },
      "execution_count": null,
      "outputs": [
        {
          "output_type": "execute_result",
          "data": {
            "text/plain": [
              "(60000, 28, 28, 1)"
            ]
          },
          "metadata": {},
          "execution_count": 18
        }
      ]
    },
    {
      "cell_type": "code",
      "source": [
        "x_train[0].shape"
      ],
      "metadata": {
        "colab": {
          "base_uri": "https://localhost:8080/"
        },
        "id": "mDq2k1LUBAcY",
        "outputId": "608ec991-f748-409e-e909-38ed007c1166"
      },
      "execution_count": null,
      "outputs": [
        {
          "output_type": "execute_result",
          "data": {
            "text/plain": [
              "(28, 28, 1)"
            ]
          },
          "metadata": {},
          "execution_count": 19
        }
      ]
    },
    {
      "cell_type": "markdown",
      "source": [
        "## 4) 正解データをOne Hot vectorにする"
      ],
      "metadata": {
        "id": "jAyXVt4cBjHY"
      }
    },
    {
      "cell_type": "markdown",
      "source": [
        "https://keras.io/ja/utils/#to_categorical"
      ],
      "metadata": {
        "id": "CSrCPfq9CgwY"
      }
    },
    {
      "cell_type": "markdown",
      "source": [
        "- モデルの損失関数が Categorical Crossentropy で、分類結果毎の確率が出る場合、正解データを One Hot vectorにする必要がある。"
      ],
      "metadata": {
        "id": "o4koUTPYGILG"
      }
    },
    {
      "cell_type": "code",
      "source": [
        "from keras.utils import to_categorical\n",
        "t_train = to_categorical(t_train, 10)\n",
        "t_test = to_categorical(t_test, 10)"
      ],
      "metadata": {
        "id": "HptFrU1eBGhw"
      },
      "execution_count": null,
      "outputs": []
    },
    {
      "cell_type": "code",
      "source": [
        "# One Hot vectorになったことの確認\n",
        "t_train[0]"
      ],
      "metadata": {
        "colab": {
          "base_uri": "https://localhost:8080/"
        },
        "id": "zcbMvdQhB6bp",
        "outputId": "04fbdca9-47e9-4da2-8d62-d70def57887c"
      },
      "execution_count": null,
      "outputs": [
        {
          "output_type": "execute_result",
          "data": {
            "text/plain": [
              "array([0., 0., 0., 0., 0., 1., 0., 0., 0., 0.], dtype=float32)"
            ]
          },
          "metadata": {},
          "execution_count": 21
        }
      ]
    },
    {
      "cell_type": "markdown",
      "source": [
        "# 2. 三層のPerceptronによる画像分類"
      ],
      "metadata": {
        "id": "XTb0BjxMC58F"
      }
    },
    {
      "cell_type": "markdown",
      "source": [
        "## 1) モデルの設計"
      ],
      "metadata": {
        "id": "jC0-C3hJGjDY"
      }
    },
    {
      "cell_type": "markdown",
      "source": [
        "https://www.tensorflow.org/guide/keras/sequential_model?hl=ja"
      ],
      "metadata": {
        "id": "r8geXd-1rnGH"
      }
    },
    {
      "cell_type": "code",
      "source": [
        "# Neural Networkを形成するモジュールの読み込み\n",
        "from keras.models import Sequential\n",
        "from keras.layers import Flatten, Dense, Dropout"
      ],
      "metadata": {
        "id": "jyPw4MYBCG7g"
      },
      "execution_count": null,
      "outputs": []
    },
    {
      "cell_type": "code",
      "source": [
        "# 三層のPerceptronの作製。中間層の活性化関数はRelu、出力層の活性化関数はsoftmaxとする。\n",
        "model = Sequential([\n",
        "    Flatten(input_shape=(28,28,1)),\n",
        "    Dense(512, activation='relu'),\n",
        "    Dropout(0.3),\n",
        "    Dense(10, activation='softmax')\n",
        "])"
      ],
      "metadata": {
        "id": "Lg71_1c3EDty"
      },
      "execution_count": null,
      "outputs": []
    },
    {
      "cell_type": "code",
      "source": [
        "# モデルの構成の確認\n",
        "model.summary()"
      ],
      "metadata": {
        "colab": {
          "base_uri": "https://localhost:8080/"
        },
        "id": "fZiMseJnF9_Y",
        "outputId": "f9316e9a-0f6e-4eb4-f8a8-377f44db2e78"
      },
      "execution_count": null,
      "outputs": [
        {
          "output_type": "stream",
          "name": "stdout",
          "text": [
            "Model: \"sequential\"\n",
            "_________________________________________________________________\n",
            " Layer (type)                Output Shape              Param #   \n",
            "=================================================================\n",
            " flatten (Flatten)           (None, 784)               0         \n",
            "                                                                 \n",
            " dense (Dense)               (None, 512)               401920    \n",
            "                                                                 \n",
            " dropout (Dropout)           (None, 512)               0         \n",
            "                                                                 \n",
            " dense_1 (Dense)             (None, 10)                5130      \n",
            "                                                                 \n",
            "=================================================================\n",
            "Total params: 407,050\n",
            "Trainable params: 407,050\n",
            "Non-trainable params: 0\n",
            "_________________________________________________________________\n"
          ]
        }
      ]
    },
    {
      "cell_type": "markdown",
      "source": [
        "## 2) モデルの学習"
      ],
      "metadata": {
        "id": "72RpjncYGmuE"
      }
    },
    {
      "cell_type": "markdown",
      "source": [
        "https://www.tensorflow.org/guide/keras/train_and_evaluate?hl=ja"
      ],
      "metadata": {
        "id": "L9eYozVzr8yX"
      }
    },
    {
      "cell_type": "markdown",
      "source": [
        "- 損失関数が Categorical Crossentropyの場合、正解データをOne Hot vectorにする必要がある。"
      ],
      "metadata": {
        "id": "kWz541tR1hJX"
      }
    },
    {
      "cell_type": "code",
      "source": [
        "# 人間が読み書きする source code を、機会が読み書きする machine code にコンパイルする。\n",
        "# その際、1) 最適化アルゴリズム、2) 損失関数、3) 評価指標なども設定する。\n",
        "model.compile(optimizer='adam', loss='categorical_crossentropy', metrics=['accuracy'])"
      ],
      "metadata": {
        "id": "O5aziFobGSxg"
      },
      "execution_count": null,
      "outputs": []
    },
    {
      "cell_type": "code",
      "source": [
        "# モデルの学習を実行する。trainとかfitと呼ばれるmethodで実行する。\n",
        "# その際、1) training data : validation dataの比　2) バッチサイズ 3) エポック数も設定する。\n",
        "history = model.fit(x_train, t_train, validation_split = 0.2, batch_size = 128, epochs = 10)"
      ],
      "metadata": {
        "colab": {
          "base_uri": "https://localhost:8080/"
        },
        "id": "MwXzqYLmJYMJ",
        "outputId": "fa0c15a1-b568-4c50-a1bc-9c14f4683753"
      },
      "execution_count": null,
      "outputs": [
        {
          "output_type": "stream",
          "name": "stdout",
          "text": [
            "Epoch 1/10\n",
            "375/375 [==============================] - 7s 4ms/step - loss: 0.3307 - accuracy: 0.9055 - val_loss: 0.1550 - val_accuracy: 0.9548\n",
            "Epoch 2/10\n",
            "375/375 [==============================] - 1s 3ms/step - loss: 0.1452 - accuracy: 0.9573 - val_loss: 0.1130 - val_accuracy: 0.9676\n",
            "Epoch 3/10\n",
            "375/375 [==============================] - 1s 3ms/step - loss: 0.1040 - accuracy: 0.9694 - val_loss: 0.0959 - val_accuracy: 0.9705\n",
            "Epoch 4/10\n",
            "375/375 [==============================] - 1s 3ms/step - loss: 0.0801 - accuracy: 0.9757 - val_loss: 0.0846 - val_accuracy: 0.9745\n",
            "Epoch 5/10\n",
            "375/375 [==============================] - 1s 3ms/step - loss: 0.0632 - accuracy: 0.9810 - val_loss: 0.0848 - val_accuracy: 0.9743\n",
            "Epoch 6/10\n",
            "375/375 [==============================] - 1s 3ms/step - loss: 0.0525 - accuracy: 0.9840 - val_loss: 0.0790 - val_accuracy: 0.9757\n",
            "Epoch 7/10\n",
            "375/375 [==============================] - 1s 3ms/step - loss: 0.0450 - accuracy: 0.9867 - val_loss: 0.0702 - val_accuracy: 0.9783\n",
            "Epoch 8/10\n",
            "375/375 [==============================] - 1s 3ms/step - loss: 0.0387 - accuracy: 0.9884 - val_loss: 0.0705 - val_accuracy: 0.9797\n",
            "Epoch 9/10\n",
            "375/375 [==============================] - 1s 3ms/step - loss: 0.0321 - accuracy: 0.9904 - val_loss: 0.0703 - val_accuracy: 0.9786\n",
            "Epoch 10/10\n",
            "375/375 [==============================] - 1s 3ms/step - loss: 0.0293 - accuracy: 0.9909 - val_loss: 0.0708 - val_accuracy: 0.9802\n"
          ]
        }
      ]
    },
    {
      "cell_type": "code",
      "source": [
        "# 学習過程の図示\n",
        "\n",
        "# Access the training history\n",
        "train_loss = history.history['loss']\n",
        "val_loss = history.history['val_loss']\n",
        "train_accuracy = history.history['accuracy']\n",
        "val_accuracy = history.history['val_accuracy']\n",
        "\n",
        "# Plot of the training and validation loss\n",
        "epochs = np.arange(1, len(train_loss) + 1)\n",
        "\n",
        "plt.figure(figsize=(12, 4))\n",
        "plt.subplot(1, 2, 1)\n",
        "plt.plot(epochs, train_loss, 'b', label='Training Loss')\n",
        "plt.plot(epochs, val_loss, 'r', label='Validation Loss')\n",
        "plt.title('Training and Validation Loss')\n",
        "plt.xlabel('Epochs')\n",
        "plt.ylabel('Loss')\n",
        "plt.legend()\n",
        "\n",
        "# Plot　of the training and validation accuracy\n",
        "plt.subplot(1, 2, 2)\n",
        "plt.plot(epochs, train_accuracy, 'b', label='Training Accuracy')\n",
        "plt.plot(epochs, val_accuracy, 'r', label='Validation Accuracy')\n",
        "plt.title('Training and Validation Accuracy')\n",
        "plt.xlabel('Epochs')\n",
        "plt.ylabel('Accuracy')\n",
        "plt.legend()\n",
        "\n",
        "plt.tight_layout()\n",
        "plt.show()"
      ],
      "metadata": {
        "colab": {
          "base_uri": "https://localhost:8080/",
          "height": 407
        },
        "id": "NzmWekfGRjES",
        "outputId": "4028b566-4430-46ed-fd23-5dd9dbbe7937"
      },
      "execution_count": null,
      "outputs": [
        {
          "output_type": "display_data",
          "data": {
            "text/plain": [
              "<Figure size 1200x400 with 2 Axes>"
            ],
            "image/png": "[encoded data removed]"
          },
          "metadata": {}
        }
      ]
    },
    {
      "cell_type": "markdown",
      "source": [
        "## 3) モデルの検証"
      ],
      "metadata": {
        "id": "xZkDqBp9m9kE"
      }
    },
    {
      "cell_type": "markdown",
      "source": [
        "https://www.tensorflow.org/guide/keras/train_and_evaluate?hl=ja"
      ],
      "metadata": {
        "id": "MUmEEEVkraOm"
      }
    },
    {
      "cell_type": "code",
      "source": [
        "# 予測モデルの精度の検証\n",
        "score = model.evaluate(x_test, t_test, verbose = 0)\n",
        "print('Test loss: ', score[0])\n",
        "print('Test accuracy: ', score[1])"
      ],
      "metadata": {
        "colab": {
          "base_uri": "https://localhost:8080/"
        },
        "id": "2JxeYtJimt1I",
        "outputId": "98fee2f3-d262-4588-9ec9-3509cc8620ac"
      },
      "execution_count": null,
      "outputs": [
        {
          "output_type": "stream",
          "name": "stdout",
          "text": [
            "Test loss:  0.06209327280521393\n",
            "Test accuracy:  0.982200026512146\n"
          ]
        }
      ]
    },
    {
      "cell_type": "markdown",
      "source": [
        "## 4) モデルの保存と復元"
      ],
      "metadata": {
        "id": "vk_nAALAnRj3"
      }
    },
    {
      "cell_type": "markdown",
      "source": [
        "https://www.tensorflow.org/guide/keras/save_and_serialize?hl=ja"
      ],
      "metadata": {
        "id": "0MaCX3hFqyLQ"
      }
    },
    {
      "cell_type": "code",
      "source": [
        "# モデルの保存。HDF5ファイルで保存される。\n",
        "model.save('/content/drive/MyDrive/Telakoya/tela5/model/perceptron.h5')"
      ],
      "metadata": {
        "id": "Lr8Nv90PnE4a"
      },
      "execution_count": null,
      "outputs": []
    },
    {
      "cell_type": "code",
      "source": [
        "# モデルの復元。\n",
        "from keras.models import load_model\n",
        "model2 = load_model('/content/drive/MyDrive/Telakoya/tela5/model/perceptron.h5')"
      ],
      "metadata": {
        "id": "w5X1lX17nl_y"
      },
      "execution_count": null,
      "outputs": []
    },
    {
      "cell_type": "code",
      "source": [
        "# 保存前のモデルによる予測結果\n",
        "pred = model.predict(x_test[0:1])\n",
        "pred"
      ],
      "metadata": {
        "colab": {
          "base_uri": "https://localhost:8080/"
        },
        "id": "NHdyFxH7pdaG",
        "outputId": "ddad5fe8-16e4-4090-9d49-79c1b21b3d60"
      },
      "execution_count": null,
      "outputs": [
        {
          "output_type": "stream",
          "name": "stdout",
          "text": [
            "1/1 [==============================] - 0s 22ms/step\n"
          ]
        },
        {
          "output_type": "execute_result",
          "data": {
            "text/plain": [
              "array([[2.9993055e-09, 8.3699531e-10, 4.2550078e-06, 1.3529074e-04,\n",
              "        2.9455334e-12, 2.1283764e-09, 1.4824101e-12, 9.9985933e-01,\n",
              "        1.3780112e-07, 9.1623264e-07]], dtype=float32)"
            ]
          },
          "metadata": {},
          "execution_count": 40
        }
      ]
    },
    {
      "cell_type": "code",
      "source": [
        "# 復元したモデルによる予測結果\n",
        "pred2 = model2.predict(x_test[0:1])\n",
        "pred2"
      ],
      "metadata": {
        "colab": {
          "base_uri": "https://localhost:8080/"
        },
        "id": "jEuFhwtophvB",
        "outputId": "db027cff-3de0-4d28-91fd-38d6dfe5ad48"
      },
      "execution_count": null,
      "outputs": [
        {
          "output_type": "stream",
          "name": "stdout",
          "text": [
            "1/1 [==============================] - 0s 22ms/step\n"
          ]
        },
        {
          "output_type": "execute_result",
          "data": {
            "text/plain": [
              "array([[2.9993055e-09, 8.3699531e-10, 4.2550078e-06, 1.3529074e-04,\n",
              "        2.9455334e-12, 2.1283764e-09, 1.4824101e-12, 9.9985933e-01,\n",
              "        1.3780112e-07, 9.1623264e-07]], dtype=float32)"
            ]
          },
          "metadata": {},
          "execution_count": 41
        }
      ]
    },
    {
      "cell_type": "markdown",
      "source": [
        "## 補題 Fashion mnistによる画像分類"
      ],
      "metadata": {
        "id": "z-YccPmus6cL"
      }
    },
    {
      "cell_type": "markdown",
      "source": [
        "https://www.tensorflow.org/tutorials/keras/classification?hl=ja"
      ],
      "metadata": {
        "id": "iVcx6xK8tEqd"
      }
    },
    {
      "cell_type": "markdown",
      "source": [
        "- Fashion mnistというデータセットがあり、mnistと同じ構造で作られている。\n",
        "- これまでおこなってきたPerceptronによるモデルで、Fashion mnistも分類できる。\n",
        "- 以下のように、読み込むデータを入れ替えるだけでよい\n"
      ],
      "metadata": {
        "id": "4PVHj9qXtHHR"
      }
    },
    {
      "cell_type": "code",
      "source": [
        "# Gogle driveにmountする。既にmountされていれば不要。\n",
        "from google.colab import drive\n",
        "drive.mount('/content/drive')"
      ],
      "metadata": {
        "colab": {
          "base_uri": "https://localhost:8080/"
        },
        "outputId": "66352cf2-3a40-45d1-ef56-cd7f4d20a7d1",
        "id": "wboziUeOLMy2"
      },
      "execution_count": null,
      "outputs": [
        {
          "output_type": "stream",
          "name": "stdout",
          "text": [
            "Drive already mounted at /content/drive; to attempt to forcibly remount, call drive.mount(\"/content/drive\", force_remount=True).\n"
          ]
        }
      ]
    },
    {
      "cell_type": "code",
      "source": [
        "# Fashion mnistの読み込み\n",
        "import tensorflow\n",
        "from tensorflow import keras\n",
        "from keras.datasets import fashion_mnist\n",
        "(x_train, t_train), (x_test, t_test) = fashion_mnist.load_data()"
      ],
      "metadata": {
        "colab": {
          "base_uri": "https://localhost:8080/"
        },
        "id": "RGLVZ5BXtXEc",
        "outputId": "dd126dda-0e5f-408c-d10d-289698ba8b7b"
      },
      "execution_count": null,
      "outputs": [
        {
          "output_type": "stream",
          "name": "stdout",
          "text": [
            "Downloading data from https://storage.googleapis.com/tensorflow/tf-keras-datasets/train-labels-idx1-ubyte.gz\n",
            "29515/29515 [==============================] - 0s 1us/step\n",
            "Downloading data from https://storage.googleapis.com/tensorflow/tf-keras-datasets/train-images-idx3-ubyte.gz\n",
            "26421880/26421880 [==============================] - 2s 0us/step\n",
            "Downloading data from https://storage.googleapis.com/tensorflow/tf-keras-datasets/t10k-labels-idx1-ubyte.gz\n",
            "5148/5148 [==============================] - 0s 0us/step\n",
            "Downloading data from https://storage.googleapis.com/tensorflow/tf-keras-datasets/t10k-images-idx3-ubyte.gz\n",
            "4422102/4422102 [==============================] - 2s 0us/step\n"
          ]
        }
      ]
    },
    {
      "cell_type": "code",
      "source": [
        "# Fashion mnistのデータの前処理\n",
        "\n",
        "# データの正規化 (0〜1)\n",
        "x_train = x_train.astype('float32')/255\n",
        "x_test = x_test.astype('float32')/255\n",
        "\n",
        "# データの形を 28 x 28 x 1 にする (channelを加える)\n",
        "import numpy as np\n",
        "x_train = np.expand_dims(x_train, -1)\n",
        "x_test = np.expand_dims(x_test, -1)\n",
        "\n",
        "# 正解データをone hot vectorにする\n",
        "t_train = keras.utils.to_categorical(t_train, 10)\n",
        "t_test = keras.utils.to_categorical(t_test, 10)\n",
        "\n",
        "# 10種類の画像\n",
        "class_names = ['T-shirt/top', 'Trouser', 'Pullover', 'Dress', 'Coat',\n",
        "               'Sandal', 'Shirt', 'Sneaker', 'Bag', 'Ankle boot']"
      ],
      "metadata": {
        "id": "3Af5Zv00tinA"
      },
      "execution_count": null,
      "outputs": []
    },
    {
      "cell_type": "code",
      "source": [
        "# 最初の10個の画像の図示\n",
        "for i in range(10):\n",
        "    plt.subplot(2, 5, i+1)\n",
        "    plt.title('Label: ' + str(i))\n",
        "    plt.imshow(x_train[i])"
      ],
      "metadata": {
        "colab": {
          "base_uri": "https://localhost:8080/",
          "height": 370
        },
        "id": "2Y23AlfwtvS7",
        "outputId": "71fc9d4a-98e3-4f26-facd-a0a173f24099"
      },
      "execution_count": null,
      "outputs": [
        {
          "output_type": "display_data",
          "data": {
            "text/plain": [
              "<Figure size 640x480 with 10 Axes>"
            ],
            "image/png": "[encoded data removed]"
          },
          "metadata": {}
        }
      ]
    },
    {
      "cell_type": "code",
      "source": [
        "# Neural Networkを形成するモジュールの読み込み\n",
        "from keras.models import Sequential\n",
        "from keras.layers import Flatten, Dense, Dropout\n",
        "\n",
        "# 三層のPerceptronの作製。中間層の活性化関数はRelu、出力層の活性化関数はsoftmaxとする。\n",
        "model = Sequential([\n",
        "    Flatten(input_shape=(28,28,1)),\n",
        "    Dense(512, activation='relu'),\n",
        "    Dropout(0.3),\n",
        "    Dense(10, activation='softmax')\n",
        "])\n",
        "\n",
        "# モデルの構成の確認\n",
        "model.summary()"
      ],
      "metadata": {
        "id": "I1yoLwucf9PT",
        "colab": {
          "base_uri": "https://localhost:8080/"
        },
        "outputId": "7519eed6-3431-4aaa-e69d-37c64ba7a947"
      },
      "execution_count": null,
      "outputs": [
        {
          "output_type": "stream",
          "name": "stdout",
          "text": [
            "Model: \"sequential_1\"\n",
            "_________________________________________________________________\n",
            " Layer (type)                Output Shape              Param #   \n",
            "=================================================================\n",
            " flatten_1 (Flatten)         (None, 784)               0         \n",
            "                                                                 \n",
            " dense_2 (Dense)             (None, 512)               401920    \n",
            "                                                                 \n",
            " dropout_4 (Dropout)         (None, 512)               0         \n",
            "                                                                 \n",
            " dense_3 (Dense)             (None, 10)                5130      \n",
            "                                                                 \n",
            "=================================================================\n",
            "Total params: 407,050\n",
            "Trainable params: 407,050\n",
            "Non-trainable params: 0\n",
            "_________________________________________________________________\n"
          ]
        }
      ]
    },
    {
      "cell_type": "code",
      "source": [
        "# 人間が読み書きする source code を、機会が読み書きする machine code にコンパイルする。\n",
        "# その際、1) 最適化アルゴリズム、2) 損失関数、3) 評価指標なども設定する。\n",
        "model.compile(optimizer='adam', loss='categorical_crossentropy', metrics=['accuracy'])\n",
        "\n",
        "# モデルの学習を実行する。trainとかfitと呼ばれるmethodで実行する。\n",
        "# その際、1) training data : validation dataの比　2) バッチサイズ 3) エポック数も設定する。\n",
        "history = model.fit(x_train, t_train, validation_split = 0.2, batch_size = 128, epochs = 10)\n",
        "\n",
        "# 学習過程の図示\n",
        "\n",
        "# Access the training history\n",
        "train_loss = history.history['loss']\n",
        "val_loss = history.history['val_loss']\n",
        "train_accuracy = history.history['accuracy']\n",
        "val_accuracy = history.history['val_accuracy']\n",
        "\n",
        "# Plot of the training and validation loss\n",
        "epochs = np.arange(1, len(train_loss) + 1)\n",
        "\n",
        "plt.figure(figsize=(12, 4))\n",
        "plt.subplot(1, 2, 1)\n",
        "plt.plot(epochs, train_loss, 'b', label='Training Loss')\n",
        "plt.plot(epochs, val_loss, 'r', label='Validation Loss')\n",
        "plt.title('Training and Validation Loss')\n",
        "plt.xlabel('Epochs')\n",
        "plt.ylabel('Loss')\n",
        "plt.legend()\n",
        "\n",
        "# Plot　of the training and validation accuracy\n",
        "plt.subplot(1, 2, 2)\n",
        "plt.plot(epochs, train_accuracy, 'b', label='Training Accuracy')\n",
        "plt.plot(epochs, val_accuracy, 'r', label='Validation Accuracy')\n",
        "plt.title('Training and Validation Accuracy')\n",
        "plt.xlabel('Epochs')\n",
        "plt.ylabel('Accuracy')\n",
        "plt.legend()\n",
        "\n",
        "plt.tight_layout()\n",
        "plt.show()"
      ],
      "metadata": {
        "id": "PUVIslvogIBS",
        "colab": {
          "base_uri": "https://localhost:8080/",
          "height": 700
        },
        "outputId": "a71f359e-9c65-4ec8-d605-fa93ed45355f"
      },
      "execution_count": null,
      "outputs": [
        {
          "output_type": "stream",
          "name": "stdout",
          "text": [
            "Epoch 1/10\n",
            "375/375 [==============================] - 2s 3ms/step - loss: 0.5614 - accuracy: 0.8010 - val_loss: 0.4182 - val_accuracy: 0.8512\n",
            "Epoch 2/10\n",
            "375/375 [==============================] - 1s 3ms/step - loss: 0.4117 - accuracy: 0.8528 - val_loss: 0.3708 - val_accuracy: 0.8680\n",
            "Epoch 3/10\n",
            "375/375 [==============================] - 1s 3ms/step - loss: 0.3670 - accuracy: 0.8670 - val_loss: 0.3663 - val_accuracy: 0.8685\n",
            "Epoch 4/10\n",
            "375/375 [==============================] - 1s 3ms/step - loss: 0.3453 - accuracy: 0.8731 - val_loss: 0.3416 - val_accuracy: 0.8786\n",
            "Epoch 5/10\n",
            "375/375 [==============================] - 1s 3ms/step - loss: 0.3280 - accuracy: 0.8795 - val_loss: 0.3269 - val_accuracy: 0.8805\n",
            "Epoch 6/10\n",
            "375/375 [==============================] - 1s 3ms/step - loss: 0.3116 - accuracy: 0.8840 - val_loss: 0.3294 - val_accuracy: 0.8799\n",
            "Epoch 7/10\n",
            "375/375 [==============================] - 1s 3ms/step - loss: 0.3040 - accuracy: 0.8878 - val_loss: 0.3180 - val_accuracy: 0.8867\n",
            "Epoch 8/10\n",
            "375/375 [==============================] - 1s 3ms/step - loss: 0.2904 - accuracy: 0.8930 - val_loss: 0.3362 - val_accuracy: 0.8813\n",
            "Epoch 9/10\n",
            "375/375 [==============================] - 1s 3ms/step - loss: 0.2841 - accuracy: 0.8937 - val_loss: 0.3154 - val_accuracy: 0.8861\n",
            "Epoch 10/10\n",
            "375/375 [==============================] - 1s 3ms/step - loss: 0.2747 - accuracy: 0.8970 - val_loss: 0.3109 - val_accuracy: 0.8873\n"
          ]
        },
        {
          "output_type": "display_data",
          "data": {
            "text/plain": [
              "<Figure size 1200x400 with 2 Axes>"
            ],
            "image/png": "[encoded data removed]"
          },
          "metadata": {}
        }
      ]
    },
    {
      "cell_type": "code",
      "source": [
        "# 検証データでモデルの予測精度を検証する\n",
        "score = model.evaluate(x_test, t_test, verbose = 0)\n",
        "print('Test loss: ', score[0])\n",
        "print('Test accuracy: ', score[1])"
      ],
      "metadata": {
        "id": "lIL2brSQgYCh",
        "colab": {
          "base_uri": "https://localhost:8080/"
        },
        "outputId": "5b668d24-638e-4291-b06b-220e1889f2b1"
      },
      "execution_count": null,
      "outputs": [
        {
          "output_type": "stream",
          "name": "stdout",
          "text": [
            "Test loss:  0.33406490087509155\n",
            "Test accuracy:  0.8791999816894531\n"
          ]
        }
      ]
    },
    {
      "cell_type": "code",
      "source": [
        "# モデルの保存。HDF5ファイルで保存される。\n",
        "model.save('/content/drive/MyDrive/Telakoya/tela5/model/perceptronFM.h5')"
      ],
      "metadata": {
        "id": "2Q-MhzL3gY95"
      },
      "execution_count": null,
      "outputs": []
    },
    {
      "cell_type": "code",
      "source": [
        "# モデルの復元。\n",
        "from keras.models import load_model\n",
        "model2 = load_model('/content/drive/MyDrive/Telakoya/tela5/model/perceptronFM.h5')"
      ],
      "metadata": {
        "id": "7CoatRuIgfVs"
      },
      "execution_count": null,
      "outputs": []
    },
    {
      "cell_type": "code",
      "source": [
        "# 保存前のモデルによる予測結果\n",
        "pred = model.predict(x_test[0:1])\n",
        "pred"
      ],
      "metadata": {
        "id": "Xvi9Y3PbgjgS",
        "colab": {
          "base_uri": "https://localhost:8080/"
        },
        "outputId": "77e1285f-14f0-4281-abfc-cc7044ef0c42"
      },
      "execution_count": null,
      "outputs": [
        {
          "output_type": "stream",
          "name": "stdout",
          "text": [
            "1/1 [==============================] - 0s 50ms/step\n"
          ]
        },
        {
          "output_type": "execute_result",
          "data": {
            "text/plain": [
              "array([[2.2050781e-06, 1.0598425e-07, 8.8069436e-07, 7.1076698e-07,\n",
              "        9.5539860e-07, 1.2302124e-02, 1.6825268e-05, 2.8279224e-02,\n",
              "        3.7405032e-05, 9.5935953e-01]], dtype=float32)"
            ]
          },
          "metadata": {},
          "execution_count": 21
        }
      ]
    },
    {
      "cell_type": "code",
      "source": [
        "# 復元したモデルによる予測結果\n",
        "pred2 = model2.predict(x_test[0:1])\n",
        "pred2"
      ],
      "metadata": {
        "id": "dou1e8vzgoal",
        "colab": {
          "base_uri": "https://localhost:8080/"
        },
        "outputId": "80ae0dad-1874-4fcd-945a-9fb97e85be85"
      },
      "execution_count": null,
      "outputs": [
        {
          "output_type": "stream",
          "name": "stdout",
          "text": [
            "1/1 [==============================] - 0s 50ms/step\n"
          ]
        },
        {
          "output_type": "execute_result",
          "data": {
            "text/plain": [
              "array([[2.2050781e-06, 1.0598425e-07, 8.8069436e-07, 7.1076698e-07,\n",
              "        9.5539860e-07, 1.2302124e-02, 1.6825268e-05, 2.8279224e-02,\n",
              "        3.7405032e-05, 9.5935953e-01]], dtype=float32)"
            ]
          },
          "metadata": {},
          "execution_count": 22
        }
      ]
    },
    {
      "cell_type": "markdown",
      "source": [
        "# 3. CNNによる画像分類"
      ],
      "metadata": {
        "id": "H6T1EvGjsUpa"
      }
    },
    {
      "cell_type": "markdown",
      "source": [
        "https://www.tensorflow.org/tutorials/images/cnn?hl=ja"
      ],
      "metadata": {
        "id": "sBLhcThyurbn"
      }
    },
    {
      "cell_type": "code",
      "source": [
        "# Googe driveへのマウント。既に行われている場合、評価は不要。\n",
        "from google.colab import drive\n",
        "drive.mount('/content/drive')"
      ],
      "metadata": {
        "id": "AJBl-vFzqyPG"
      },
      "execution_count": null,
      "outputs": []
    },
    {
      "cell_type": "markdown",
      "source": [
        "## 1) ライブラリの読み込み"
      ],
      "metadata": {
        "id": "ZwFldizVu3Lw"
      }
    },
    {
      "cell_type": "markdown",
      "source": [
        "- Tensorflow2のwrapperであるKerasを利用する。\n"
      ],
      "metadata": {
        "id": "_Civ99qQu3Lw"
      }
    },
    {
      "cell_type": "code",
      "source": [
        "# ライブラリの読み込み\n",
        "import tensorflow as tf\n",
        "from tensorflow.keras import datasets, layers, models\n",
        "\n",
        "import numpy as np  # 数値計算のライブラリ\n",
        "import matplotlib.pyplot as plt  # 図示のライブラリ\n",
        "%matplotlib inline"
      ],
      "metadata": {
        "id": "N3YLfARPu3Lw"
      },
      "execution_count": null,
      "outputs": []
    },
    {
      "cell_type": "markdown",
      "source": [
        "## 2) データの読み込み"
      ],
      "metadata": {
        "id": "vdRvP3pzu3Lw"
      }
    },
    {
      "cell_type": "markdown",
      "source": [
        "- CIFAR10 と呼ばれるカラー画像データを利用する。\n",
        "- CIFAR10 には、学習データが60,000字、検証データが10,000字ある。\n",
        "- データは、32×32個の整数(0〜255)が3組ある行列(テンソル)で形成されている。\n",
        "- 一つ一つの文字には、0〜9の正解データも付いている。"
      ],
      "metadata": {
        "id": "fbvUaR50u3Lw"
      }
    },
    {
      "cell_type": "code",
      "source": [
        "# データの読み込み\n",
        "(train_images, train_labels), (test_images, test_labels) = datasets.cifar10.load_data()"
      ],
      "metadata": {
        "id": "GYjvBq2Au3Lw"
      },
      "execution_count": null,
      "outputs": []
    },
    {
      "cell_type": "code",
      "source": [
        "# データ数の確認\n",
        "len(train_images)"
      ],
      "metadata": {
        "colab": {
          "base_uri": "https://localhost:8080/"
        },
        "outputId": "8ed11564-6164-4872-8fcc-e62ac63215e2",
        "id": "wVU0xCo0u3Lw"
      },
      "execution_count": null,
      "outputs": [
        {
          "output_type": "execute_result",
          "data": {
            "text/plain": [
              "50000"
            ]
          },
          "metadata": {},
          "execution_count": 60
        }
      ]
    },
    {
      "cell_type": "code",
      "source": [
        "len(test_images)"
      ],
      "metadata": {
        "colab": {
          "base_uri": "https://localhost:8080/"
        },
        "outputId": "1e3c5f38-819f-4155-99b2-7bc71b30514e",
        "id": "IjKCu2Igu3Lx"
      },
      "execution_count": null,
      "outputs": [
        {
          "output_type": "execute_result",
          "data": {
            "text/plain": [
              "10000"
            ]
          },
          "metadata": {},
          "execution_count": 61
        }
      ]
    },
    {
      "cell_type": "code",
      "source": [
        "# データの形の確認\n",
        "train_images.shape"
      ],
      "metadata": {
        "colab": {
          "base_uri": "https://localhost:8080/"
        },
        "outputId": "e831c6b1-ec99-4a6e-a516-cbc67dcd6270",
        "id": "vpp6VMNdu3Lx"
      },
      "execution_count": null,
      "outputs": [
        {
          "output_type": "execute_result",
          "data": {
            "text/plain": [
              "(50000, 32, 32, 3)"
            ]
          },
          "metadata": {},
          "execution_count": 62
        }
      ]
    },
    {
      "cell_type": "code",
      "source": [
        "test_images.shape"
      ],
      "metadata": {
        "colab": {
          "base_uri": "https://localhost:8080/"
        },
        "outputId": "5c1ed8ec-c3a3-4c55-d8d5-55422ffe5db2",
        "id": "zRpMMLO2u3Lx"
      },
      "execution_count": null,
      "outputs": [
        {
          "output_type": "execute_result",
          "data": {
            "text/plain": [
              "(10000, 32, 32, 3)"
            ]
          },
          "metadata": {},
          "execution_count": 63
        }
      ]
    },
    {
      "cell_type": "code",
      "source": [
        "# データの中身の確認\n",
        "train_images[0]"
      ],
      "metadata": {
        "id": "sfETMsrRu3Lx"
      },
      "execution_count": null,
      "outputs": []
    },
    {
      "cell_type": "markdown",
      "source": [
        "- モデルの損失関数がSparse Categorical Crossentropyの場合、正解データは一次元でよい。"
      ],
      "metadata": {
        "id": "3jNQu6EhyVFg"
      }
    },
    {
      "cell_type": "code",
      "source": [
        "train_labels[0]"
      ],
      "metadata": {
        "colab": {
          "base_uri": "https://localhost:8080/"
        },
        "outputId": "4643b85a-ac88-4229-c1fb-9d9dd4a6be0a",
        "id": "G9u58kL7u3Lx"
      },
      "execution_count": null,
      "outputs": [
        {
          "output_type": "execute_result",
          "data": {
            "text/plain": [
              "array([6], dtype=uint8)"
            ]
          },
          "metadata": {},
          "execution_count": 70
        }
      ]
    },
    {
      "cell_type": "code",
      "source": [
        "# データの図示\n",
        "plt.imshow(train_images[0])"
      ],
      "metadata": {
        "colab": {
          "base_uri": "https://localhost:8080/",
          "height": 448
        },
        "outputId": "ddab6e93-3a46-448a-c239-d6952279e4cf",
        "id": "JmPs5Q9xu3Lx"
      },
      "execution_count": null,
      "outputs": [
        {
          "output_type": "execute_result",
          "data": {
            "text/plain": [
              "<matplotlib.image.AxesImage at 0x7fb444887340>"
            ]
          },
          "metadata": {},
          "execution_count": 66
        },
        {
          "output_type": "display_data",
          "data": {
            "text/plain": [
              "<Figure size 640x480 with 1 Axes>"
            ],
            "image/png": "[encoded data removed]"
          },
          "metadata": {}
        }
      ]
    },
    {
      "cell_type": "code",
      "source": [
        "# 最初の25個の画像の図示\n",
        "class_names = ['airplane', 'automobile', 'bird', 'cat', 'deer',\n",
        "               'dog', 'frog', 'horse', 'ship', 'truck']\n",
        "\n",
        "plt.figure(figsize=(10,10))\n",
        "for i in range(25):\n",
        "    plt.subplot(5,5,i+1)\n",
        "    plt.xticks([])\n",
        "    plt.yticks([])\n",
        "    plt.grid(False)\n",
        "    plt.imshow(train_images[i])\n",
        "    # The CIFAR labels happen to be arrays, \n",
        "    # which is why you need the extra index\n",
        "    plt.xlabel(class_names[train_labels[i][0]])\n",
        "plt.show()"
      ],
      "metadata": {
        "id": "qUgaQDrLwFny"
      },
      "execution_count": null,
      "outputs": []
    },
    {
      "cell_type": "markdown",
      "source": [
        "## 3) モデルの設計"
      ],
      "metadata": {
        "id": "GL_fA49lymZu"
      }
    },
    {
      "cell_type": "code",
      "source": [
        "# CNN (Convolutional Neural Network)の構造。最初に空のSequentialをインスタンス化し、それにLayerを加えてゆく形を取っている。\n",
        "model = models.Sequential()\n",
        "model.add(layers.Conv2D(32, (3, 3), activation='relu', input_shape=(32, 32, 3)))\n",
        "model.add(layers.MaxPooling2D((2, 2)))\n",
        "model.add(layers.Conv2D(64, (3, 3), activation='relu'))\n",
        "model.add(layers.MaxPooling2D((2, 2)))\n",
        "model.add(layers.Conv2D(64, (3, 3), activation='relu'))\n",
        "model.add(layers.Flatten())\n",
        "model.add(layers.Dense(64, activation='relu'))\n",
        "model.add(layers.Dense(10))\n",
        "\n",
        "# モデルのアーキテクチャ(構造)の表示\n",
        "model.summary()"
      ],
      "metadata": {
        "colab": {
          "base_uri": "https://localhost:8080/"
        },
        "id": "wstISitHwlmx",
        "outputId": "cc65eac4-eaa9-496a-c019-ae06e95df835"
      },
      "execution_count": null,
      "outputs": [
        {
          "output_type": "stream",
          "name": "stdout",
          "text": [
            "Model: \"sequential_8\"\n",
            "_________________________________________________________________\n",
            " Layer (type)                Output Shape              Param #   \n",
            "=================================================================\n",
            " conv2d_21 (Conv2D)          (None, 30, 30, 32)        896       \n",
            "                                                                 \n",
            " max_pooling2d_14 (MaxPoolin  (None, 15, 15, 32)       0         \n",
            " g2D)                                                            \n",
            "                                                                 \n",
            " conv2d_22 (Conv2D)          (None, 13, 13, 64)        18496     \n",
            "                                                                 \n",
            " max_pooling2d_15 (MaxPoolin  (None, 6, 6, 64)         0         \n",
            " g2D)                                                            \n",
            "                                                                 \n",
            " conv2d_23 (Conv2D)          (None, 4, 4, 64)          36928     \n",
            "                                                                 \n",
            " flatten_8 (Flatten)         (None, 1024)              0         \n",
            "                                                                 \n",
            " dense_16 (Dense)            (None, 64)                65600     \n",
            "                                                                 \n",
            " dense_17 (Dense)            (None, 10)                650       \n",
            "                                                                 \n",
            "=================================================================\n",
            "Total params: 122,570\n",
            "Trainable params: 122,570\n",
            "Non-trainable params: 0\n",
            "_________________________________________________________________\n"
          ]
        }
      ]
    },
    {
      "cell_type": "markdown",
      "source": [
        "## 4) モデルの学習"
      ],
      "metadata": {
        "id": "AW7ExxKKzg5v"
      }
    },
    {
      "cell_type": "code",
      "source": [
        "# モデルのコンパイル\n",
        "model.compile(optimizer='adam',\n",
        "              loss=tf.keras.losses.SparseCategoricalCrossentropy(from_logits=True),\n",
        "              metrics=['accuracy'])"
      ],
      "metadata": {
        "id": "E_7fGxMPyxEl"
      },
      "execution_count": null,
      "outputs": []
    },
    {
      "cell_type": "code",
      "source": [
        "# モデルの学習\n",
        "history = model.fit(train_images, train_labels, epochs=10, validation_split = 0.2)"
      ],
      "metadata": {
        "colab": {
          "base_uri": "https://localhost:8080/"
        },
        "id": "LU1CJILW0Hkc",
        "outputId": "21eac1d4-196d-4908-9f23-6fa9a364b075"
      },
      "execution_count": null,
      "outputs": [
        {
          "output_type": "stream",
          "name": "stdout",
          "text": [
            "Epoch 1/10\n",
            "1250/1250 [==============================] - 7s 5ms/step - loss: 1.9689 - accuracy: 0.3258 - val_loss: 1.5845 - val_accuracy: 0.4262\n",
            "Epoch 2/10\n",
            "1250/1250 [==============================] - 5s 4ms/step - loss: 1.4272 - accuracy: 0.4884 - val_loss: 1.4114 - val_accuracy: 0.4989\n",
            "Epoch 3/10\n",
            "1250/1250 [==============================] - 5s 4ms/step - loss: 1.2678 - accuracy: 0.5504 - val_loss: 1.2541 - val_accuracy: 0.5587\n",
            "Epoch 4/10\n",
            "1250/1250 [==============================] - 5s 4ms/step - loss: 1.1487 - accuracy: 0.5974 - val_loss: 1.1486 - val_accuracy: 0.6016\n",
            "Epoch 5/10\n",
            "1250/1250 [==============================] - 5s 4ms/step - loss: 1.0564 - accuracy: 0.6320 - val_loss: 1.1653 - val_accuracy: 0.5989\n",
            "Epoch 6/10\n",
            "1250/1250 [==============================] - 5s 4ms/step - loss: 0.9760 - accuracy: 0.6598 - val_loss: 1.1465 - val_accuracy: 0.6191\n",
            "Epoch 7/10\n",
            "1250/1250 [==============================] - 5s 4ms/step - loss: 0.9035 - accuracy: 0.6853 - val_loss: 1.0935 - val_accuracy: 0.6268\n",
            "Epoch 8/10\n",
            "1250/1250 [==============================] - 5s 4ms/step - loss: 0.8472 - accuracy: 0.7017 - val_loss: 1.1179 - val_accuracy: 0.6228\n",
            "Epoch 9/10\n",
            "1250/1250 [==============================] - 5s 4ms/step - loss: 0.7815 - accuracy: 0.7274 - val_loss: 1.0917 - val_accuracy: 0.6341\n",
            "Epoch 10/10\n",
            "1250/1250 [==============================] - 5s 4ms/step - loss: 0.7494 - accuracy: 0.7373 - val_loss: 1.1013 - val_accuracy: 0.6493\n"
          ]
        }
      ]
    },
    {
      "cell_type": "code",
      "source": [
        "# 学習過程の図示\n",
        "\n",
        "# Access the training history\n",
        "train_loss = history.history['loss']\n",
        "val_loss = history.history['val_loss']\n",
        "train_accuracy = history.history['accuracy']\n",
        "val_accuracy = history.history['val_accuracy']\n",
        "\n",
        "# Plot of the training and validation loss\n",
        "epochs = np.arange(1, len(train_loss) + 1)\n",
        "\n",
        "plt.figure(figsize=(12, 4))\n",
        "plt.subplot(1, 2, 1)\n",
        "plt.plot(epochs, train_loss, 'b', label='Training Loss')\n",
        "plt.plot(epochs, val_loss, 'r', label='Validation Loss')\n",
        "plt.title('Training and Validation Loss')\n",
        "plt.xlabel('Epochs')\n",
        "plt.ylabel('Loss')\n",
        "plt.legend()\n",
        "\n",
        "# Plot　of the training and validation accuracy\n",
        "plt.subplot(1, 2, 2)\n",
        "plt.plot(epochs, train_accuracy, 'b', label='Training Accuracy')\n",
        "plt.plot(epochs, val_accuracy, 'r', label='Validation Accuracy')\n",
        "plt.title('Training and Validation Accuracy')\n",
        "plt.xlabel('Epochs')\n",
        "plt.ylabel('Accuracy')\n",
        "plt.legend()\n",
        "\n",
        "plt.tight_layout()\n",
        "plt.show()"
      ],
      "metadata": {
        "colab": {
          "base_uri": "https://localhost:8080/",
          "height": 407
        },
        "id": "aHdXnJvv5KwB",
        "outputId": "d55d1ebb-c736-4875-f0a2-c1a1caf77c37"
      },
      "execution_count": null,
      "outputs": [
        {
          "output_type": "display_data",
          "data": {
            "text/plain": [
              "<Figure size 1200x400 with 2 Axes>"
            ],
            "image/png": "[encoded data removed]"
          },
          "metadata": {}
        }
      ]
    },
    {
      "cell_type": "markdown",
      "source": [
        "## 5) モデルの検証"
      ],
      "metadata": {
        "id": "AkmYSXfF3ExU"
      }
    },
    {
      "cell_type": "code",
      "source": [
        "# 検証データによる予測モデルの精度の検証\n",
        "score = model.evaluate(test_images, test_labels, verbose = 0)\n",
        "print('Test loss: ', score[0])\n",
        "print('Test accuracy: ', score[1])"
      ],
      "metadata": {
        "colab": {
          "base_uri": "https://localhost:8080/"
        },
        "id": "cNZgkgh222yn",
        "outputId": "d28d6226-6bfb-4c09-e48f-825deaeacacc"
      },
      "execution_count": null,
      "outputs": [
        {
          "output_type": "stream",
          "name": "stdout",
          "text": [
            "Test loss:  1.0975841283798218\n",
            "Test accuracy:  0.652999997138977\n"
          ]
        }
      ]
    },
    {
      "cell_type": "markdown",
      "source": [
        "## 6) モデルの保存と復元"
      ],
      "metadata": {
        "id": "bLshO9Gr5h4H"
      }
    },
    {
      "cell_type": "code",
      "source": [
        "# モデルの保存。HDF5ファイルで保存される。\n",
        "model.save('/content/drive/MyDrive/Telakoya/tela5/model/cnn.h5')"
      ],
      "metadata": {
        "id": "Sa6vspPz5ch0"
      },
      "execution_count": null,
      "outputs": []
    },
    {
      "cell_type": "code",
      "source": [
        "# モデルの復元。\n",
        "from keras.models import load_model\n",
        "model2 = load_model('/content/drive/MyDrive/Telakoya/tela5/model/cnn.h5')"
      ],
      "metadata": {
        "id": "rRTTQuiC5xWN"
      },
      "execution_count": null,
      "outputs": []
    },
    {
      "cell_type": "code",
      "source": [
        "# 保存前のモデルによる予測結果\n",
        "pred = model.predict(test_images[0:1])\n",
        "pred"
      ],
      "metadata": {
        "colab": {
          "base_uri": "https://localhost:8080/"
        },
        "outputId": "c2a11b7a-6618-4298-d4de-0957020aa152",
        "id": "UH5TZgW_5xWS"
      },
      "execution_count": null,
      "outputs": [
        {
          "output_type": "stream",
          "name": "stdout",
          "text": [
            "1/1 [==============================] - 0s 150ms/step\n"
          ]
        },
        {
          "output_type": "execute_result",
          "data": {
            "text/plain": [
              "array([[ 2.115134  ,  0.84171724,  3.6655068 ,  6.607142  ,  1.9444997 ,\n",
              "         4.6826024 ,  2.5249922 ,  0.9799721 ,  4.4108725 , -0.58072466]],\n",
              "      dtype=float32)"
            ]
          },
          "metadata": {},
          "execution_count": 97
        }
      ]
    },
    {
      "cell_type": "code",
      "source": [
        "# 復元したモデルによる予測結果\n",
        "pred2 = model2.predict(test_images[0:1])\n",
        "pred2"
      ],
      "metadata": {
        "colab": {
          "base_uri": "https://localhost:8080/"
        },
        "outputId": "3e5af74a-87b9-4481-c306-a5db92f03e0b",
        "id": "HOzHBRZG5xWT"
      },
      "execution_count": null,
      "outputs": [
        {
          "output_type": "stream",
          "name": "stdout",
          "text": [
            "1/1 [==============================] - 0s 75ms/step\n"
          ]
        },
        {
          "output_type": "execute_result",
          "data": {
            "text/plain": [
              "array([[ 2.115134  ,  0.84171724,  3.6655068 ,  6.607142  ,  1.9444997 ,\n",
              "         4.6826024 ,  2.5249922 ,  0.9799721 ,  4.4108725 , -0.58072466]],\n",
              "      dtype=float32)"
            ]
          },
          "metadata": {},
          "execution_count": 98
        }
      ]
    },
    {
      "cell_type": "markdown",
      "source": [
        "# 4. ChatGPTが提案したモデルによる分類"
      ],
      "metadata": {
        "id": "6qZWqpGVnSXT"
      }
    },
    {
      "cell_type": "markdown",
      "source": [
        "- 分類精度の高いモデルの設計を ChatGPT に作らせた場合。"
      ],
      "metadata": {
        "id": "nXe-EHf8rcDA"
      }
    },
    {
      "cell_type": "markdown",
      "source": [
        "- OpenAI が公開している ChatGPT を利用する場合、以下のリンクから登録すれば誰でも利用できる。\n",
        "- GPT3.5から作られた ChatGPT は無利で使用できる。\n",
        "- $20/monthの ChatGPt Plusに加入すると GPT-4 も利用できる。(2023年5月時点)"
      ],
      "metadata": {
        "id": "qd9dUEf0rzCF"
      }
    },
    {
      "cell_type": "markdown",
      "source": [
        "https://chat.openai.com/"
      ],
      "metadata": {
        "id": "hOptfLt4rwq6"
      }
    },
    {
      "cell_type": "code",
      "source": [
        "# Googe driveへのマウント。既に行われている場合は評価は不要。\n",
        "from google.colab import drive\n",
        "drive.mount('/content/drive')"
      ],
      "metadata": {
        "id": "cwf1VKoSq0c5"
      },
      "execution_count": null,
      "outputs": []
    },
    {
      "cell_type": "markdown",
      "source": [
        "## 1) ライブラリの読み込み"
      ],
      "metadata": {
        "id": "LrBl5lGd6lIv"
      }
    },
    {
      "cell_type": "code",
      "execution_count": null,
      "metadata": {
        "id": "Gu1t5p4InhOu"
      },
      "outputs": [],
      "source": [
        "import tensorflow as tf\n",
        "from tensorflow.keras import datasets, layers, models\n",
        "import numpy as np\n",
        "import matplotlib.pyplot as plt"
      ]
    },
    {
      "cell_type": "markdown",
      "source": [
        "## 2) データの読み込み"
      ],
      "metadata": {
        "id": "BqdDeC2Q6o0c"
      }
    },
    {
      "cell_type": "code",
      "execution_count": null,
      "metadata": {
        "id": "f5Faoa9cnhO5",
        "colab": {
          "base_uri": "https://localhost:8080/"
        },
        "outputId": "03e753aa-868d-4768-e9db-d0069ed64116"
      },
      "outputs": [
        {
          "output_type": "stream",
          "name": "stdout",
          "text": [
            "Downloading data from https://www.cs.toronto.edu/~kriz/cifar-10-python.tar.gz\n",
            "170498071/170498071 [==============================] - 13s 0us/step\n"
          ]
        }
      ],
      "source": [
        "(train_images, train_labels), (test_images, test_labels) = datasets.cifar10.load_data()\n",
        "# Normalize pixel values to be between 0 and 1\n",
        "train_images, test_images = train_images / 255.0, test_images / 255.0"
      ]
    },
    {
      "cell_type": "markdown",
      "source": [
        "- モデルの損失関数がSparse Categorical Crossentropyの場合、正解データは一次元でよい。"
      ],
      "metadata": {
        "id": "kPlneqW6u6LF"
      }
    },
    {
      "cell_type": "markdown",
      "source": [
        "## 3) モデルの設計"
      ],
      "metadata": {
        "id": "_zIswdNe6xiQ"
      }
    },
    {
      "cell_type": "markdown",
      "source": [
        "- 【ChatGPTに入力したprompt】\n",
        "- I want to make a CNNN model using keras to classifiy cifar10 dataset with a high accuracy. Please sugget such a model."
      ],
      "metadata": {
        "id": "Ly88g4Zw64Wg"
      }
    },
    {
      "cell_type": "code",
      "source": [
        "# ChatGPTが提案したモデル\n",
        "\n",
        "import tensorflow as tf\n",
        "from tensorflow.keras import layers\n",
        "\n",
        "# Define the model\n",
        "model = tf.keras.Sequential()\n",
        "\n",
        "# Convolutional layer 1\n",
        "model.add(layers.Conv2D(32, (3, 3), padding='same', activation='relu', input_shape=(32, 32, 3)))\n",
        "model.add(layers.BatchNormalization())\n",
        "model.add(layers.Conv2D(32, (3, 3), padding='same', activation='relu'))\n",
        "model.add(layers.BatchNormalization())\n",
        "model.add(layers.MaxPooling2D(pool_size=(2, 2)))\n",
        "model.add(layers.Dropout(0.25))\n",
        "\n",
        "# Convolutional layer 2\n",
        "model.add(layers.Conv2D(64, (3, 3), padding='same', activation='relu'))\n",
        "model.add(layers.BatchNormalization())\n",
        "model.add(layers.Conv2D(64, (3, 3), padding='same', activation='relu'))\n",
        "model.add(layers.BatchNormalization())\n",
        "model.add(layers.MaxPooling2D(pool_size=(2, 2)))\n",
        "model.add(layers.Dropout(0.25))\n",
        "\n",
        "# Convolutional layer 3\n",
        "model.add(layers.Conv2D(128, (3, 3), padding='same', activation='relu'))\n",
        "model.add(layers.BatchNormalization())\n",
        "model.add(layers.Conv2D(128, (3, 3), padding='same', activation='relu'))\n",
        "model.add(layers.BatchNormalization())\n",
        "model.add(layers.MaxPooling2D(pool_size=(2, 2)))\n",
        "model.add(layers.Dropout(0.25))\n",
        "\n",
        "# Flatten the output\n",
        "model.add(layers.Flatten())\n",
        "\n",
        "# Fully connected layers\n",
        "model.add(layers.Dense(512, activation='relu'))\n",
        "model.add(layers.BatchNormalization())\n",
        "model.add(layers.Dropout(0.5))\n",
        "model.add(layers.Dense(10, activation='softmax'))\n",
        "\n",
        "# Compile the model\n",
        "model.compile(optimizer='adam', loss='categorical_crossentropy', metrics=['accuracy'])\n",
        "\n",
        "# Print the model summary\n",
        "model.summary()\n"
      ],
      "metadata": {
        "colab": {
          "base_uri": "https://localhost:8080/"
        },
        "id": "1B7jEHq_lhVK",
        "outputId": "f730290f-de32-448e-a1c8-9150960d5292"
      },
      "execution_count": null,
      "outputs": [
        {
          "output_type": "stream",
          "name": "stdout",
          "text": [
            "Model: \"sequential\"\n",
            "_________________________________________________________________\n",
            " Layer (type)                Output Shape              Param #   \n",
            "=================================================================\n",
            " conv2d (Conv2D)             (None, 32, 32, 32)        896       \n",
            "                                                                 \n",
            " batch_normalization (BatchN  (None, 32, 32, 32)       128       \n",
            " ormalization)                                                   \n",
            "                                                                 \n",
            " conv2d_1 (Conv2D)           (None, 32, 32, 32)        9248      \n",
            "                                                                 \n",
            " batch_normalization_1 (Batc  (None, 32, 32, 32)       128       \n",
            " hNormalization)                                                 \n",
            "                                                                 \n",
            " max_pooling2d (MaxPooling2D  (None, 16, 16, 32)       0         \n",
            " )                                                               \n",
            "                                                                 \n",
            " dropout (Dropout)           (None, 16, 16, 32)        0         \n",
            "                                                                 \n",
            " conv2d_2 (Conv2D)           (None, 16, 16, 64)        18496     \n",
            "                                                                 \n",
            " batch_normalization_2 (Batc  (None, 16, 16, 64)       256       \n",
            " hNormalization)                                                 \n",
            "                                                                 \n",
            " conv2d_3 (Conv2D)           (None, 16, 16, 64)        36928     \n",
            "                                                                 \n",
            " batch_normalization_3 (Batc  (None, 16, 16, 64)       256       \n",
            " hNormalization)                                                 \n",
            "                                                                 \n",
            " max_pooling2d_1 (MaxPooling  (None, 8, 8, 64)         0         \n",
            " 2D)                                                             \n",
            "                                                                 \n",
            " dropout_1 (Dropout)         (None, 8, 8, 64)          0         \n",
            "                                                                 \n",
            " conv2d_4 (Conv2D)           (None, 8, 8, 128)         73856     \n",
            "                                                                 \n",
            " batch_normalization_4 (Batc  (None, 8, 8, 128)        512       \n",
            " hNormalization)                                                 \n",
            "                                                                 \n",
            " conv2d_5 (Conv2D)           (None, 8, 8, 128)         147584    \n",
            "                                                                 \n",
            " batch_normalization_5 (Batc  (None, 8, 8, 128)        512       \n",
            " hNormalization)                                                 \n",
            "                                                                 \n",
            " max_pooling2d_2 (MaxPooling  (None, 4, 4, 128)        0         \n",
            " 2D)                                                             \n",
            "                                                                 \n",
            " dropout_2 (Dropout)         (None, 4, 4, 128)         0         \n",
            "                                                                 \n",
            " flatten (Flatten)           (None, 2048)              0         \n",
            "                                                                 \n",
            " dense (Dense)               (None, 512)               1049088   \n",
            "                                                                 \n",
            " batch_normalization_6 (Batc  (None, 512)              2048      \n",
            " hNormalization)                                                 \n",
            "                                                                 \n",
            " dropout_3 (Dropout)         (None, 512)               0         \n",
            "                                                                 \n",
            " dense_1 (Dense)             (None, 10)                5130      \n",
            "                                                                 \n",
            "=================================================================\n",
            "Total params: 1,345,066\n",
            "Trainable params: 1,343,146\n",
            "Non-trainable params: 1,920\n",
            "_________________________________________________________________\n"
          ]
        }
      ]
    },
    {
      "cell_type": "markdown",
      "source": [
        "## 4) モデルの学習"
      ],
      "metadata": {
        "id": "YmUZIlkv7m-3"
      }
    },
    {
      "cell_type": "code",
      "source": [
        "model.compile(optimizer='adam',\n",
        "              loss=tf.keras.losses.SparseCategoricalCrossentropy(),\n",
        "              metrics=['accuracy'])\n",
        "\n",
        "history = model.fit(train_images, train_labels, epochs=25, validation_split = 0.2)"
      ],
      "metadata": {
        "colab": {
          "base_uri": "https://localhost:8080/"
        },
        "id": "GaSKqjEMAPVk",
        "outputId": "647dc547-4aad-4562-ea7e-9eda0658f0fb"
      },
      "execution_count": null,
      "outputs": [
        {
          "output_type": "stream",
          "name": "stdout",
          "text": [
            "Epoch 1/25\n",
            "1250/1250 [==============================] - 25s 8ms/step - loss: 1.6601 - accuracy: 0.4442 - val_loss: 1.3198 - val_accuracy: 0.5539\n",
            "Epoch 2/25\n",
            "1250/1250 [==============================] - 10s 8ms/step - loss: 1.0652 - accuracy: 0.6252 - val_loss: 1.1182 - val_accuracy: 0.6211\n",
            "Epoch 3/25\n",
            "1250/1250 [==============================] - 9s 7ms/step - loss: 0.9002 - accuracy: 0.6834 - val_loss: 0.7652 - val_accuracy: 0.7300\n",
            "Epoch 4/25\n",
            "1250/1250 [==============================] - 9s 7ms/step - loss: 0.8109 - accuracy: 0.7166 - val_loss: 0.7721 - val_accuracy: 0.7289\n",
            "Epoch 5/25\n",
            "1250/1250 [==============================] - 9s 7ms/step - loss: 0.7246 - accuracy: 0.7493 - val_loss: 0.6427 - val_accuracy: 0.7729\n",
            "Epoch 6/25\n",
            "1250/1250 [==============================] - 9s 7ms/step - loss: 0.6575 - accuracy: 0.7738 - val_loss: 0.6682 - val_accuracy: 0.7738\n",
            "Epoch 7/25\n",
            "1250/1250 [==============================] - 9s 7ms/step - loss: 0.6184 - accuracy: 0.7849 - val_loss: 0.6651 - val_accuracy: 0.7767\n",
            "Epoch 8/25\n",
            "1250/1250 [==============================] - 9s 7ms/step - loss: 0.5713 - accuracy: 0.8027 - val_loss: 0.6085 - val_accuracy: 0.7912\n",
            "Epoch 9/25\n",
            "1250/1250 [==============================] - 9s 7ms/step - loss: 0.5312 - accuracy: 0.8164 - val_loss: 0.6266 - val_accuracy: 0.7896\n",
            "Epoch 10/25\n",
            "1250/1250 [==============================] - 9s 7ms/step - loss: 0.4916 - accuracy: 0.8292 - val_loss: 0.5408 - val_accuracy: 0.8159\n",
            "Epoch 11/25\n",
            "1250/1250 [==============================] - 9s 7ms/step - loss: 0.4679 - accuracy: 0.8381 - val_loss: 0.5422 - val_accuracy: 0.8217\n",
            "Epoch 12/25\n",
            "1250/1250 [==============================] - 9s 7ms/step - loss: 0.4378 - accuracy: 0.8480 - val_loss: 0.5192 - val_accuracy: 0.8289\n",
            "Epoch 13/25\n",
            "1250/1250 [==============================] - 9s 7ms/step - loss: 0.4154 - accuracy: 0.8554 - val_loss: 0.5096 - val_accuracy: 0.8300\n",
            "Epoch 14/25\n",
            "1250/1250 [==============================] - 9s 7ms/step - loss: 0.3873 - accuracy: 0.8636 - val_loss: 0.5943 - val_accuracy: 0.8101\n",
            "Epoch 15/25\n",
            "1250/1250 [==============================] - 9s 8ms/step - loss: 0.3713 - accuracy: 0.8713 - val_loss: 0.5329 - val_accuracy: 0.8276\n",
            "Epoch 16/25\n",
            "1250/1250 [==============================] - 9s 7ms/step - loss: 0.3520 - accuracy: 0.8755 - val_loss: 0.5247 - val_accuracy: 0.8273\n",
            "Epoch 17/25\n",
            "1250/1250 [==============================] - 9s 7ms/step - loss: 0.3292 - accuracy: 0.8824 - val_loss: 0.5081 - val_accuracy: 0.8373\n",
            "Epoch 18/25\n",
            "1250/1250 [==============================] - 9s 7ms/step - loss: 0.3136 - accuracy: 0.8898 - val_loss: 0.5049 - val_accuracy: 0.8397\n",
            "Epoch 19/25\n",
            "1250/1250 [==============================] - 9s 7ms/step - loss: 0.3102 - accuracy: 0.8916 - val_loss: 0.4994 - val_accuracy: 0.8415\n",
            "Epoch 20/25\n",
            "1250/1250 [==============================] - 9s 7ms/step - loss: 0.2944 - accuracy: 0.8962 - val_loss: 0.5049 - val_accuracy: 0.8425\n",
            "Epoch 21/25\n",
            "1250/1250 [==============================] - 9s 7ms/step - loss: 0.2720 - accuracy: 0.9030 - val_loss: 0.5322 - val_accuracy: 0.8382\n",
            "Epoch 22/25\n",
            "1250/1250 [==============================] - 9s 7ms/step - loss: 0.2714 - accuracy: 0.9028 - val_loss: 0.5192 - val_accuracy: 0.8390\n",
            "Epoch 23/25\n",
            "1250/1250 [==============================] - 9s 7ms/step - loss: 0.2533 - accuracy: 0.9108 - val_loss: 0.5166 - val_accuracy: 0.8456\n",
            "Epoch 24/25\n",
            "1250/1250 [==============================] - 9s 7ms/step - loss: 0.2450 - accuracy: 0.9146 - val_loss: 0.5196 - val_accuracy: 0.8458\n",
            "Epoch 25/25\n",
            "1250/1250 [==============================] - 9s 7ms/step - loss: 0.2434 - accuracy: 0.9151 - val_loss: 0.4930 - val_accuracy: 0.8515\n"
          ]
        }
      ]
    },
    {
      "cell_type": "code",
      "source": [
        "# モデルの学習過程\n",
        "\n",
        "# Access the training history\n",
        "train_loss = history.history['loss']\n",
        "val_loss = history.history['val_loss']\n",
        "train_accuracy = history.history['accuracy']\n",
        "val_accuracy = history.history['val_accuracy']\n",
        "\n",
        "# Plot of the training and validation loss\n",
        "epochs = np.arange(1, len(train_loss) + 1)\n",
        "\n",
        "plt.figure(figsize=(12, 4))\n",
        "plt.subplot(1, 2, 1)\n",
        "plt.plot(epochs, train_loss, 'b', label='Training Loss')\n",
        "plt.plot(epochs, val_loss, 'r', label='Validation Loss')\n",
        "plt.title('Training and Validation Loss')\n",
        "plt.xlabel('Epochs')\n",
        "plt.ylabel('Loss')\n",
        "plt.legend()\n",
        "\n",
        "# Plot　of the training and validation accuracy\n",
        "plt.subplot(1, 2, 2)\n",
        "plt.plot(epochs, train_accuracy, 'b', label='Training Accuracy')\n",
        "plt.plot(epochs, val_accuracy, 'r', label='Validation Accuracy')\n",
        "plt.title('Training and Validation Accuracy')\n",
        "plt.xlabel('Epochs')\n",
        "plt.ylabel('Accuracy')\n",
        "plt.legend()\n",
        "\n",
        "plt.tight_layout()\n",
        "plt.show()"
      ],
      "metadata": {
        "colab": {
          "base_uri": "https://localhost:8080/",
          "height": 345
        },
        "id": "VuurFYdX75sX",
        "outputId": "a361b23d-bedf-43bf-c600-13ed95165ed3"
      },
      "execution_count": null,
      "outputs": [
        {
          "output_type": "display_data",
          "data": {
            "text/plain": [
              "<Figure size 1200x400 with 2 Axes>"
            ],
            "image/png": "[encoded data removed]"
          },
          "metadata": {}
        }
      ]
    },
    {
      "cell_type": "markdown",
      "source": [
        "## 5) モデルの検証"
      ],
      "metadata": {
        "id": "5HLmeo_A8Yu7"
      }
    },
    {
      "cell_type": "code",
      "source": [
        "# 予測モデルの精度をTest dataで検証\n",
        "score = model.evaluate(test_images, test_labels, verbose = 0)\n",
        "print('Test loss: ', score[0])\n",
        "print('Test accuracy: ', score[1])"
      ],
      "metadata": {
        "colab": {
          "base_uri": "https://localhost:8080/"
        },
        "id": "ESvfPuJf8bZA",
        "outputId": "b6f3f744-b896-4b04-ca9e-741a9189daf5"
      },
      "execution_count": null,
      "outputs": [
        {
          "output_type": "stream",
          "name": "stdout",
          "text": [
            "Test loss:  0.5188097357749939\n",
            "Test accuracy:  0.8456000089645386\n"
          ]
        }
      ]
    },
    {
      "cell_type": "markdown",
      "source": [
        "- 検証データで、Accuracy 84.6%。"
      ],
      "metadata": {
        "id": "2B53orUmOnKe"
      }
    },
    {
      "cell_type": "markdown",
      "source": [
        "- ChatGPTは、更なる予測精度の向上のため、以下のような suggestion も提案した。\n",
        "- 1. Data Augmentation データの水増し (反転、回転、移動など)\n",
        "- 2. より高度な ResNet, DenseNet, EfficientNet などの利用。\n",
        "- 3. Hyperparameterのチューニング\n",
        "- 4. 正則化 (regularization) L1, L2などで、次元削減を行う"
      ],
      "metadata": {
        "id": "b-42MSSWPFSA"
      }
    },
    {
      "cell_type": "markdown",
      "source": [
        "## 6) モデルの保存と復元"
      ],
      "metadata": {
        "id": "jMqO20Oa9WsZ"
      }
    },
    {
      "cell_type": "code",
      "source": [
        "# モデルの保存。HDF5ファイルで保存される。\n",
        "model.save('/content/drive/MyDrive/Telakoya/tela5/model/cnnC.h5')"
      ],
      "metadata": {
        "id": "gkIJJOQZ9l9k"
      },
      "execution_count": null,
      "outputs": []
    },
    {
      "cell_type": "code",
      "source": [
        "# モデルの復元。\n",
        "from keras.models import load_model\n",
        "model2 = load_model('/content/drive/MyDrive/Telakoya/tela5/model/cnnC.h5')"
      ],
      "metadata": {
        "id": "DAkKeL8G9l9t"
      },
      "execution_count": null,
      "outputs": []
    },
    {
      "cell_type": "code",
      "source": [
        "# 保存前のモデルによる予測結果\n",
        "pred = model.predict(test_images[0:1])\n",
        "pred"
      ],
      "metadata": {
        "colab": {
          "base_uri": "https://localhost:8080/"
        },
        "outputId": "cc2b1a10-0250-4330-9262-d78f27d5847e",
        "id": "R8GEWVp19l9t"
      },
      "execution_count": null,
      "outputs": [
        {
          "output_type": "stream",
          "name": "stdout",
          "text": [
            "1/1 [==============================] - 0s 380ms/step\n"
          ]
        },
        {
          "output_type": "execute_result",
          "data": {
            "text/plain": [
              "array([[5.5410546e-06, 2.4355761e-06, 2.2818878e-05, 9.4858861e-01,\n",
              "        6.8610484e-06, 5.1309392e-02, 5.8515408e-05, 2.3434646e-07,\n",
              "        5.3684130e-06, 2.2704090e-07]], dtype=float32)"
            ]
          },
          "metadata": {},
          "execution_count": 10
        }
      ]
    },
    {
      "cell_type": "code",
      "source": [
        "# 復元したモデルによる予測結果\n",
        "pred2 = model2.predict(test_images[0:1])\n",
        "pred2"
      ],
      "metadata": {
        "colab": {
          "base_uri": "https://localhost:8080/"
        },
        "outputId": "950d88dc-1ef5-47e2-cda2-d54c974d0a87",
        "id": "2iK7M4OB9l9u"
      },
      "execution_count": null,
      "outputs": [
        {
          "output_type": "stream",
          "name": "stdout",
          "text": [
            "1/1 [==============================] - 0s 163ms/step\n"
          ]
        },
        {
          "output_type": "execute_result",
          "data": {
            "text/plain": [
              "array([[5.5410546e-06, 2.4355761e-06, 2.2818878e-05, 9.4858861e-01,\n",
              "        6.8610484e-06, 5.1309392e-02, 5.8515408e-05, 2.3434646e-07,\n",
              "        5.3684130e-06, 2.2704090e-07]], dtype=float32)"
            ]
          },
          "metadata": {},
          "execution_count": 11
        }
      ]
    },
    {
      "cell_type": "markdown",
      "source": [
        "# 5. Kaggleで提案されたモデルによる分類"
      ],
      "metadata": {
        "id": "HYXivXvt-D1m"
      }
    },
    {
      "cell_type": "markdown",
      "source": [
        "- 世界的な機械学習のCompetitionであるKaggleにおいて、Cifar10の画像分類で銀メダリストが提案したモデル。"
      ],
      "metadata": {
        "id": "YboBLqj9BEQd"
      }
    },
    {
      "cell_type": "markdown",
      "source": [
        "https://www.kaggle.com/code/kedarsai/cifar-10-88-accuracy-using-keras"
      ],
      "metadata": {
        "id": "FU854WNV_rtZ"
      }
    },
    {
      "cell_type": "markdown",
      "source": [
        "https://www.kaggle.com/kedarsai"
      ],
      "metadata": {
        "id": "7qk4uz5Lu4q4"
      }
    },
    {
      "cell_type": "code",
      "source": [
        "# Googe driveへのマウント。既に行われている場合は評価は不要。\n",
        "from google.colab import drive\n",
        "drive.mount('/content/drive')"
      ],
      "metadata": {
        "id": "DIGfRSwjPqfc"
      },
      "execution_count": null,
      "outputs": []
    },
    {
      "cell_type": "markdown",
      "source": [
        "## 1) ライブラリの読み込み"
      ],
      "metadata": {
        "id": "rXAxrNCk-NtS"
      }
    },
    {
      "cell_type": "code",
      "source": [
        "import tensorflow as tf\n",
        "from tensorflow import keras\n",
        "from tensorflow.keras import datasets, layers, models\n",
        "from keras.layers import BatchNormalization, MaxPool2D\n",
        "from tensorflow.keras.preprocessing.image import ImageDataGenerator\n",
        "import numpy as np\n",
        "import matplotlib.pyplot as plt"
      ],
      "metadata": {
        "id": "ydwxPEx--I6M"
      },
      "execution_count": null,
      "outputs": []
    },
    {
      "cell_type": "markdown",
      "source": [
        "## 2) データの読み込み"
      ],
      "metadata": {
        "id": "BQjzHzND-kt8"
      }
    },
    {
      "cell_type": "markdown",
      "source": [
        "- モデルの損失関数が Cross Entropy のため、正解データは One Hot vectorに変換する"
      ],
      "metadata": {
        "id": "R5GBoTtX-9yt"
      }
    },
    {
      "cell_type": "code",
      "source": [
        "# データの分割\n",
        "(train_images, train_labels), (test_images, test_labels) = datasets.cifar10.load_data()\n",
        "\n",
        "# データの値が0〜1になるように正規化。\n",
        "train_images, test_images = train_images / 255.0, test_images / 255.0\n",
        "\n",
        "# 正解データを One Hot vector に変換。\n",
        "from keras.utils import to_categorical\n",
        "train_labels = to_categorical(train_labels, 10)\n",
        "test_labels = to_categorical(test_labels, 10)"
      ],
      "metadata": {
        "id": "pUel5zQr-m_C"
      },
      "execution_count": null,
      "outputs": []
    },
    {
      "cell_type": "markdown",
      "source": [
        "## 3) モデルの設計"
      ],
      "metadata": {
        "id": "gH2NERPl-n00"
      }
    },
    {
      "cell_type": "markdown",
      "source": [
        "- ８層からなるCNN"
      ],
      "metadata": {
        "id": "PFVcOG-num3-"
      }
    },
    {
      "cell_type": "markdown",
      "source": [
        "https://www.kaggle.com/code/kedarsai/cifar-10-88-accuracy-using-keras"
      ],
      "metadata": {
        "id": "W6-hCsQPu_oU"
      }
    },
    {
      "cell_type": "code",
      "source": [
        "model6 = models.Sequential()\n",
        "model6.add(layers.Conv2D(32, (3, 3), activation='relu', kernel_initializer='he_uniform', padding='same', input_shape=(32, 32, 3)))\n",
        "model6.add(BatchNormalization())\n",
        "model6.add(layers.Conv2D(32, (3, 3), activation='relu', kernel_initializer='he_uniform', padding='same'))\n",
        "model6.add(BatchNormalization())\n",
        "model6.add(MaxPool2D((2, 2)))\n",
        "model6.add(layers.Dropout(0.2))\n",
        "model6.add(layers.Conv2D(64, (3, 3), activation='relu', kernel_initializer='he_uniform', padding='same'))\n",
        "model6.add(BatchNormalization())\n",
        "model6.add(layers.Conv2D(64, (3, 3), activation='relu', kernel_initializer='he_uniform', padding='same'))\n",
        "model6.add(BatchNormalization())\n",
        "model6.add(MaxPool2D((2, 2)))\n",
        "model6.add(layers.Dropout(0.3))\n",
        "model6.add(layers.Conv2D(128, (3, 3), activation='relu', kernel_initializer='he_uniform', padding='same'))\n",
        "model6.add(BatchNormalization())\n",
        "model6.add(layers.Conv2D(128, (3, 3), activation='relu', kernel_initializer='he_uniform', padding='same'))\n",
        "model6.add(BatchNormalization())\n",
        "model6.add(MaxPool2D((2, 2)))\n",
        "model6.add(layers.Dropout(0.4))\n",
        "model6.add(layers.Flatten())\n",
        "model6.add(layers.Dense(128, activation='relu', kernel_initializer='he_uniform'))\n",
        "model6.add(BatchNormalization())\n",
        "model6.add(layers.Dropout(0.5))\n",
        "model6.add(layers.Dense(10, activation='softmax'))\n",
        "\n",
        "model6.summary()"
      ],
      "metadata": {
        "colab": {
          "base_uri": "https://localhost:8080/"
        },
        "id": "m7G6BgCd-pi9",
        "outputId": "3fcd44e0-ea77-499d-87c5-1201e9e8fbed"
      },
      "execution_count": null,
      "outputs": [
        {
          "output_type": "stream",
          "name": "stdout",
          "text": [
            "Model: \"sequential_1\"\n",
            "_________________________________________________________________\n",
            " Layer (type)                Output Shape              Param #   \n",
            "=================================================================\n",
            " conv2d_6 (Conv2D)           (None, 32, 32, 32)        896       \n",
            "                                                                 \n",
            " batch_normalization_7 (Batc  (None, 32, 32, 32)       128       \n",
            " hNormalization)                                                 \n",
            "                                                                 \n",
            " conv2d_7 (Conv2D)           (None, 32, 32, 32)        9248      \n",
            "                                                                 \n",
            " batch_normalization_8 (Batc  (None, 32, 32, 32)       128       \n",
            " hNormalization)                                                 \n",
            "                                                                 \n",
            " max_pooling2d_3 (MaxPooling  (None, 16, 16, 32)       0         \n",
            " 2D)                                                             \n",
            "                                                                 \n",
            " dropout_4 (Dropout)         (None, 16, 16, 32)        0         \n",
            "                                                                 \n",
            " conv2d_8 (Conv2D)           (None, 16, 16, 64)        18496     \n",
            "                                                                 \n",
            " batch_normalization_9 (Batc  (None, 16, 16, 64)       256       \n",
            " hNormalization)                                                 \n",
            "                                                                 \n",
            " conv2d_9 (Conv2D)           (None, 16, 16, 64)        36928     \n",
            "                                                                 \n",
            " batch_normalization_10 (Bat  (None, 16, 16, 64)       256       \n",
            " chNormalization)                                                \n",
            "                                                                 \n",
            " max_pooling2d_4 (MaxPooling  (None, 8, 8, 64)         0         \n",
            " 2D)                                                             \n",
            "                                                                 \n",
            " dropout_5 (Dropout)         (None, 8, 8, 64)          0         \n",
            "                                                                 \n",
            " conv2d_10 (Conv2D)          (None, 8, 8, 128)         73856     \n",
            "                                                                 \n",
            " batch_normalization_11 (Bat  (None, 8, 8, 128)        512       \n",
            " chNormalization)                                                \n",
            "                                                                 \n",
            " conv2d_11 (Conv2D)          (None, 8, 8, 128)         147584    \n",
            "                                                                 \n",
            " batch_normalization_12 (Bat  (None, 8, 8, 128)        512       \n",
            " chNormalization)                                                \n",
            "                                                                 \n",
            " max_pooling2d_5 (MaxPooling  (None, 4, 4, 128)        0         \n",
            " 2D)                                                             \n",
            "                                                                 \n",
            " dropout_6 (Dropout)         (None, 4, 4, 128)         0         \n",
            "                                                                 \n",
            " flatten_1 (Flatten)         (None, 2048)              0         \n",
            "                                                                 \n",
            " dense_2 (Dense)             (None, 128)               262272    \n",
            "                                                                 \n",
            " batch_normalization_13 (Bat  (None, 128)              512       \n",
            " chNormalization)                                                \n",
            "                                                                 \n",
            " dropout_7 (Dropout)         (None, 128)               0         \n",
            "                                                                 \n",
            " dense_3 (Dense)             (None, 10)                1290      \n",
            "                                                                 \n",
            "=================================================================\n",
            "Total params: 552,874\n",
            "Trainable params: 551,722\n",
            "Non-trainable params: 1,152\n",
            "_________________________________________________________________\n"
          ]
        }
      ]
    },
    {
      "cell_type": "markdown",
      "source": [
        "## 4) モデルの学習"
      ],
      "metadata": {
        "id": "76P20KzQ-qZq"
      }
    },
    {
      "cell_type": "markdown",
      "source": [
        "- モデルが大きく、学習を200回行うため、計算に1時間以上かかる可能性あり。"
      ],
      "metadata": {
        "id": "FysA4CcIt3A5"
      }
    },
    {
      "cell_type": "code",
      "source": [
        "# compile model\n",
        "# opt = SGD(lr=0.001, momentum=0.9)\n",
        "model6.compile(optimizer='adam', loss='categorical_crossentropy', metrics=['accuracy'])\n",
        "\n",
        "# Image Data Generator , we are shifting image accross width and height also we are flipping the image horizantally.\n",
        "datagen = ImageDataGenerator(width_shift_range=0.1, height_shift_range=0.1, horizontal_flip=True,rotation_range=20)\n",
        "it_train = datagen.flow(train_images, train_labels)\n",
        "steps = int(train_images.shape[0] / 64)\n",
        "\n",
        "# Be patient. It will take some time to train the due to 200 epochs of optimization.\n",
        "history6=model6.fit_generator(it_train, epochs=200, steps_per_epoch=steps, validation_data=(test_images, test_labels))"
      ],
      "metadata": {
        "colab": {
          "base_uri": "https://localhost:8080/"
        },
        "id": "oalSqgPw-sQ7",
        "outputId": "d4753225-98bc-4828-875d-f77c445645d9"
      },
      "execution_count": null,
      "outputs": [
        {
          "output_type": "stream",
          "name": "stdout",
          "text": [
            "Epoch 1/200\n"
          ]
        },
        {
          "output_type": "stream",
          "name": "stderr",
          "text": [
            "<ipython-input-10-652f0f381825>:11: UserWarning: `Model.fit_generator` is deprecated and will be removed in a future version. Please use `Model.fit`, which supports generators.\n",
            "  history6=model6.fit_generator(it_train, epochs=200, steps_per_epoch=steps, validation_data=(test_images, test_labels))\n"
          ]
        },
        {
          "output_type": "stream",
          "name": "stdout",
          "text": [
            "781/781 [==============================] - 20s 19ms/step - loss: 1.9663 - accuracy: 0.3326 - val_loss: 1.4349 - val_accuracy: 0.4787\n",
            "Epoch 2/200\n",
            "781/781 [==============================] - 14s 18ms/step - loss: 1.4783 - accuracy: 0.4653 - val_loss: 1.4106 - val_accuracy: 0.5005\n",
            "Epoch 3/200\n",
            "781/781 [==============================] - 14s 18ms/step - loss: 1.3127 - accuracy: 0.5279 - val_loss: 1.3498 - val_accuracy: 0.5409\n",
            "Epoch 4/200\n",
            "781/781 [==============================] - 14s 18ms/step - loss: 1.2075 - accuracy: 0.5684 - val_loss: 1.1933 - val_accuracy: 0.5981\n",
            "Epoch 5/200\n",
            "781/781 [==============================] - 14s 18ms/step - loss: 1.1222 - accuracy: 0.6060 - val_loss: 1.0551 - val_accuracy: 0.6315\n",
            "Epoch 6/200\n",
            "781/781 [==============================] - 14s 18ms/step - loss: 1.0643 - accuracy: 0.6286 - val_loss: 0.9697 - val_accuracy: 0.6670\n",
            "Epoch 7/200\n",
            "781/781 [==============================] - 14s 18ms/step - loss: 1.0185 - accuracy: 0.6493 - val_loss: 0.9892 - val_accuracy: 0.6632\n",
            "Epoch 8/200\n",
            "781/781 [==============================] - 14s 18ms/step - loss: 0.9669 - accuracy: 0.6639 - val_loss: 0.9843 - val_accuracy: 0.6745\n",
            "Epoch 9/200\n",
            "781/781 [==============================] - 14s 18ms/step - loss: 0.9290 - accuracy: 0.6784 - val_loss: 0.8546 - val_accuracy: 0.7025\n",
            "Epoch 10/200\n",
            "781/781 [==============================] - 14s 18ms/step - loss: 0.8943 - accuracy: 0.6922 - val_loss: 0.9120 - val_accuracy: 0.7039\n",
            "Epoch 11/200\n",
            "781/781 [==============================] - 14s 18ms/step - loss: 0.8676 - accuracy: 0.7023 - val_loss: 0.9648 - val_accuracy: 0.6805\n",
            "Epoch 12/200\n",
            "781/781 [==============================] - 14s 18ms/step - loss: 0.8469 - accuracy: 0.7115 - val_loss: 0.8105 - val_accuracy: 0.7281\n",
            "Epoch 13/200\n",
            "781/781 [==============================] - 14s 18ms/step - loss: 0.8179 - accuracy: 0.7226 - val_loss: 0.7091 - val_accuracy: 0.7594\n",
            "Epoch 14/200\n",
            "781/781 [==============================] - 14s 18ms/step - loss: 0.8034 - accuracy: 0.7238 - val_loss: 0.6528 - val_accuracy: 0.7825\n",
            "Epoch 15/200\n",
            "781/781 [==============================] - 14s 18ms/step - loss: 0.7961 - accuracy: 0.7262 - val_loss: 0.6571 - val_accuracy: 0.7776\n",
            "Epoch 16/200\n",
            "781/781 [==============================] - 14s 18ms/step - loss: 0.7732 - accuracy: 0.7387 - val_loss: 0.7289 - val_accuracy: 0.7577\n",
            "Epoch 17/200\n",
            "781/781 [==============================] - 14s 18ms/step - loss: 0.7678 - accuracy: 0.7391 - val_loss: 0.5950 - val_accuracy: 0.7997\n",
            "Epoch 18/200\n",
            "781/781 [==============================] - 14s 18ms/step - loss: 0.7467 - accuracy: 0.7493 - val_loss: 0.6920 - val_accuracy: 0.7671\n",
            "Epoch 19/200\n",
            "781/781 [==============================] - 14s 18ms/step - loss: 0.7341 - accuracy: 0.7512 - val_loss: 0.7099 - val_accuracy: 0.7682\n",
            "Epoch 20/200\n",
            "781/781 [==============================] - 14s 18ms/step - loss: 0.7275 - accuracy: 0.7507 - val_loss: 0.6119 - val_accuracy: 0.7969\n",
            "Epoch 21/200\n",
            "781/781 [==============================] - 14s 18ms/step - loss: 0.7047 - accuracy: 0.7603 - val_loss: 0.7506 - val_accuracy: 0.7501\n",
            "Epoch 22/200\n",
            "781/781 [==============================] - 14s 18ms/step - loss: 0.7125 - accuracy: 0.7591 - val_loss: 0.5814 - val_accuracy: 0.8023\n",
            "Epoch 23/200\n",
            "781/781 [==============================] - 14s 18ms/step - loss: 0.7031 - accuracy: 0.7585 - val_loss: 0.6158 - val_accuracy: 0.7930\n",
            "Epoch 24/200\n",
            "781/781 [==============================] - 14s 18ms/step - loss: 0.6897 - accuracy: 0.7676 - val_loss: 0.5313 - val_accuracy: 0.8218\n",
            "Epoch 25/200\n",
            "781/781 [==============================] - 14s 18ms/step - loss: 0.6658 - accuracy: 0.7754 - val_loss: 0.6253 - val_accuracy: 0.7939\n",
            "Epoch 26/200\n",
            "781/781 [==============================] - 14s 18ms/step - loss: 0.6675 - accuracy: 0.7745 - val_loss: 0.5961 - val_accuracy: 0.7988\n",
            "Epoch 27/200\n",
            "781/781 [==============================] - 14s 18ms/step - loss: 0.6642 - accuracy: 0.7778 - val_loss: 0.6613 - val_accuracy: 0.7843\n",
            "Epoch 28/200\n",
            "781/781 [==============================] - 14s 18ms/step - loss: 0.6554 - accuracy: 0.7813 - val_loss: 0.6675 - val_accuracy: 0.7772\n",
            "Epoch 29/200\n",
            "781/781 [==============================] - 14s 18ms/step - loss: 0.6587 - accuracy: 0.7789 - val_loss: 0.5879 - val_accuracy: 0.8041\n",
            "Epoch 30/200\n",
            "781/781 [==============================] - 14s 18ms/step - loss: 0.6434 - accuracy: 0.7796 - val_loss: 0.5526 - val_accuracy: 0.8139\n",
            "Epoch 31/200\n",
            "781/781 [==============================] - 14s 18ms/step - loss: 0.6381 - accuracy: 0.7849 - val_loss: 0.5330 - val_accuracy: 0.8208\n",
            "Epoch 32/200\n",
            "781/781 [==============================] - 14s 18ms/step - loss: 0.6372 - accuracy: 0.7853 - val_loss: 0.5451 - val_accuracy: 0.8229\n",
            "Epoch 33/200\n",
            "781/781 [==============================] - 14s 18ms/step - loss: 0.6289 - accuracy: 0.7874 - val_loss: 0.5818 - val_accuracy: 0.8087\n",
            "Epoch 34/200\n",
            "781/781 [==============================] - 14s 18ms/step - loss: 0.6221 - accuracy: 0.7869 - val_loss: 0.5596 - val_accuracy: 0.8136\n",
            "Epoch 35/200\n",
            "781/781 [==============================] - 14s 18ms/step - loss: 0.6218 - accuracy: 0.7893 - val_loss: 0.5426 - val_accuracy: 0.8204\n",
            "Epoch 36/200\n",
            "781/781 [==============================] - 14s 18ms/step - loss: 0.6113 - accuracy: 0.7934 - val_loss: 0.5304 - val_accuracy: 0.8229\n",
            "Epoch 37/200\n",
            "781/781 [==============================] - 14s 18ms/step - loss: 0.6127 - accuracy: 0.7936 - val_loss: 0.5494 - val_accuracy: 0.8200\n",
            "Epoch 38/200\n",
            "781/781 [==============================] - 14s 18ms/step - loss: 0.5990 - accuracy: 0.7945 - val_loss: 0.4866 - val_accuracy: 0.8364\n",
            "Epoch 39/200\n",
            "781/781 [==============================] - 14s 18ms/step - loss: 0.6027 - accuracy: 0.7981 - val_loss: 0.4984 - val_accuracy: 0.8344\n",
            "Epoch 40/200\n",
            "781/781 [==============================] - 14s 18ms/step - loss: 0.5985 - accuracy: 0.7985 - val_loss: 0.5231 - val_accuracy: 0.8308\n",
            "Epoch 41/200\n",
            "781/781 [==============================] - 14s 18ms/step - loss: 0.5987 - accuracy: 0.8000 - val_loss: 0.4946 - val_accuracy: 0.8340\n",
            "Epoch 42/200\n",
            "781/781 [==============================] - 14s 18ms/step - loss: 0.5882 - accuracy: 0.7981 - val_loss: 0.5050 - val_accuracy: 0.8279\n",
            "Epoch 43/200\n",
            "781/781 [==============================] - 14s 18ms/step - loss: 0.5837 - accuracy: 0.8043 - val_loss: 0.4564 - val_accuracy: 0.8491\n",
            "Epoch 44/200\n",
            "781/781 [==============================] - 14s 18ms/step - loss: 0.5741 - accuracy: 0.8049 - val_loss: 0.5309 - val_accuracy: 0.8267\n",
            "Epoch 45/200\n",
            "781/781 [==============================] - 14s 18ms/step - loss: 0.5876 - accuracy: 0.8024 - val_loss: 0.5036 - val_accuracy: 0.8316\n",
            "Epoch 46/200\n",
            "781/781 [==============================] - 14s 18ms/step - loss: 0.5850 - accuracy: 0.8051 - val_loss: 0.5188 - val_accuracy: 0.8305\n",
            "Epoch 47/200\n",
            "781/781 [==============================] - 14s 18ms/step - loss: 0.5793 - accuracy: 0.8048 - val_loss: 0.4754 - val_accuracy: 0.8439\n",
            "Epoch 48/200\n",
            "781/781 [==============================] - 14s 18ms/step - loss: 0.5653 - accuracy: 0.8101 - val_loss: 0.5404 - val_accuracy: 0.8187\n",
            "Epoch 49/200\n",
            "781/781 [==============================] - 14s 18ms/step - loss: 0.5648 - accuracy: 0.8085 - val_loss: 0.5003 - val_accuracy: 0.8360\n",
            "Epoch 50/200\n",
            "781/781 [==============================] - 14s 18ms/step - loss: 0.5642 - accuracy: 0.8123 - val_loss: 0.4398 - val_accuracy: 0.8522\n",
            "Epoch 51/200\n",
            "781/781 [==============================] - 14s 18ms/step - loss: 0.5593 - accuracy: 0.8133 - val_loss: 0.4497 - val_accuracy: 0.8492\n",
            "Epoch 52/200\n",
            "781/781 [==============================] - 14s 18ms/step - loss: 0.5680 - accuracy: 0.8110 - val_loss: 0.5062 - val_accuracy: 0.8330\n",
            "Epoch 53/200\n",
            "781/781 [==============================] - 14s 18ms/step - loss: 0.5563 - accuracy: 0.8115 - val_loss: 0.4488 - val_accuracy: 0.8532\n",
            "Epoch 54/200\n",
            "781/781 [==============================] - 14s 18ms/step - loss: 0.5610 - accuracy: 0.8113 - val_loss: 0.4549 - val_accuracy: 0.8478\n",
            "Epoch 55/200\n",
            "781/781 [==============================] - 14s 18ms/step - loss: 0.5500 - accuracy: 0.8158 - val_loss: 0.4439 - val_accuracy: 0.8527\n",
            "Epoch 56/200\n",
            "781/781 [==============================] - 14s 18ms/step - loss: 0.5614 - accuracy: 0.8115 - val_loss: 0.4248 - val_accuracy: 0.8572\n",
            "Epoch 57/200\n",
            "781/781 [==============================] - 14s 18ms/step - loss: 0.5366 - accuracy: 0.8185 - val_loss: 0.4454 - val_accuracy: 0.8505\n",
            "Epoch 58/200\n",
            "781/781 [==============================] - 14s 18ms/step - loss: 0.5414 - accuracy: 0.8186 - val_loss: 0.4737 - val_accuracy: 0.8456\n",
            "Epoch 59/200\n",
            "781/781 [==============================] - 14s 18ms/step - loss: 0.5402 - accuracy: 0.8171 - val_loss: 0.5121 - val_accuracy: 0.8358\n",
            "Epoch 60/200\n",
            "781/781 [==============================] - 14s 18ms/step - loss: 0.5364 - accuracy: 0.8189 - val_loss: 0.4559 - val_accuracy: 0.8480\n",
            "Epoch 61/200\n",
            "781/781 [==============================] - 14s 18ms/step - loss: 0.5382 - accuracy: 0.8195 - val_loss: 0.4526 - val_accuracy: 0.8497\n",
            "Epoch 62/200\n",
            "781/781 [==============================] - 14s 18ms/step - loss: 0.5309 - accuracy: 0.8225 - val_loss: 0.4691 - val_accuracy: 0.8481\n",
            "Epoch 63/200\n",
            "781/781 [==============================] - 14s 18ms/step - loss: 0.5299 - accuracy: 0.8200 - val_loss: 0.4583 - val_accuracy: 0.8476\n",
            "Epoch 64/200\n",
            "781/781 [==============================] - 14s 18ms/step - loss: 0.5365 - accuracy: 0.8204 - val_loss: 0.5017 - val_accuracy: 0.8346\n",
            "Epoch 65/200\n",
            "781/781 [==============================] - 14s 18ms/step - loss: 0.5198 - accuracy: 0.8231 - val_loss: 0.4394 - val_accuracy: 0.8545\n",
            "Epoch 66/200\n",
            "781/781 [==============================] - 14s 18ms/step - loss: 0.5350 - accuracy: 0.8197 - val_loss: 0.4448 - val_accuracy: 0.8529\n",
            "Epoch 67/200\n",
            "781/781 [==============================] - 14s 18ms/step - loss: 0.5307 - accuracy: 0.8241 - val_loss: 0.4369 - val_accuracy: 0.8522\n",
            "Epoch 68/200\n",
            "781/781 [==============================] - 14s 18ms/step - loss: 0.5199 - accuracy: 0.8252 - val_loss: 0.4463 - val_accuracy: 0.8521\n",
            "Epoch 69/200\n",
            "781/781 [==============================] - 14s 18ms/step - loss: 0.5243 - accuracy: 0.8222 - val_loss: 0.4614 - val_accuracy: 0.8482\n",
            "Epoch 70/200\n",
            "781/781 [==============================] - 14s 18ms/step - loss: 0.5190 - accuracy: 0.8253 - val_loss: 0.4511 - val_accuracy: 0.8526\n",
            "Epoch 71/200\n",
            "781/781 [==============================] - 14s 18ms/step - loss: 0.5052 - accuracy: 0.8296 - val_loss: 0.4059 - val_accuracy: 0.8651\n",
            "Epoch 72/200\n",
            "781/781 [==============================] - 14s 18ms/step - loss: 0.5183 - accuracy: 0.8249 - val_loss: 0.4580 - val_accuracy: 0.8452\n",
            "Epoch 73/200\n",
            "781/781 [==============================] - 14s 18ms/step - loss: 0.5228 - accuracy: 0.8235 - val_loss: 0.4407 - val_accuracy: 0.8563\n",
            "Epoch 74/200\n",
            "781/781 [==============================] - 14s 18ms/step - loss: 0.5037 - accuracy: 0.8287 - val_loss: 0.4215 - val_accuracy: 0.8618\n",
            "Epoch 75/200\n",
            "781/781 [==============================] - 14s 18ms/step - loss: 0.5226 - accuracy: 0.8251 - val_loss: 0.4229 - val_accuracy: 0.8570\n",
            "Epoch 76/200\n",
            "781/781 [==============================] - 14s 18ms/step - loss: 0.5050 - accuracy: 0.8304 - val_loss: 0.4335 - val_accuracy: 0.8580\n",
            "Epoch 77/200\n",
            "781/781 [==============================] - 14s 18ms/step - loss: 0.5047 - accuracy: 0.8308 - val_loss: 0.4353 - val_accuracy: 0.8602\n",
            "Epoch 78/200\n",
            "781/781 [==============================] - 14s 18ms/step - loss: 0.5161 - accuracy: 0.8258 - val_loss: 0.4384 - val_accuracy: 0.8560\n",
            "Epoch 79/200\n",
            "781/781 [==============================] - 14s 18ms/step - loss: 0.4981 - accuracy: 0.8341 - val_loss: 0.4516 - val_accuracy: 0.8503\n",
            "Epoch 80/200\n",
            "781/781 [==============================] - 14s 18ms/step - loss: 0.5003 - accuracy: 0.8292 - val_loss: 0.4256 - val_accuracy: 0.8599\n",
            "Epoch 81/200\n",
            "781/781 [==============================] - 14s 18ms/step - loss: 0.4985 - accuracy: 0.8321 - val_loss: 0.4242 - val_accuracy: 0.8595\n",
            "Epoch 82/200\n",
            "781/781 [==============================] - 14s 18ms/step - loss: 0.4945 - accuracy: 0.8333 - val_loss: 0.4678 - val_accuracy: 0.8435\n",
            "Epoch 83/200\n",
            "781/781 [==============================] - 14s 18ms/step - loss: 0.5080 - accuracy: 0.8297 - val_loss: 0.4427 - val_accuracy: 0.8510\n",
            "Epoch 84/200\n",
            "781/781 [==============================] - 14s 18ms/step - loss: 0.5041 - accuracy: 0.8313 - val_loss: 0.4844 - val_accuracy: 0.8416\n",
            "Epoch 85/200\n",
            "781/781 [==============================] - 14s 18ms/step - loss: 0.4998 - accuracy: 0.8321 - val_loss: 0.4480 - val_accuracy: 0.8475\n",
            "Epoch 86/200\n",
            "781/781 [==============================] - 14s 18ms/step - loss: 0.4939 - accuracy: 0.8336 - val_loss: 0.3763 - val_accuracy: 0.8735\n",
            "Epoch 87/200\n",
            "781/781 [==============================] - 14s 18ms/step - loss: 0.4930 - accuracy: 0.8316 - val_loss: 0.4565 - val_accuracy: 0.8525\n",
            "Epoch 88/200\n",
            "781/781 [==============================] - 14s 18ms/step - loss: 0.4858 - accuracy: 0.8380 - val_loss: 0.4672 - val_accuracy: 0.8484\n",
            "Epoch 89/200\n",
            "781/781 [==============================] - 14s 18ms/step - loss: 0.4931 - accuracy: 0.8326 - val_loss: 0.4379 - val_accuracy: 0.8584\n",
            "Epoch 90/200\n",
            "781/781 [==============================] - 14s 18ms/step - loss: 0.4867 - accuracy: 0.8386 - val_loss: 0.4028 - val_accuracy: 0.8649\n",
            "Epoch 91/200\n",
            "781/781 [==============================] - 14s 18ms/step - loss: 0.4880 - accuracy: 0.8350 - val_loss: 0.4241 - val_accuracy: 0.8579\n",
            "Epoch 92/200\n",
            "781/781 [==============================] - 14s 18ms/step - loss: 0.4733 - accuracy: 0.8405 - val_loss: 0.4055 - val_accuracy: 0.8652\n",
            "Epoch 93/200\n",
            "781/781 [==============================] - 14s 18ms/step - loss: 0.4846 - accuracy: 0.8368 - val_loss: 0.4111 - val_accuracy: 0.8625\n",
            "Epoch 94/200\n",
            "781/781 [==============================] - 14s 18ms/step - loss: 0.4855 - accuracy: 0.8376 - val_loss: 0.4185 - val_accuracy: 0.8611\n",
            "Epoch 95/200\n",
            "781/781 [==============================] - 14s 18ms/step - loss: 0.4765 - accuracy: 0.8395 - val_loss: 0.3873 - val_accuracy: 0.8681\n",
            "Epoch 96/200\n",
            "781/781 [==============================] - 14s 18ms/step - loss: 0.4781 - accuracy: 0.8397 - val_loss: 0.3833 - val_accuracy: 0.8706\n",
            "Epoch 97/200\n",
            "781/781 [==============================] - 14s 18ms/step - loss: 0.4706 - accuracy: 0.8410 - val_loss: 0.4052 - val_accuracy: 0.8656\n",
            "Epoch 98/200\n",
            "781/781 [==============================] - 14s 18ms/step - loss: 0.4753 - accuracy: 0.8394 - val_loss: 0.4125 - val_accuracy: 0.8601\n",
            "Epoch 99/200\n",
            "781/781 [==============================] - 14s 18ms/step - loss: 0.4692 - accuracy: 0.8417 - val_loss: 0.3976 - val_accuracy: 0.8699\n",
            "Epoch 100/200\n",
            "781/781 [==============================] - 14s 18ms/step - loss: 0.4740 - accuracy: 0.8418 - val_loss: 0.4147 - val_accuracy: 0.8578\n",
            "Epoch 101/200\n",
            "781/781 [==============================] - 14s 18ms/step - loss: 0.4632 - accuracy: 0.8418 - val_loss: 0.4501 - val_accuracy: 0.8526\n",
            "Epoch 102/200\n",
            "781/781 [==============================] - 14s 18ms/step - loss: 0.4741 - accuracy: 0.8395 - val_loss: 0.3894 - val_accuracy: 0.8694\n",
            "Epoch 103/200\n",
            "781/781 [==============================] - 14s 18ms/step - loss: 0.4677 - accuracy: 0.8416 - val_loss: 0.3827 - val_accuracy: 0.8704\n",
            "Epoch 104/200\n",
            "781/781 [==============================] - 14s 18ms/step - loss: 0.4709 - accuracy: 0.8424 - val_loss: 0.3851 - val_accuracy: 0.8709\n",
            "Epoch 105/200\n",
            "781/781 [==============================] - 14s 18ms/step - loss: 0.4705 - accuracy: 0.8444 - val_loss: 0.4012 - val_accuracy: 0.8653\n",
            "Epoch 106/200\n",
            "781/781 [==============================] - 14s 18ms/step - loss: 0.4626 - accuracy: 0.8443 - val_loss: 0.4435 - val_accuracy: 0.8539\n",
            "Epoch 107/200\n",
            "781/781 [==============================] - 14s 18ms/step - loss: 0.4706 - accuracy: 0.8412 - val_loss: 0.3820 - val_accuracy: 0.8718\n",
            "Epoch 108/200\n",
            "781/781 [==============================] - 14s 18ms/step - loss: 0.4547 - accuracy: 0.8452 - val_loss: 0.3766 - val_accuracy: 0.8726\n",
            "Epoch 109/200\n",
            "781/781 [==============================] - 14s 18ms/step - loss: 0.4633 - accuracy: 0.8433 - val_loss: 0.3866 - val_accuracy: 0.8723\n",
            "Epoch 110/200\n",
            "781/781 [==============================] - 14s 18ms/step - loss: 0.4635 - accuracy: 0.8430 - val_loss: 0.4085 - val_accuracy: 0.8656\n",
            "Epoch 111/200\n",
            "781/781 [==============================] - 14s 18ms/step - loss: 0.4565 - accuracy: 0.8458 - val_loss: 0.4203 - val_accuracy: 0.8615\n",
            "Epoch 112/200\n",
            "781/781 [==============================] - 14s 18ms/step - loss: 0.4513 - accuracy: 0.8461 - val_loss: 0.4012 - val_accuracy: 0.8683\n",
            "Epoch 113/200\n",
            "781/781 [==============================] - 14s 18ms/step - loss: 0.4644 - accuracy: 0.8433 - val_loss: 0.4254 - val_accuracy: 0.8638\n",
            "Epoch 114/200\n",
            "781/781 [==============================] - 14s 18ms/step - loss: 0.4588 - accuracy: 0.8442 - val_loss: 0.4148 - val_accuracy: 0.8640\n",
            "Epoch 115/200\n",
            "781/781 [==============================] - 14s 18ms/step - loss: 0.4627 - accuracy: 0.8441 - val_loss: 0.3966 - val_accuracy: 0.8666\n",
            "Epoch 116/200\n",
            "781/781 [==============================] - 14s 18ms/step - loss: 0.4650 - accuracy: 0.8443 - val_loss: 0.3968 - val_accuracy: 0.8671\n",
            "Epoch 117/200\n",
            "781/781 [==============================] - 14s 18ms/step - loss: 0.4633 - accuracy: 0.8439 - val_loss: 0.4026 - val_accuracy: 0.8679\n",
            "Epoch 118/200\n",
            "781/781 [==============================] - 14s 18ms/step - loss: 0.4526 - accuracy: 0.8487 - val_loss: 0.3589 - val_accuracy: 0.8807\n",
            "Epoch 119/200\n",
            "781/781 [==============================] - 14s 18ms/step - loss: 0.4557 - accuracy: 0.8459 - val_loss: 0.3914 - val_accuracy: 0.8696\n",
            "Epoch 120/200\n",
            "781/781 [==============================] - 14s 18ms/step - loss: 0.4489 - accuracy: 0.8490 - val_loss: 0.3925 - val_accuracy: 0.8719\n",
            "Epoch 121/200\n",
            "781/781 [==============================] - 14s 18ms/step - loss: 0.4485 - accuracy: 0.8506 - val_loss: 0.3850 - val_accuracy: 0.8706\n",
            "Epoch 122/200\n",
            "781/781 [==============================] - 14s 18ms/step - loss: 0.4454 - accuracy: 0.8505 - val_loss: 0.3906 - val_accuracy: 0.8680\n",
            "Epoch 123/200\n",
            "781/781 [==============================] - 14s 18ms/step - loss: 0.4520 - accuracy: 0.8464 - val_loss: 0.3966 - val_accuracy: 0.8686\n",
            "Epoch 124/200\n",
            "781/781 [==============================] - 14s 18ms/step - loss: 0.4548 - accuracy: 0.8475 - val_loss: 0.4186 - val_accuracy: 0.8618\n",
            "Epoch 125/200\n",
            "781/781 [==============================] - 14s 18ms/step - loss: 0.4508 - accuracy: 0.8496 - val_loss: 0.4028 - val_accuracy: 0.8648\n",
            "Epoch 126/200\n",
            "781/781 [==============================] - 14s 18ms/step - loss: 0.4473 - accuracy: 0.8482 - val_loss: 0.3567 - val_accuracy: 0.8800\n",
            "Epoch 127/200\n",
            "781/781 [==============================] - 14s 18ms/step - loss: 0.4489 - accuracy: 0.8481 - val_loss: 0.4060 - val_accuracy: 0.8687\n",
            "Epoch 128/200\n",
            "781/781 [==============================] - 14s 18ms/step - loss: 0.4470 - accuracy: 0.8475 - val_loss: 0.3789 - val_accuracy: 0.8740\n",
            "Epoch 129/200\n",
            "781/781 [==============================] - 14s 18ms/step - loss: 0.4542 - accuracy: 0.8460 - val_loss: 0.4012 - val_accuracy: 0.8709\n",
            "Epoch 130/200\n",
            "781/781 [==============================] - 14s 18ms/step - loss: 0.4411 - accuracy: 0.8499 - val_loss: 0.4013 - val_accuracy: 0.8705\n",
            "Epoch 131/200\n",
            "781/781 [==============================] - 14s 18ms/step - loss: 0.4446 - accuracy: 0.8507 - val_loss: 0.3999 - val_accuracy: 0.8682\n",
            "Epoch 132/200\n",
            "781/781 [==============================] - 14s 18ms/step - loss: 0.4443 - accuracy: 0.8494 - val_loss: 0.3798 - val_accuracy: 0.8705\n",
            "Epoch 133/200\n",
            "781/781 [==============================] - 14s 18ms/step - loss: 0.4359 - accuracy: 0.8537 - val_loss: 0.3590 - val_accuracy: 0.8835\n",
            "Epoch 134/200\n",
            "781/781 [==============================] - 14s 18ms/step - loss: 0.4446 - accuracy: 0.8504 - val_loss: 0.4602 - val_accuracy: 0.8507\n",
            "Epoch 135/200\n",
            "781/781 [==============================] - 14s 18ms/step - loss: 0.4401 - accuracy: 0.8515 - val_loss: 0.3969 - val_accuracy: 0.8692\n",
            "Epoch 136/200\n",
            "781/781 [==============================] - 14s 18ms/step - loss: 0.4481 - accuracy: 0.8462 - val_loss: 0.4052 - val_accuracy: 0.8676\n",
            "Epoch 137/200\n",
            "781/781 [==============================] - 14s 18ms/step - loss: 0.4298 - accuracy: 0.8544 - val_loss: 0.3934 - val_accuracy: 0.8696\n",
            "Epoch 138/200\n",
            "781/781 [==============================] - 14s 18ms/step - loss: 0.4347 - accuracy: 0.8511 - val_loss: 0.3587 - val_accuracy: 0.8820\n",
            "Epoch 139/200\n",
            "781/781 [==============================] - 14s 18ms/step - loss: 0.4300 - accuracy: 0.8561 - val_loss: 0.3968 - val_accuracy: 0.8712\n",
            "Epoch 140/200\n",
            "781/781 [==============================] - 14s 18ms/step - loss: 0.4321 - accuracy: 0.8553 - val_loss: 0.3694 - val_accuracy: 0.8747\n",
            "Epoch 141/200\n",
            "781/781 [==============================] - 14s 18ms/step - loss: 0.4373 - accuracy: 0.8533 - val_loss: 0.4224 - val_accuracy: 0.8625\n",
            "Epoch 142/200\n",
            "781/781 [==============================] - 14s 18ms/step - loss: 0.4411 - accuracy: 0.8488 - val_loss: 0.4154 - val_accuracy: 0.8671\n",
            "Epoch 143/200\n",
            "781/781 [==============================] - 14s 18ms/step - loss: 0.4318 - accuracy: 0.8541 - val_loss: 0.3713 - val_accuracy: 0.8761\n",
            "Epoch 144/200\n",
            "781/781 [==============================] - 14s 18ms/step - loss: 0.4311 - accuracy: 0.8535 - val_loss: 0.3727 - val_accuracy: 0.8771\n",
            "Epoch 145/200\n",
            "781/781 [==============================] - 14s 18ms/step - loss: 0.4327 - accuracy: 0.8533 - val_loss: 0.3830 - val_accuracy: 0.8723\n",
            "Epoch 146/200\n",
            "781/781 [==============================] - 14s 18ms/step - loss: 0.4342 - accuracy: 0.8551 - val_loss: 0.3684 - val_accuracy: 0.8765\n",
            "Epoch 147/200\n",
            "781/781 [==============================] - 14s 18ms/step - loss: 0.4313 - accuracy: 0.8557 - val_loss: 0.3925 - val_accuracy: 0.8694\n",
            "Epoch 148/200\n",
            "781/781 [==============================] - 14s 18ms/step - loss: 0.4262 - accuracy: 0.8546 - val_loss: 0.4422 - val_accuracy: 0.8563\n",
            "Epoch 149/200\n",
            "781/781 [==============================] - 14s 18ms/step - loss: 0.4269 - accuracy: 0.8589 - val_loss: 0.3795 - val_accuracy: 0.8767\n",
            "Epoch 150/200\n",
            "781/781 [==============================] - 14s 18ms/step - loss: 0.4406 - accuracy: 0.8527 - val_loss: 0.3953 - val_accuracy: 0.8685\n",
            "Epoch 151/200\n",
            "781/781 [==============================] - 14s 18ms/step - loss: 0.4323 - accuracy: 0.8542 - val_loss: 0.3811 - val_accuracy: 0.8730\n",
            "Epoch 152/200\n",
            "781/781 [==============================] - 14s 18ms/step - loss: 0.4279 - accuracy: 0.8557 - val_loss: 0.3868 - val_accuracy: 0.8742\n",
            "Epoch 153/200\n",
            "781/781 [==============================] - 14s 18ms/step - loss: 0.4280 - accuracy: 0.8556 - val_loss: 0.3781 - val_accuracy: 0.8757\n",
            "Epoch 154/200\n",
            "781/781 [==============================] - 14s 18ms/step - loss: 0.4292 - accuracy: 0.8548 - val_loss: 0.3743 - val_accuracy: 0.8772\n",
            "Epoch 155/200\n",
            "781/781 [==============================] - 14s 18ms/step - loss: 0.4349 - accuracy: 0.8527 - val_loss: 0.3912 - val_accuracy: 0.8715\n",
            "Epoch 156/200\n",
            "781/781 [==============================] - 14s 18ms/step - loss: 0.4330 - accuracy: 0.8531 - val_loss: 0.3727 - val_accuracy: 0.8785\n",
            "Epoch 157/200\n",
            "781/781 [==============================] - 14s 18ms/step - loss: 0.4226 - accuracy: 0.8561 - val_loss: 0.4126 - val_accuracy: 0.8652\n",
            "Epoch 158/200\n",
            "781/781 [==============================] - 14s 18ms/step - loss: 0.4306 - accuracy: 0.8539 - val_loss: 0.4371 - val_accuracy: 0.8577\n",
            "Epoch 159/200\n",
            "781/781 [==============================] - 14s 18ms/step - loss: 0.4271 - accuracy: 0.8547 - val_loss: 0.3828 - val_accuracy: 0.8730\n",
            "Epoch 160/200\n",
            "781/781 [==============================] - 14s 18ms/step - loss: 0.4294 - accuracy: 0.8529 - val_loss: 0.3919 - val_accuracy: 0.8730\n",
            "Epoch 161/200\n",
            "781/781 [==============================] - 14s 18ms/step - loss: 0.4145 - accuracy: 0.8604 - val_loss: 0.3534 - val_accuracy: 0.8851\n",
            "Epoch 162/200\n",
            "781/781 [==============================] - 14s 18ms/step - loss: 0.4256 - accuracy: 0.8552 - val_loss: 0.3810 - val_accuracy: 0.8762\n",
            "Epoch 163/200\n",
            "781/781 [==============================] - 14s 18ms/step - loss: 0.4282 - accuracy: 0.8567 - val_loss: 0.3833 - val_accuracy: 0.8764\n",
            "Epoch 164/200\n",
            "781/781 [==============================] - 14s 18ms/step - loss: 0.4216 - accuracy: 0.8574 - val_loss: 0.3642 - val_accuracy: 0.8759\n",
            "Epoch 165/200\n",
            "781/781 [==============================] - 14s 18ms/step - loss: 0.4297 - accuracy: 0.8535 - val_loss: 0.3988 - val_accuracy: 0.8684\n",
            "Epoch 166/200\n",
            "781/781 [==============================] - 14s 18ms/step - loss: 0.4223 - accuracy: 0.8578 - val_loss: 0.3491 - val_accuracy: 0.8844\n",
            "Epoch 167/200\n",
            "781/781 [==============================] - 14s 18ms/step - loss: 0.4207 - accuracy: 0.8583 - val_loss: 0.4113 - val_accuracy: 0.8621\n",
            "Epoch 168/200\n",
            "781/781 [==============================] - 14s 18ms/step - loss: 0.4205 - accuracy: 0.8580 - val_loss: 0.3659 - val_accuracy: 0.8794\n",
            "Epoch 169/200\n",
            "781/781 [==============================] - 14s 18ms/step - loss: 0.4200 - accuracy: 0.8585 - val_loss: 0.4139 - val_accuracy: 0.8654\n",
            "Epoch 170/200\n",
            "781/781 [==============================] - 14s 18ms/step - loss: 0.4207 - accuracy: 0.8596 - val_loss: 0.4005 - val_accuracy: 0.8719\n",
            "Epoch 171/200\n",
            "781/781 [==============================] - 14s 18ms/step - loss: 0.4147 - accuracy: 0.8595 - val_loss: 0.3572 - val_accuracy: 0.8833\n",
            "Epoch 172/200\n",
            "781/781 [==============================] - 14s 18ms/step - loss: 0.4159 - accuracy: 0.8600 - val_loss: 0.3955 - val_accuracy: 0.8738\n",
            "Epoch 173/200\n",
            "781/781 [==============================] - 14s 18ms/step - loss: 0.4217 - accuracy: 0.8575 - val_loss: 0.3925 - val_accuracy: 0.8748\n",
            "Epoch 174/200\n",
            "781/781 [==============================] - 14s 18ms/step - loss: 0.4105 - accuracy: 0.8609 - val_loss: 0.4289 - val_accuracy: 0.8596\n",
            "Epoch 175/200\n",
            "781/781 [==============================] - 14s 18ms/step - loss: 0.4150 - accuracy: 0.8577 - val_loss: 0.4058 - val_accuracy: 0.8675\n",
            "Epoch 176/200\n",
            "781/781 [==============================] - 14s 18ms/step - loss: 0.4146 - accuracy: 0.8599 - val_loss: 0.3603 - val_accuracy: 0.8803\n",
            "Epoch 177/200\n",
            "781/781 [==============================] - 14s 18ms/step - loss: 0.4179 - accuracy: 0.8574 - val_loss: 0.3356 - val_accuracy: 0.8859\n",
            "Epoch 178/200\n",
            "781/781 [==============================] - 14s 18ms/step - loss: 0.4081 - accuracy: 0.8622 - val_loss: 0.3556 - val_accuracy: 0.8826\n",
            "Epoch 179/200\n",
            "781/781 [==============================] - 14s 18ms/step - loss: 0.4154 - accuracy: 0.8578 - val_loss: 0.3605 - val_accuracy: 0.8794\n",
            "Epoch 180/200\n",
            "781/781 [==============================] - 14s 18ms/step - loss: 0.4136 - accuracy: 0.8602 - val_loss: 0.3399 - val_accuracy: 0.8864\n",
            "Epoch 181/200\n",
            "781/781 [==============================] - 14s 18ms/step - loss: 0.4121 - accuracy: 0.8606 - val_loss: 0.3773 - val_accuracy: 0.8759\n",
            "Epoch 182/200\n",
            "781/781 [==============================] - 14s 18ms/step - loss: 0.4147 - accuracy: 0.8592 - val_loss: 0.3683 - val_accuracy: 0.8764\n",
            "Epoch 183/200\n",
            "781/781 [==============================] - 14s 18ms/step - loss: 0.4130 - accuracy: 0.8593 - val_loss: 0.3792 - val_accuracy: 0.8731\n",
            "Epoch 184/200\n",
            "781/781 [==============================] - 14s 18ms/step - loss: 0.4060 - accuracy: 0.8621 - val_loss: 0.3534 - val_accuracy: 0.8834\n",
            "Epoch 185/200\n",
            "781/781 [==============================] - 14s 18ms/step - loss: 0.4024 - accuracy: 0.8644 - val_loss: 0.3502 - val_accuracy: 0.8852\n",
            "Epoch 186/200\n",
            "781/781 [==============================] - 14s 18ms/step - loss: 0.4024 - accuracy: 0.8628 - val_loss: 0.3544 - val_accuracy: 0.8824\n",
            "Epoch 187/200\n",
            "781/781 [==============================] - 14s 18ms/step - loss: 0.4182 - accuracy: 0.8567 - val_loss: 0.3526 - val_accuracy: 0.8826\n",
            "Epoch 188/200\n",
            "781/781 [==============================] - 14s 18ms/step - loss: 0.4048 - accuracy: 0.8640 - val_loss: 0.4053 - val_accuracy: 0.8656\n",
            "Epoch 189/200\n",
            "781/781 [==============================] - 14s 18ms/step - loss: 0.4148 - accuracy: 0.8610 - val_loss: 0.3522 - val_accuracy: 0.8818\n",
            "Epoch 190/200\n",
            "781/781 [==============================] - 14s 18ms/step - loss: 0.4100 - accuracy: 0.8609 - val_loss: 0.3620 - val_accuracy: 0.8791\n",
            "Epoch 191/200\n",
            "781/781 [==============================] - 14s 18ms/step - loss: 0.4075 - accuracy: 0.8625 - val_loss: 0.3978 - val_accuracy: 0.8687\n",
            "Epoch 192/200\n",
            "781/781 [==============================] - 14s 18ms/step - loss: 0.4177 - accuracy: 0.8583 - val_loss: 0.3526 - val_accuracy: 0.8814\n",
            "Epoch 193/200\n",
            "781/781 [==============================] - 14s 18ms/step - loss: 0.4091 - accuracy: 0.8638 - val_loss: 0.3556 - val_accuracy: 0.8833\n",
            "Epoch 194/200\n",
            "781/781 [==============================] - 14s 18ms/step - loss: 0.4095 - accuracy: 0.8607 - val_loss: 0.4021 - val_accuracy: 0.8675\n",
            "Epoch 195/200\n",
            "781/781 [==============================] - 14s 18ms/step - loss: 0.4118 - accuracy: 0.8591 - val_loss: 0.3854 - val_accuracy: 0.8731\n",
            "Epoch 196/200\n",
            "781/781 [==============================] - 14s 18ms/step - loss: 0.4046 - accuracy: 0.8645 - val_loss: 0.4088 - val_accuracy: 0.8680\n",
            "Epoch 197/200\n",
            "781/781 [==============================] - 14s 18ms/step - loss: 0.4068 - accuracy: 0.8635 - val_loss: 0.3761 - val_accuracy: 0.8774\n",
            "Epoch 198/200\n",
            "781/781 [==============================] - 14s 18ms/step - loss: 0.3983 - accuracy: 0.8641 - val_loss: 0.3736 - val_accuracy: 0.8774\n",
            "Epoch 199/200\n",
            "781/781 [==============================] - 14s 18ms/step - loss: 0.4083 - accuracy: 0.8610 - val_loss: 0.3750 - val_accuracy: 0.8761\n",
            "Epoch 200/200\n",
            "781/781 [==============================] - 14s 18ms/step - loss: 0.4040 - accuracy: 0.8636 - val_loss: 0.3670 - val_accuracy: 0.8795\n"
          ]
        }
      ]
    },
    {
      "cell_type": "code",
      "source": [
        "# モデルの学習過程\n",
        "\n",
        "# Access the training history\n",
        "train_loss = history6.history['loss']\n",
        "val_loss = history6.history['val_loss']\n",
        "train_accuracy = history6.history['accuracy']\n",
        "val_accuracy = history6.history['val_accuracy']\n",
        "\n",
        "# Plot of the training and validation loss\n",
        "epochs = np.arange(1, len(train_loss) + 1)\n",
        "\n",
        "plt.figure(figsize=(12, 4))\n",
        "plt.subplot(1, 2, 1)\n",
        "plt.plot(epochs, train_loss, 'b', label='Training Loss')\n",
        "plt.plot(epochs, val_loss, 'r', label='Validation Loss')\n",
        "plt.title('Training and Validation Loss')\n",
        "plt.xlabel('Epochs')\n",
        "plt.ylabel('Loss')\n",
        "plt.legend()\n",
        "\n",
        "# Plot　of the training and validation accuracy\n",
        "plt.subplot(1, 2, 2)\n",
        "plt.plot(epochs, train_accuracy, 'b', label='Training Accuracy')\n",
        "plt.plot(epochs, val_accuracy, 'r', label='Validation Accuracy')\n",
        "plt.title('Training and Validation Accuracy')\n",
        "plt.xlabel('Epochs')\n",
        "plt.ylabel('Accuracy')\n",
        "plt.legend()\n",
        "\n",
        "plt.tight_layout()\n",
        "plt.show()"
      ],
      "metadata": {
        "colab": {
          "base_uri": "https://localhost:8080/",
          "height": 397
        },
        "id": "p77auhLrCREY",
        "outputId": "1e5c425d-4f24-414c-8971-8317ee06fa19"
      },
      "execution_count": null,
      "outputs": [
        {
          "output_type": "display_data",
          "data": {
            "text/plain": [
              "<Figure size 1200x400 with 2 Axes>"
            ],
            "image/png": "[encoded data removed]"
          },
          "metadata": {}
        }
      ]
    },
    {
      "cell_type": "markdown",
      "source": [
        "## 5) モデルの検証"
      ],
      "metadata": {
        "id": "M-Gv27So-tUr"
      }
    },
    {
      "cell_type": "code",
      "source": [
        "# 予測モデルの精度をtest dataで検証\n",
        "score = model6.evaluate(test_images, test_labels, verbose = 0)\n",
        "print('Test loss: ', score[0])\n",
        "print('Test accuracy: ', score[1])"
      ],
      "metadata": {
        "colab": {
          "base_uri": "https://localhost:8080/"
        },
        "id": "vEzvTuvW-vK3",
        "outputId": "e00cedaf-8964-4a72-d6d9-7b3fb9d29772"
      },
      "execution_count": null,
      "outputs": [
        {
          "output_type": "stream",
          "name": "stdout",
          "text": [
            "Test loss:  0.3669816553592682\n",
            "Test accuracy:  0.8794999718666077\n"
          ]
        }
      ]
    },
    {
      "cell_type": "markdown",
      "source": [
        "- 検証データで、Accuracy 87.9% を達成した。"
      ],
      "metadata": {
        "id": "TLR5eEBqOcTu"
      }
    },
    {
      "cell_type": "markdown",
      "source": [
        "## 6) モデルの保存と復元"
      ],
      "metadata": {
        "id": "RBUnAOf4-wYG"
      }
    },
    {
      "cell_type": "code",
      "source": [
        "# モデルの保存。HDF5ファイルで保存される。\n",
        "model6.save('/content/drive/MyDrive/Telakoya/tela5/model/cnnK2.h5')"
      ],
      "metadata": {
        "id": "nA_m_izKCvNk"
      },
      "execution_count": null,
      "outputs": []
    },
    {
      "cell_type": "code",
      "source": [
        "# モデルの復元。\n",
        "from keras.models import load_model\n",
        "model62 = load_model('/content/drive/MyDrive/Telakoya/tela5/model/cnnK2.h5')"
      ],
      "metadata": {
        "id": "VKMBhJs_CvNq"
      },
      "execution_count": null,
      "outputs": []
    },
    {
      "cell_type": "code",
      "source": [
        "# 保存前のモデルによる予測結果\n",
        "pred = model6.predict(test_images[0:1])\n",
        "pred"
      ],
      "metadata": {
        "colab": {
          "base_uri": "https://localhost:8080/"
        },
        "outputId": "ef55db19-359d-4fc0-e857-069b29f51069",
        "id": "KX4viuoTCvNq"
      },
      "execution_count": null,
      "outputs": [
        {
          "output_type": "stream",
          "name": "stdout",
          "text": [
            "1/1 [==============================] - 0s 394ms/step\n"
          ]
        },
        {
          "output_type": "execute_result",
          "data": {
            "text/plain": [
              "array([[2.6633349e-04, 8.5021816e-03, 6.1478275e-03, 8.2811821e-01,\n",
              "        1.4202230e-04, 1.5331723e-01, 1.2811751e-03, 1.4427240e-03,\n",
              "        3.0708959e-04, 4.7520455e-04]], dtype=float32)"
            ]
          },
          "metadata": {},
          "execution_count": 15
        }
      ]
    },
    {
      "cell_type": "code",
      "source": [
        "# 復元したモデルによる予測結果\n",
        "pred2 = model62.predict(test_images[0:1])\n",
        "pred2"
      ],
      "metadata": {
        "colab": {
          "base_uri": "https://localhost:8080/"
        },
        "outputId": "67dbe0d8-6896-4264-bddc-53358e5ecb52",
        "id": "hMqbD88DCvNq"
      },
      "execution_count": null,
      "outputs": [
        {
          "output_type": "stream",
          "name": "stdout",
          "text": [
            "1/1 [==============================] - 0s 174ms/step\n"
          ]
        },
        {
          "output_type": "execute_result",
          "data": {
            "text/plain": [
              "array([[2.6633349e-04, 8.5021816e-03, 6.1478275e-03, 8.2811821e-01,\n",
              "        1.4202230e-04, 1.5331723e-01, 1.2811751e-03, 1.4427240e-03,\n",
              "        3.0708959e-04, 4.7520455e-04]], dtype=float32)"
            ]
          },
          "metadata": {},
          "execution_count": 16
        }
      ]
    }
  ]
}