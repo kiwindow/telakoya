{
 "cells": [
  {
   "cell_type": "markdown",
   "metadata": {
    "id": "7EewZ4vjix3L"
   },
   "source": [
    "# ■ 日本腎・血液浄化AI学会主催「よくわかる寺子屋セミナー」\n",
    "\n",
    "# 第5回「深層学習による画像問題」　演習プログラム"
   ]
  },
  {
   "cell_type": "markdown",
   "metadata": {
    "id": "ObWUzCOajAZ-"
   },
   "source": [
    "## □ 文責　学術委員会副委員長　岩藤和広"
   ]
  },
  {
   "cell_type": "markdown",
   "metadata": {
    "id": "dZGzoyVHjdep"
   },
   "source": [
    "# 0. 環境設定"
   ]
  },
  {
   "cell_type": "markdown",
   "metadata": {
    "id": "mXHT_P34jgR0"
   },
   "source": [
    "- MyDriveの中にTelakoya というフォルダーを作成し、その中に tela5 というフォルダーを作成する\n",
    "- フォルダー tela4 の中に model というフォルダーを作る。"
   ]
  },
  {
   "cell_type": "markdown",
   "metadata": {
    "id": "fLeKGSG7Aais"
   },
   "source": [
    "- 最初に、このnotebookをGoogle Driveにmount(Google driveに接続)する。\n",
    "- その方法は、https://github.com/kiwindow/telakoya の中の「Google Colabortoryの使い方」を参照。\n",
    "- 【重要】 mountする前に\n",
    "- 「ランタイム」➡「ランタイムのタイプを変更」➡「ハードウェアアクセラレータ」を「GPU」に切り替えて保存する。\n",
    "- 　これを行わないと、エラーが出たり、計算に長い時間がかかる。\n",
    "- mount出来ると、左のサイドバーに drive というフォルダーが現れる。\n",
    "- もし drive というフォルダーがなければ、次のセルを実行する。"
   ]
  },
  {
   "cell_type": "code",
   "execution_count": null,
   "metadata": {
    "colab": {
     "base_uri": "https://localhost:8080/"
    },
    "id": "eAvyB44qA0JL",
    "outputId": "e1281544-a31a-4a8f-f8b3-363ad7db4811"
   },
   "outputs": [
    {
     "name": "stdout",
     "output_type": "stream",
     "text": [
      "Drive already mounted at /content/drive; to attempt to forcibly remount, call drive.mount(\"/content/drive\", force_remount=True).\n"
     ]
    }
   ],
   "source": [
    "# Gogle driveにmountする\n",
    "from google.colab import drive\n",
    "drive.mount('/content/drive')"
   ]
  },
  {
   "cell_type": "code",
   "execution_count": null,
   "metadata": {
    "colab": {
     "base_uri": "https://localhost:8080/"
    },
    "id": "HFw-SoKt4Sy_",
    "outputId": "dbda94c9-f975-4df0-d518-daf5b719d126"
   },
   "outputs": [
    {
     "name": "stdout",
     "output_type": "stream",
     "text": [
      "Mon May 15 01:02:09 2023       \n",
      "+-----------------------------------------------------------------------------+\n",
      "| NVIDIA-SMI 525.85.12    Driver Version: 525.85.12    CUDA Version: 12.0     |\n",
      "|-------------------------------+----------------------+----------------------+\n",
      "| GPU  Name        Persistence-M| Bus-Id        Disp.A | Volatile Uncorr. ECC |\n",
      "| Fan  Temp  Perf  Pwr:Usage/Cap|         Memory-Usage | GPU-Util  Compute M. |\n",
      "|                               |                      |               MIG M. |\n",
      "|===============================+======================+======================|\n",
      "|   0  NVIDIA A100-SXM...  Off  | 00000000:00:04.0 Off |                    0 |\n",
      "| N/A   32C    P0    46W / 400W |      0MiB / 40960MiB |      0%      Default |\n",
      "|                               |                      |             Disabled |\n",
      "+-------------------------------+----------------------+----------------------+\n",
      "                                                                               \n",
      "+-----------------------------------------------------------------------------+\n",
      "| Processes:                                                                  |\n",
      "|  GPU   GI   CI        PID   Type   Process name                  GPU Memory |\n",
      "|        ID   ID                                                   Usage      |\n",
      "|=============================================================================|\n",
      "|  No running processes found                                                 |\n",
      "+-----------------------------------------------------------------------------+\n"
     ]
    }
   ],
   "source": [
    "# 以下のコマンドでどの種類のGPUに接続したかが分かる\n",
    "!nvidia-smi"
   ]
  },
  {
   "cell_type": "markdown",
   "metadata": {
    "id": "mPLwF0d30ck7"
   },
   "source": [
    "# 1. ライブラリやデータの準備"
   ]
  },
  {
   "cell_type": "markdown",
   "metadata": {
    "id": "n3A62Ym47vXD"
   },
   "source": [
    "## 1) ライブラリの読み込み"
   ]
  },
  {
   "cell_type": "markdown",
   "metadata": {
    "id": "ZjTomyr-8qa4"
   },
   "source": [
    "- Tensorflow2のwrapperであるKerasを利用する。\n",
    "- 深層学習はTensorflow2かPyTorchというframeworkを利用するが、どちらもプログラムがやや煩雑。\n",
    "- KerasはTensorflow2を機械学習のsklearnのような書式で書けるようにしたもの。\n",
    "- Tensorflow2は企業などで、PyTorchは研究機関などで、それぞれ利用されることが多い。"
   ]
  },
  {
   "cell_type": "code",
   "execution_count": null,
   "metadata": {
    "id": "cQlCR_oDj4Fo"
   },
   "outputs": [],
   "source": [
    "# ライブラリの読み込み\n",
    "import tensorflow as tf\n",
    "from tensorflow import keras\n",
    "# from keras import datasets, layers, models\n",
    "\n",
    "import numpy as np  # 数値計算のライブラリ\n",
    "import matplotlib.pyplot as plt  # 図示のライブラリ\n",
    "%matplotlib inline"
   ]
  },
  {
   "cell_type": "markdown",
   "metadata": {
    "id": "x_kzi0ZA7x36"
   },
   "source": [
    "## 2) データの読み込み"
   ]
  },
  {
   "cell_type": "markdown",
   "metadata": {
    "id": "xPtB14Uz72tR"
   },
   "source": [
    "- mnist と呼ばれる手書き数字(0〜9)の画像データを利用する。\n",
    "- mnist には、学習データが60,000字、検証データが10,000字ある。\n",
    "- データは、28×28個の整数(0〜255)からなる行列で形成されている。\n",
    "- 一つ一つの文字には、0〜9の正解データも付いている。"
   ]
  },
  {
   "cell_type": "code",
   "execution_count": null,
   "metadata": {
    "colab": {
     "base_uri": "https://localhost:8080/"
    },
    "id": "SLeN1gZl7oNA",
    "outputId": "d062a008-5023-439f-e422-3331435ef6e7"
   },
   "outputs": [
    {
     "name": "stdout",
     "output_type": "stream",
     "text": [
      "Downloading data from https://storage.googleapis.com/tensorflow/tf-keras-datasets/mnist.npz\n",
      "11490434/11490434 [==============================] - 0s 0us/step\n"
     ]
    }
   ],
   "source": [
    "# データの読み込み\n",
    "from keras.datasets import mnist\n",
    "(x_train, t_train), (x_test, t_test) = mnist.load_data()"
   ]
  },
  {
   "cell_type": "code",
   "execution_count": null,
   "metadata": {
    "colab": {
     "base_uri": "https://localhost:8080/"
    },
    "id": "BOA59-Wt8m04",
    "outputId": "c9c784b0-45be-44a8-ccb4-2ec8c9bbb605"
   },
   "outputs": [
    {
     "data": {
      "text/plain": [
       "60000"
      ]
     },
     "execution_count": 5,
     "metadata": {},
     "output_type": "execute_result"
    }
   ],
   "source": [
    "# データ数の確認\n",
    "len(x_train)"
   ]
  },
  {
   "cell_type": "code",
   "execution_count": null,
   "metadata": {
    "colab": {
     "base_uri": "https://localhost:8080/"
    },
    "id": "kDtmMaDX9pkN",
    "outputId": "d5dae281-286f-489d-884b-194616df5100"
   },
   "outputs": [
    {
     "data": {
      "text/plain": [
       "10000"
      ]
     },
     "execution_count": 6,
     "metadata": {},
     "output_type": "execute_result"
    }
   ],
   "source": [
    "len(x_test)"
   ]
  },
  {
   "cell_type": "code",
   "execution_count": null,
   "metadata": {
    "colab": {
     "base_uri": "https://localhost:8080/"
    },
    "id": "cALwBSRa-epL",
    "outputId": "f03eeb2f-9a06-4069-af00-a39d679e6f35"
   },
   "outputs": [
    {
     "data": {
      "text/plain": [
       "(60000, 28, 28)"
      ]
     },
     "execution_count": 11,
     "metadata": {},
     "output_type": "execute_result"
    }
   ],
   "source": [
    "# データの形の確認\n",
    "x_train.shape"
   ]
  },
  {
   "cell_type": "code",
   "execution_count": null,
   "metadata": {
    "colab": {
     "base_uri": "https://localhost:8080/"
    },
    "id": "ICFGYe3y-i0f",
    "outputId": "7ef7f971-fc2d-4403-c5a4-4c78b912a842"
   },
   "outputs": [
    {
     "data": {
      "text/plain": [
       "(10000, 28, 28)"
      ]
     },
     "execution_count": 12,
     "metadata": {},
     "output_type": "execute_result"
    }
   ],
   "source": [
    "x_test.shape"
   ]
  },
  {
   "cell_type": "code",
   "execution_count": null,
   "metadata": {
    "id": "_ABj_HLI9rDW"
   },
   "outputs": [],
   "source": [
    "# データの中身の確認\n",
    "x_train[0]"
   ]
  },
  {
   "cell_type": "code",
   "execution_count": null,
   "metadata": {
    "colab": {
     "base_uri": "https://localhost:8080/"
    },
    "id": "AcZdzxPB9vsc",
    "outputId": "1ad937c9-16f6-42bc-f49e-04db77c6cfb8"
   },
   "outputs": [
    {
     "data": {
      "text/plain": [
       "5"
      ]
     },
     "execution_count": 8,
     "metadata": {},
     "output_type": "execute_result"
    }
   ],
   "source": [
    "t_train[0]"
   ]
  },
  {
   "cell_type": "code",
   "execution_count": null,
   "metadata": {
    "colab": {
     "base_uri": "https://localhost:8080/",
     "height": 448
    },
    "id": "Ndlg8jTg9zNe",
    "outputId": "0ff30ec0-19b0-430b-c841-baf82f13099a"
   },
   "outputs": [
    {
     "data": {
      "text/plain": [
       "<matplotlib.image.AxesImage at 0x7fb4555591e0>"
      ]
     },
     "execution_count": 10,
     "metadata": {},
     "output_type": "execute_result"
    },
    {
     "data": {
      "image/png": "[encoded data removed]",
      "text/plain": [
       "<Figure size 640x480 with 1 Axes>"
      ]
     },
     "metadata": {},
     "output_type": "display_data"
    }
   ],
   "source": [
    "# データの図示\n",
    "plt.imshow(x_train[0])"
   ]
  },
  {
   "cell_type": "markdown",
   "metadata": {
    "id": "McAGloto9-KO"
   },
   "source": [
    "## 3) 画像データの正規化・浮動小数点化とChannelの次元の付加"
   ]
  },
  {
   "cell_type": "markdown",
   "metadata": {
    "id": "v0xMXivI-Emt"
   },
   "source": [
    "- 整数のデータを、0〜1の浮動小数点(float32)に正規化する。\n",
    "- 個々のデータの形を、(縦の数、横の数、Channel)にする。"
   ]
  },
  {
   "cell_type": "code",
   "execution_count": null,
   "metadata": {
    "id": "Vk_10Lim96bB"
   },
   "outputs": [],
   "source": [
    "# 画像データの正規化(0〜1)と小数化(float32)\n",
    "x_train = x_train.astype('float32')/255\n",
    "x_test = x_test.astype('float32')/255"
   ]
  },
  {
   "cell_type": "code",
   "execution_count": null,
   "metadata": {
    "id": "iL4nK7nq_yaI"
   },
   "outputs": [],
   "source": [
    "# 正規化とfloat32になったことの確認\n",
    "x_train[0]"
   ]
  },
  {
   "cell_type": "markdown",
   "metadata": {
    "id": "4vWiNdvOCsGj"
   },
   "source": [
    "https://numpy.org/doc/stable/reference/generated/numpy.expand_dims.html"
   ]
  },
  {
   "cell_type": "code",
   "execution_count": null,
   "metadata": {
    "id": "1EHOPseiANMJ"
   },
   "outputs": [],
   "source": [
    "# 個々のデータの形を 28 x 28 x 1 とする (channelの次元を最後に加える)\n",
    "x_train = np.expand_dims(x_train, -1)\n",
    "x_test = np.expand_dims(x_test, -1)"
   ]
  },
  {
   "cell_type": "code",
   "execution_count": null,
   "metadata": {
    "colab": {
     "base_uri": "https://localhost:8080/"
    },
    "id": "_fJWaD9GA6QV",
    "outputId": "8c9c53e3-340f-4020-b62e-2a9fa32b3375"
   },
   "outputs": [
    {
     "data": {
      "text/plain": [
       "(60000, 28, 28, 1)"
      ]
     },
     "execution_count": 18,
     "metadata": {},
     "output_type": "execute_result"
    }
   ],
   "source": [
    "# データの形の確認\n",
    "x_train.shape"
   ]
  },
  {
   "cell_type": "code",
   "execution_count": null,
   "metadata": {
    "colab": {
     "base_uri": "https://localhost:8080/"
    },
    "id": "mDq2k1LUBAcY",
    "outputId": "608ec991-f748-409e-e909-38ed007c1166"
   },
   "outputs": [
    {
     "data": {
      "text/plain": [
       "(28, 28, 1)"
      ]
     },
     "execution_count": 19,
     "metadata": {},
     "output_type": "execute_result"
    }
   ],
   "source": [
    "x_train[0].shape"
   ]
  },
  {
   "cell_type": "markdown",
   "metadata": {
    "id": "jAyXVt4cBjHY"
   },
   "source": [
    "## 4) 正解データをOne Hot vectorにする"
   ]
  },
  {
   "cell_type": "markdown",
   "metadata": {
    "id": "CSrCPfq9CgwY"
   },
   "source": [
    "https://keras.io/ja/utils/#to_categorical"
   ]
  },
  {
   "cell_type": "code",
   "execution_count": null,
   "metadata": {
    "id": "HptFrU1eBGhw"
   },
   "outputs": [],
   "source": [
    "from keras.utils import to_categorical\n",
    "t_train = to_categorical(t_train, 10)\n",
    "t_test = to_categorical(t_test, 10)"
   ]
  },
  {
   "cell_type": "code",
   "execution_count": null,
   "metadata": {
    "colab": {
     "base_uri": "https://localhost:8080/"
    },
    "id": "zcbMvdQhB6bp",
    "outputId": "04fbdca9-47e9-4da2-8d62-d70def57887c"
   },
   "outputs": [
    {
     "data": {
      "text/plain": [
       "array([0., 0., 0., 0., 0., 1., 0., 0., 0., 0.], dtype=float32)"
      ]
     },
     "execution_count": 21,
     "metadata": {},
     "output_type": "execute_result"
    }
   ],
   "source": [
    "# One Hot vectorになったことの確認\n",
    "t_train[0]"
   ]
  },
  {
   "cell_type": "markdown",
   "metadata": {
    "id": "XTb0BjxMC58F"
   },
   "source": [
    "# 2. 三層のPerceptronによる画像分類"
   ]
  },
  {
   "cell_type": "markdown",
   "metadata": {
    "id": "jC0-C3hJGjDY"
   },
   "source": [
    "## 1) モデルの設計"
   ]
  },
  {
   "cell_type": "markdown",
   "metadata": {
    "id": "r8geXd-1rnGH"
   },
   "source": [
    "https://www.tensorflow.org/guide/keras/sequential_model?hl=ja"
   ]
  },
  {
   "cell_type": "code",
   "execution_count": null,
   "metadata": {
    "id": "jyPw4MYBCG7g"
   },
   "outputs": [],
   "source": [
    "# Neural Networkを形成するモジュールの読み込み\n",
    "from keras.models import Sequential\n",
    "from keras.layers import Flatten, Dense, Dropout"
   ]
  },
  {
   "cell_type": "code",
   "execution_count": null,
   "metadata": {
    "id": "Lg71_1c3EDty"
   },
   "outputs": [],
   "source": [
    "# 三層のPerceptronの作製。中間層の活性化関数はRelu、出力層の活性化関数はsoftmaxとする。\n",
    "model = Sequential([\n",
    "    Flatten(input_shape=(28,28,1)),\n",
    "    Dense(512, activation='relu'),\n",
    "    Dropout(0.3),\n",
    "    Dense(10, activation='softmax')\n",
    "])"
   ]
  },
  {
   "cell_type": "code",
   "execution_count": null,
   "metadata": {
    "colab": {
     "base_uri": "https://localhost:8080/"
    },
    "id": "fZiMseJnF9_Y",
    "outputId": "f9316e9a-0f6e-4eb4-f8a8-377f44db2e78"
   },
   "outputs": [
    {
     "name": "stdout",
     "output_type": "stream",
     "text": [
      "Model: \"sequential\"\n",
      "_________________________________________________________________\n",
      " Layer (type)                Output Shape              Param #   \n",
      "=================================================================\n",
      " flatten (Flatten)           (None, 784)               0         \n",
      "                                                                 \n",
      " dense (Dense)               (None, 512)               401920    \n",
      "                                                                 \n",
      " dropout (Dropout)           (None, 512)               0         \n",
      "                                                                 \n",
      " dense_1 (Dense)             (None, 10)                5130      \n",
      "                                                                 \n",
      "=================================================================\n",
      "Total params: 407,050\n",
      "Trainable params: 407,050\n",
      "Non-trainable params: 0\n",
      "_________________________________________________________________\n"
     ]
    }
   ],
   "source": [
    "# モデルの構成の確認\n",
    "model.summary()"
   ]
  },
  {
   "cell_type": "markdown",
   "metadata": {
    "id": "72RpjncYGmuE"
   },
   "source": [
    "## 2) モデルの学習"
   ]
  },
  {
   "cell_type": "markdown",
   "metadata": {
    "id": "L9eYozVzr8yX"
   },
   "source": [
    "https://www.tensorflow.org/guide/keras/train_and_evaluate?hl=ja"
   ]
  },
  {
   "cell_type": "markdown",
   "metadata": {
    "id": "kWz541tR1hJX"
   },
   "source": [
    "- 損失関数が Categorical Crossentropyの場合、正解データはOne Hot vectorにする必要がある。"
   ]
  },
  {
   "cell_type": "code",
   "execution_count": null,
   "metadata": {
    "id": "O5aziFobGSxg"
   },
   "outputs": [],
   "source": [
    "# 人間が読み書きする source code を、機会が読み書きする machine code にコンパイルする。\n",
    "# その際、1) 最適化アルゴリズム、2) 損失関数、3) 評価指標なども設定する。\n",
    "model.compile(optimizer='adam', loss='categorical_crossentropy', metrics=['accuracy'])"
   ]
  },
  {
   "cell_type": "code",
   "execution_count": null,
   "metadata": {
    "colab": {
     "base_uri": "https://localhost:8080/"
    },
    "id": "MwXzqYLmJYMJ",
    "outputId": "fa0c15a1-b568-4c50-a1bc-9c14f4683753"
   },
   "outputs": [
    {
     "name": "stdout",
     "output_type": "stream",
     "text": [
      "Epoch 1/10\n",
      "375/375 [==============================] - 7s 4ms/step - loss: 0.3307 - accuracy: 0.9055 - val_loss: 0.1550 - val_accuracy: 0.9548\n",
      "Epoch 2/10\n",
      "375/375 [==============================] - 1s 3ms/step - loss: 0.1452 - accuracy: 0.9573 - val_loss: 0.1130 - val_accuracy: 0.9676\n",
      "Epoch 3/10\n",
      "375/375 [==============================] - 1s 3ms/step - loss: 0.1040 - accuracy: 0.9694 - val_loss: 0.0959 - val_accuracy: 0.9705\n",
      "Epoch 4/10\n",
      "375/375 [==============================] - 1s 3ms/step - loss: 0.0801 - accuracy: 0.9757 - val_loss: 0.0846 - val_accuracy: 0.9745\n",
      "Epoch 5/10\n",
      "375/375 [==============================] - 1s 3ms/step - loss: 0.0632 - accuracy: 0.9810 - val_loss: 0.0848 - val_accuracy: 0.9743\n",
      "Epoch 6/10\n",
      "375/375 [==============================] - 1s 3ms/step - loss: 0.0525 - accuracy: 0.9840 - val_loss: 0.0790 - val_accuracy: 0.9757\n",
      "Epoch 7/10\n",
      "375/375 [==============================] - 1s 3ms/step - loss: 0.0450 - accuracy: 0.9867 - val_loss: 0.0702 - val_accuracy: 0.9783\n",
      "Epoch 8/10\n",
      "375/375 [==============================] - 1s 3ms/step - loss: 0.0387 - accuracy: 0.9884 - val_loss: 0.0705 - val_accuracy: 0.9797\n",
      "Epoch 9/10\n",
      "375/375 [==============================] - 1s 3ms/step - loss: 0.0321 - accuracy: 0.9904 - val_loss: 0.0703 - val_accuracy: 0.9786\n",
      "Epoch 10/10\n",
      "375/375 [==============================] - 1s 3ms/step - loss: 0.0293 - accuracy: 0.9909 - val_loss: 0.0708 - val_accuracy: 0.9802\n"
     ]
    }
   ],
   "source": [
    "# モデルの学習を実行する。trainとかfitと呼ばれるmethodで実行する。\n",
    "# その際、1) training data : validation dataの比　2) バッチサイズ 3) エポック数も設定する。\n",
    "history = model.fit(x_train, t_train, validation_split = 0.2, batch_size = 128, epochs = 10)"
   ]
  },
  {
   "cell_type": "code",
   "execution_count": null,
   "metadata": {
    "colab": {
     "base_uri": "https://localhost:8080/",
     "height": 407
    },
    "id": "NzmWekfGRjES",
    "outputId": "4028b566-4430-46ed-fd23-5dd9dbbe7937"
   },
   "outputs": [
    {
     "data": {
      "image/png": "[encoded data removed]",
      "text/plain": [
       "<Figure size 1200x400 with 2 Axes>"
      ]
     },
     "metadata": {},
     "output_type": "display_data"
    }
   ],
   "source": [
    "# 学習過程の図示\n",
    "\n",
    "# Access the training history\n",
    "train_loss = history.history['loss']\n",
    "val_loss = history.history['val_loss']\n",
    "train_accuracy = history.history['accuracy']\n",
    "val_accuracy = history.history['val_accuracy']\n",
    "\n",
    "# Plot of the training and validation loss\n",
    "epochs = np.arange(1, len(train_loss) + 1)\n",
    "\n",
    "plt.figure(figsize=(12, 4))\n",
    "plt.subplot(1, 2, 1)\n",
    "plt.plot(epochs, train_loss, 'b', label='Training Loss')\n",
    "plt.plot(epochs, val_loss, 'r', label='Validation Loss')\n",
    "plt.title('Training and Validation Loss')\n",
    "plt.xlabel('Epochs')\n",
    "plt.ylabel('Loss')\n",
    "plt.legend()\n",
    "\n",
    "# Plot　of the training and validation accuracy\n",
    "plt.subplot(1, 2, 2)\n",
    "plt.plot(epochs, train_accuracy, 'b', label='Training Accuracy')\n",
    "plt.plot(epochs, val_accuracy, 'r', label='Validation Accuracy')\n",
    "plt.title('Training and Validation Accuracy')\n",
    "plt.xlabel('Epochs')\n",
    "plt.ylabel('Accuracy')\n",
    "plt.legend()\n",
    "\n",
    "plt.tight_layout()\n",
    "plt.show()"
   ]
  },
  {
   "cell_type": "markdown",
   "metadata": {
    "id": "xZkDqBp9m9kE"
   },
   "source": [
    "## 3) モデルの検証"
   ]
  },
  {
   "cell_type": "markdown",
   "metadata": {
    "id": "MUmEEEVkraOm"
   },
   "source": [
    "https://www.tensorflow.org/guide/keras/train_and_evaluate?hl=ja"
   ]
  },
  {
   "cell_type": "code",
   "execution_count": null,
   "metadata": {
    "colab": {
     "base_uri": "https://localhost:8080/"
    },
    "id": "2JxeYtJimt1I",
    "outputId": "98fee2f3-d262-4588-9ec9-3509cc8620ac"
   },
   "outputs": [
    {
     "name": "stdout",
     "output_type": "stream",
     "text": [
      "Test loss:  0.06209327280521393\n",
      "Test accuracy:  0.982200026512146\n"
     ]
    }
   ],
   "source": [
    "score = model.evaluate(x_test, t_test, verbose = 0)\n",
    "print('Test loss: ', score[0])\n",
    "print('Test accuracy: ', score[1])"
   ]
  },
  {
   "cell_type": "markdown",
   "metadata": {
    "id": "vk_nAALAnRj3"
   },
   "source": [
    "## 4) モデルの保存と復元"
   ]
  },
  {
   "cell_type": "markdown",
   "metadata": {
    "id": "0MaCX3hFqyLQ"
   },
   "source": [
    "https://www.tensorflow.org/guide/keras/save_and_serialize?hl=ja"
   ]
  },
  {
   "cell_type": "code",
   "execution_count": null,
   "metadata": {
    "id": "Lr8Nv90PnE4a"
   },
   "outputs": [],
   "source": [
    "# モデルの保存。HDF5ファイルで保存される。\n",
    "model.save('/content/drive/MyDrive/Telakoya/tela5/model/perceptron.h5')"
   ]
  },
  {
   "cell_type": "code",
   "execution_count": null,
   "metadata": {
    "id": "w5X1lX17nl_y"
   },
   "outputs": [],
   "source": [
    "# モデルの復元。\n",
    "from keras.models import load_model\n",
    "model2 = load_model('/content/drive/MyDrive/Telakoya/tela5/model/perceptron.h5')"
   ]
  },
  {
   "cell_type": "code",
   "execution_count": null,
   "metadata": {
    "colab": {
     "base_uri": "https://localhost:8080/"
    },
    "id": "NHdyFxH7pdaG",
    "outputId": "ddad5fe8-16e4-4090-9d49-79c1b21b3d60"
   },
   "outputs": [
    {
     "name": "stdout",
     "output_type": "stream",
     "text": [
      "1/1 [==============================] - 0s 22ms/step\n"
     ]
    },
    {
     "data": {
      "text/plain": [
       "array([[2.9993055e-09, 8.3699531e-10, 4.2550078e-06, 1.3529074e-04,\n",
       "        2.9455334e-12, 2.1283764e-09, 1.4824101e-12, 9.9985933e-01,\n",
       "        1.3780112e-07, 9.1623264e-07]], dtype=float32)"
      ]
     },
     "execution_count": 40,
     "metadata": {},
     "output_type": "execute_result"
    }
   ],
   "source": [
    "# 保存前のモデルによる予測結果\n",
    "pred = model.predict(x_test[0:1])\n",
    "pred"
   ]
  },
  {
   "cell_type": "code",
   "execution_count": null,
   "metadata": {
    "colab": {
     "base_uri": "https://localhost:8080/"
    },
    "id": "jEuFhwtophvB",
    "outputId": "db027cff-3de0-4d28-91fd-38d6dfe5ad48"
   },
   "outputs": [
    {
     "name": "stdout",
     "output_type": "stream",
     "text": [
      "1/1 [==============================] - 0s 22ms/step\n"
     ]
    },
    {
     "data": {
      "text/plain": [
       "array([[2.9993055e-09, 8.3699531e-10, 4.2550078e-06, 1.3529074e-04,\n",
       "        2.9455334e-12, 2.1283764e-09, 1.4824101e-12, 9.9985933e-01,\n",
       "        1.3780112e-07, 9.1623264e-07]], dtype=float32)"
      ]
     },
     "execution_count": 41,
     "metadata": {},
     "output_type": "execute_result"
    }
   ],
   "source": [
    "# 復元したモデルによる予測結果\n",
    "pred2 = model2.predict(x_test[0:1])\n",
    "pred2"
   ]
  },
  {
   "cell_type": "markdown",
   "metadata": {
    "id": "z-YccPmus6cL"
   },
   "source": [
    "## 補題 Fashion mnistによる画像分類"
   ]
  },
  {
   "cell_type": "markdown",
   "metadata": {
    "id": "iVcx6xK8tEqd"
   },
   "source": [
    "https://www.tensorflow.org/tutorials/keras/classification?hl=ja"
   ]
  },
  {
   "cell_type": "markdown",
   "metadata": {
    "id": "4PVHj9qXtHHR"
   },
   "source": [
    "- Fashion mnistというデータセットがあり、mnistと同じ構造で作られている。\n",
    "- これまでおこなってきたPerceptronによるモデルで、Fashion mnistも分類できる。\n",
    "- 以下のように、読み込むデータを入れ替えるだけでよい\n"
   ]
  },
  {
   "cell_type": "code",
   "execution_count": null,
   "metadata": {
    "colab": {
     "base_uri": "https://localhost:8080/"
    },
    "id": "RGLVZ5BXtXEc",
    "outputId": "132969a9-6069-4659-f44f-bccdfd022391"
   },
   "outputs": [
    {
     "name": "stdout",
     "output_type": "stream",
     "text": [
      "Downloading data from https://storage.googleapis.com/tensorflow/tf-keras-datasets/train-labels-idx1-ubyte.gz\n",
      "29515/29515 [==============================] - 0s 0us/step\n",
      "Downloading data from https://storage.googleapis.com/tensorflow/tf-keras-datasets/train-images-idx3-ubyte.gz\n",
      "26421880/26421880 [==============================] - 0s 0us/step\n",
      "Downloading data from https://storage.googleapis.com/tensorflow/tf-keras-datasets/t10k-labels-idx1-ubyte.gz\n",
      "5148/5148 [==============================] - 0s 0us/step\n",
      "Downloading data from https://storage.googleapis.com/tensorflow/tf-keras-datasets/t10k-images-idx3-ubyte.gz\n",
      "4422102/4422102 [==============================] - 0s 0us/step\n"
     ]
    }
   ],
   "source": [
    "# Fashion mnistの読み込み\n",
    "from keras.datasets import fashion_mnist\n",
    "(x_train, t_train), (x_test, t_test) = fashion_mnist.load_data()"
   ]
  },
  {
   "cell_type": "code",
   "execution_count": null,
   "metadata": {
    "id": "3Af5Zv00tinA"
   },
   "outputs": [],
   "source": [
    "# Fashion mnistのデータの前処理\n",
    "\n",
    "# データの正規化 (0〜1)\n",
    "x_train = x_train.astype('float32')/255\n",
    "x_test = x_test.astype('float32')/255\n",
    "\n",
    "# データの形を 28 x 28 x 1 にする (channelを加える)\n",
    "import numpy as np\n",
    "x_train = np.expand_dims(x_train, -1)\n",
    "x_test = np.expand_dims(x_test, -1)\n",
    "\n",
    "# 正解データをone hot vectorにする\n",
    "t_train = keras.utils.to_categorical(t_train, 10)\n",
    "t_test = keras.utils.to_categorical(t_test, 10)\n",
    "\n",
    "# 10種類の画像\n",
    "class_names = ['T-shirt/top', 'Trouser', 'Pullover', 'Dress', 'Coat',\n",
    "               'Sandal', 'Shirt', 'Sneaker', 'Bag', 'Ankle boot']"
   ]
  },
  {
   "cell_type": "code",
   "execution_count": null,
   "metadata": {
    "colab": {
     "base_uri": "https://localhost:8080/",
     "height": 370
    },
    "id": "2Y23AlfwtvS7",
    "outputId": "89dc0659-ad29-4eef-9b3a-a9b515eda79d"
   },
   "outputs": [
    {
     "data": {
      "image/png": "[encoded data removed]",
      "text/plain": [
       "<Figure size 640x480 with 10 Axes>"
      ]
     },
     "metadata": {},
     "output_type": "display_data"
    }
   ],
   "source": [
    "# 最初の10個の画像の図示\n",
    "for i in range(10):\n",
    "    plt.subplot(2, 5, i+1)\n",
    "    plt.title('Label: ' + str(i))\n",
    "    plt.imshow(x_train[i])"
   ]
  },
  {
   "cell_type": "markdown",
   "metadata": {
    "id": "H6T1EvGjsUpa"
   },
   "source": [
    "# 3. CNNによる画像分類"
   ]
  },
  {
   "cell_type": "markdown",
   "metadata": {
    "id": "sBLhcThyurbn"
   },
   "source": [
    "https://www.tensorflow.org/tutorials/images/cnn?hl=ja"
   ]
  },
  {
   "cell_type": "markdown",
   "metadata": {
    "id": "ZwFldizVu3Lw"
   },
   "source": [
    "## 1) ライブラリの読み込み"
   ]
  },
  {
   "cell_type": "markdown",
   "metadata": {
    "id": "_Civ99qQu3Lw"
   },
   "source": [
    "- Tensorflow2のwrapperであるKerasを利用する。\n"
   ]
  },
  {
   "cell_type": "code",
   "execution_count": null,
   "metadata": {
    "id": "N3YLfARPu3Lw"
   },
   "outputs": [],
   "source": [
    "# ライブラリの読み込み\n",
    "import tensorflow as tf\n",
    "from tensorflow.keras import datasets, layers, models\n",
    "\n",
    "import numpy as np  # 数値計算のライブラリ\n",
    "import matplotlib.pyplot as plt  # 図示のライブラリ\n",
    "%matplotlib inline"
   ]
  },
  {
   "cell_type": "markdown",
   "metadata": {
    "id": "vdRvP3pzu3Lw"
   },
   "source": [
    "## 2) データの読み込み"
   ]
  },
  {
   "cell_type": "markdown",
   "metadata": {
    "id": "fbvUaR50u3Lw"
   },
   "source": [
    "- CIFAR10 と呼ばれるカラー画像データを利用する。\n",
    "- CIFAR10 には、学習データが60,000字、検証データが10,000字ある。\n",
    "- データは、32×32個の整数(0〜255)が3組ある行列(テンソル)で形成されている。\n",
    "- 一つ一つの文字には、0〜9の正解データも付いている。"
   ]
  },
  {
   "cell_type": "code",
   "execution_count": null,
   "metadata": {
    "id": "GYjvBq2Au3Lw"
   },
   "outputs": [],
   "source": [
    "# データの読み込み\n",
    "(train_images, train_labels), (test_images, test_labels) = datasets.cifar10.load_data()"
   ]
  },
  {
   "cell_type": "code",
   "execution_count": null,
   "metadata": {
    "colab": {
     "base_uri": "https://localhost:8080/"
    },
    "id": "wVU0xCo0u3Lw",
    "outputId": "8ed11564-6164-4872-8fcc-e62ac63215e2"
   },
   "outputs": [
    {
     "data": {
      "text/plain": [
       "50000"
      ]
     },
     "execution_count": 60,
     "metadata": {},
     "output_type": "execute_result"
    }
   ],
   "source": [
    "# データ数の確認\n",
    "len(train_images)"
   ]
  },
  {
   "cell_type": "code",
   "execution_count": null,
   "metadata": {
    "colab": {
     "base_uri": "https://localhost:8080/"
    },
    "id": "IjKCu2Igu3Lx",
    "outputId": "1e3c5f38-819f-4155-99b2-7bc71b30514e"
   },
   "outputs": [
    {
     "data": {
      "text/plain": [
       "10000"
      ]
     },
     "execution_count": 61,
     "metadata": {},
     "output_type": "execute_result"
    }
   ],
   "source": [
    "len(test_images)"
   ]
  },
  {
   "cell_type": "code",
   "execution_count": null,
   "metadata": {
    "colab": {
     "base_uri": "https://localhost:8080/"
    },
    "id": "vpp6VMNdu3Lx",
    "outputId": "e831c6b1-ec99-4a6e-a516-cbc67dcd6270"
   },
   "outputs": [
    {
     "data": {
      "text/plain": [
       "(50000, 32, 32, 3)"
      ]
     },
     "execution_count": 62,
     "metadata": {},
     "output_type": "execute_result"
    }
   ],
   "source": [
    "# データの形の確認\n",
    "train_images.shape"
   ]
  },
  {
   "cell_type": "code",
   "execution_count": null,
   "metadata": {
    "colab": {
     "base_uri": "https://localhost:8080/"
    },
    "id": "zRpMMLO2u3Lx",
    "outputId": "5c1ed8ec-c3a3-4c55-d8d5-55422ffe5db2"
   },
   "outputs": [
    {
     "data": {
      "text/plain": [
       "(10000, 32, 32, 3)"
      ]
     },
     "execution_count": 63,
     "metadata": {},
     "output_type": "execute_result"
    }
   ],
   "source": [
    "test_images.shape"
   ]
  },
  {
   "cell_type": "code",
   "execution_count": null,
   "metadata": {
    "id": "sfETMsrRu3Lx"
   },
   "outputs": [],
   "source": [
    "# データの中身の確認\n",
    "train_images[0]"
   ]
  },
  {
   "cell_type": "markdown",
   "metadata": {
    "id": "3jNQu6EhyVFg"
   },
   "source": [
    "- モデルの損失関数がSparse Categorical Crossentropyの場合、正解データは一次元でよい。"
   ]
  },
  {
   "cell_type": "code",
   "execution_count": null,
   "metadata": {
    "colab": {
     "base_uri": "https://localhost:8080/"
    },
    "id": "G9u58kL7u3Lx",
    "outputId": "4643b85a-ac88-4229-c1fb-9d9dd4a6be0a"
   },
   "outputs": [
    {
     "data": {
      "text/plain": [
       "array([6], dtype=uint8)"
      ]
     },
     "execution_count": 70,
     "metadata": {},
     "output_type": "execute_result"
    }
   ],
   "source": [
    "train_labels[0]"
   ]
  },
  {
   "cell_type": "code",
   "execution_count": null,
   "metadata": {
    "colab": {
     "base_uri": "https://localhost:8080/",
     "height": 448
    },
    "id": "JmPs5Q9xu3Lx",
    "outputId": "ddab6e93-3a46-448a-c239-d6952279e4cf"
   },
   "outputs": [
    {
     "data": {
      "text/plain": [
       "<matplotlib.image.AxesImage at 0x7fb444887340>"
      ]
     },
     "execution_count": 66,
     "metadata": {},
     "output_type": "execute_result"
    },
    {
     "data": {
      "image/png": "[encoded data removed]",
      "text/plain": [
       "<Figure size 640x480 with 1 Axes>"
      ]
     },
     "metadata": {},
     "output_type": "display_data"
    }
   ],
   "source": [
    "# データの図示\n",
    "plt.imshow(train_images[0])"
   ]
  },
  {
   "cell_type": "code",
   "execution_count": null,
   "metadata": {
    "id": "qUgaQDrLwFny"
   },
   "outputs": [],
   "source": [
    "# 最初の25個の画像の図示\n",
    "class_names = ['airplane', 'automobile', 'bird', 'cat', 'deer',\n",
    "               'dog', 'frog', 'horse', 'ship', 'truck']\n",
    "\n",
    "plt.figure(figsize=(10,10))\n",
    "for i in range(25):\n",
    "    plt.subplot(5,5,i+1)\n",
    "    plt.xticks([])\n",
    "    plt.yticks([])\n",
    "    plt.grid(False)\n",
    "    plt.imshow(train_images[i])\n",
    "    # The CIFAR labels happen to be arrays, \n",
    "    # which is why you need the extra index\n",
    "    plt.xlabel(class_names[train_labels[i][0]])\n",
    "plt.show()"
   ]
  },
  {
   "cell_type": "markdown",
   "metadata": {
    "id": "GL_fA49lymZu"
   },
   "source": [
    "## 3) モデルの設計"
   ]
  },
  {
   "cell_type": "code",
   "execution_count": null,
   "metadata": {
    "colab": {
     "base_uri": "https://localhost:8080/"
    },
    "id": "wstISitHwlmx",
    "outputId": "cc65eac4-eaa9-496a-c019-ae06e95df835"
   },
   "outputs": [
    {
     "name": "stdout",
     "output_type": "stream",
     "text": [
      "Model: \"sequential_8\"\n",
      "_________________________________________________________________\n",
      " Layer (type)                Output Shape              Param #   \n",
      "=================================================================\n",
      " conv2d_21 (Conv2D)          (None, 30, 30, 32)        896       \n",
      "                                                                 \n",
      " max_pooling2d_14 (MaxPoolin  (None, 15, 15, 32)       0         \n",
      " g2D)                                                            \n",
      "                                                                 \n",
      " conv2d_22 (Conv2D)          (None, 13, 13, 64)        18496     \n",
      "                                                                 \n",
      " max_pooling2d_15 (MaxPoolin  (None, 6, 6, 64)         0         \n",
      " g2D)                                                            \n",
      "                                                                 \n",
      " conv2d_23 (Conv2D)          (None, 4, 4, 64)          36928     \n",
      "                                                                 \n",
      " flatten_8 (Flatten)         (None, 1024)              0         \n",
      "                                                                 \n",
      " dense_16 (Dense)            (None, 64)                65600     \n",
      "                                                                 \n",
      " dense_17 (Dense)            (None, 10)                650       \n",
      "                                                                 \n",
      "=================================================================\n",
      "Total params: 122,570\n",
      "Trainable params: 122,570\n",
      "Non-trainable params: 0\n",
      "_________________________________________________________________\n"
     ]
    }
   ],
   "source": [
    "# CNN (Convolutional Neural Network)の構造。最初に空のSequentialをインスタンス化し、それにLayerを加えてゆく形を取っている。\n",
    "model = models.Sequential()\n",
    "model.add(layers.Conv2D(32, (3, 3), activation='relu', input_shape=(32, 32, 3)))\n",
    "model.add(layers.MaxPooling2D((2, 2)))\n",
    "model.add(layers.Conv2D(64, (3, 3), activation='relu'))\n",
    "model.add(layers.MaxPooling2D((2, 2)))\n",
    "model.add(layers.Conv2D(64, (3, 3), activation='relu'))\n",
    "model.add(layers.Flatten())\n",
    "model.add(layers.Dense(64, activation='relu'))\n",
    "model.add(layers.Dense(10))\n",
    "\n",
    "# モデルのアーキテクチャ(構造)の表示\n",
    "model.summary()"
   ]
  },
  {
   "cell_type": "markdown",
   "metadata": {
    "id": "AW7ExxKKzg5v"
   },
   "source": [
    "## 4) モデルの学習"
   ]
  },
  {
   "cell_type": "code",
   "execution_count": null,
   "metadata": {
    "id": "E_7fGxMPyxEl"
   },
   "outputs": [],
   "source": [
    "# モデルのコンパイル\n",
    "model.compile(optimizer='adam',\n",
    "              loss=tf.keras.losses.SparseCategoricalCrossentropy(from_logits=True),\n",
    "              metrics=['accuracy'])"
   ]
  },
  {
   "cell_type": "code",
   "execution_count": null,
   "metadata": {
    "colab": {
     "base_uri": "https://localhost:8080/"
    },
    "id": "LU1CJILW0Hkc",
    "outputId": "21eac1d4-196d-4908-9f23-6fa9a364b075"
   },
   "outputs": [
    {
     "name": "stdout",
     "output_type": "stream",
     "text": [
      "Epoch 1/10\n",
      "1250/1250 [==============================] - 7s 5ms/step - loss: 1.9689 - accuracy: 0.3258 - val_loss: 1.5845 - val_accuracy: 0.4262\n",
      "Epoch 2/10\n",
      "1250/1250 [==============================] - 5s 4ms/step - loss: 1.4272 - accuracy: 0.4884 - val_loss: 1.4114 - val_accuracy: 0.4989\n",
      "Epoch 3/10\n",
      "1250/1250 [==============================] - 5s 4ms/step - loss: 1.2678 - accuracy: 0.5504 - val_loss: 1.2541 - val_accuracy: 0.5587\n",
      "Epoch 4/10\n",
      "1250/1250 [==============================] - 5s 4ms/step - loss: 1.1487 - accuracy: 0.5974 - val_loss: 1.1486 - val_accuracy: 0.6016\n",
      "Epoch 5/10\n",
      "1250/1250 [==============================] - 5s 4ms/step - loss: 1.0564 - accuracy: 0.6320 - val_loss: 1.1653 - val_accuracy: 0.5989\n",
      "Epoch 6/10\n",
      "1250/1250 [==============================] - 5s 4ms/step - loss: 0.9760 - accuracy: 0.6598 - val_loss: 1.1465 - val_accuracy: 0.6191\n",
      "Epoch 7/10\n",
      "1250/1250 [==============================] - 5s 4ms/step - loss: 0.9035 - accuracy: 0.6853 - val_loss: 1.0935 - val_accuracy: 0.6268\n",
      "Epoch 8/10\n",
      "1250/1250 [==============================] - 5s 4ms/step - loss: 0.8472 - accuracy: 0.7017 - val_loss: 1.1179 - val_accuracy: 0.6228\n",
      "Epoch 9/10\n",
      "1250/1250 [==============================] - 5s 4ms/step - loss: 0.7815 - accuracy: 0.7274 - val_loss: 1.0917 - val_accuracy: 0.6341\n",
      "Epoch 10/10\n",
      "1250/1250 [==============================] - 5s 4ms/step - loss: 0.7494 - accuracy: 0.7373 - val_loss: 1.1013 - val_accuracy: 0.6493\n"
     ]
    }
   ],
   "source": [
    "# モデルの学習\n",
    "history = model.fit(train_images, train_labels, epochs=10, validation_split = 0.2)"
   ]
  },
  {
   "cell_type": "code",
   "execution_count": null,
   "metadata": {
    "colab": {
     "base_uri": "https://localhost:8080/",
     "height": 407
    },
    "id": "aHdXnJvv5KwB",
    "outputId": "d55d1ebb-c736-4875-f0a2-c1a1caf77c37"
   },
   "outputs": [
    {
     "data": {
      "image/png": "[encoded data removed]",
      "text/plain": [
       "<Figure size 1200x400 with 2 Axes>"
      ]
     },
     "metadata": {},
     "output_type": "display_data"
    }
   ],
   "source": [
    "# 学習過程の図示\n",
    "\n",
    "# Access the training history\n",
    "train_loss = history.history['loss']\n",
    "val_loss = history.history['val_loss']\n",
    "train_accuracy = history.history['accuracy']\n",
    "val_accuracy = history.history['val_accuracy']\n",
    "\n",
    "# Plot of the training and validation loss\n",
    "epochs = np.arange(1, len(train_loss) + 1)\n",
    "\n",
    "plt.figure(figsize=(12, 4))\n",
    "plt.subplot(1, 2, 1)\n",
    "plt.plot(epochs, train_loss, 'b', label='Training Loss')\n",
    "plt.plot(epochs, val_loss, 'r', label='Validation Loss')\n",
    "plt.title('Training and Validation Loss')\n",
    "plt.xlabel('Epochs')\n",
    "plt.ylabel('Loss')\n",
    "plt.legend()\n",
    "\n",
    "# Plot　of the training and validation accuracy\n",
    "plt.subplot(1, 2, 2)\n",
    "plt.plot(epochs, train_accuracy, 'b', label='Training Accuracy')\n",
    "plt.plot(epochs, val_accuracy, 'r', label='Validation Accuracy')\n",
    "plt.title('Training and Validation Accuracy')\n",
    "plt.xlabel('Epochs')\n",
    "plt.ylabel('Accuracy')\n",
    "plt.legend()\n",
    "\n",
    "plt.tight_layout()\n",
    "plt.show()"
   ]
  },
  {
   "cell_type": "markdown",
   "metadata": {
    "id": "AkmYSXfF3ExU"
   },
   "source": [
    "## 5) モデルの検証"
   ]
  },
  {
   "cell_type": "code",
   "execution_count": null,
   "metadata": {
    "colab": {
     "base_uri": "https://localhost:8080/"
    },
    "id": "cNZgkgh222yn",
    "outputId": "d28d6226-6bfb-4c09-e48f-825deaeacacc"
   },
   "outputs": [
    {
     "name": "stdout",
     "output_type": "stream",
     "text": [
      "Test loss:  1.0975841283798218\n",
      "Test accuracy:  0.652999997138977\n"
     ]
    }
   ],
   "source": [
    "score = model.evaluate(test_images, test_labels, verbose = 0)\n",
    "print('Test loss: ', score[0])\n",
    "print('Test accuracy: ', score[1])"
   ]
  },
  {
   "cell_type": "markdown",
   "metadata": {
    "id": "bLshO9Gr5h4H"
   },
   "source": [
    "## 6) モデルの保存と復元"
   ]
  },
  {
   "cell_type": "code",
   "execution_count": null,
   "metadata": {
    "id": "Sa6vspPz5ch0"
   },
   "outputs": [],
   "source": [
    "# モデルの保存。HDF5ファイルで保存される。\n",
    "model.save('/content/drive/MyDrive/Telakoya/tela5/model/cnn.h5')"
   ]
  },
  {
   "cell_type": "code",
   "execution_count": null,
   "metadata": {
    "id": "rRTTQuiC5xWN"
   },
   "outputs": [],
   "source": [
    "# モデルの復元。\n",
    "from keras.models import load_model\n",
    "model2 = load_model('/content/drive/MyDrive/Telakoya/tela5/model/cnn.h5')"
   ]
  },
  {
   "cell_type": "code",
   "execution_count": null,
   "metadata": {
    "colab": {
     "base_uri": "https://localhost:8080/"
    },
    "id": "UH5TZgW_5xWS",
    "outputId": "c2a11b7a-6618-4298-d4de-0957020aa152"
   },
   "outputs": [
    {
     "name": "stdout",
     "output_type": "stream",
     "text": [
      "1/1 [==============================] - 0s 150ms/step\n"
     ]
    },
    {
     "data": {
      "text/plain": [
       "array([[ 2.115134  ,  0.84171724,  3.6655068 ,  6.607142  ,  1.9444997 ,\n",
       "         4.6826024 ,  2.5249922 ,  0.9799721 ,  4.4108725 , -0.58072466]],\n",
       "      dtype=float32)"
      ]
     },
     "execution_count": 97,
     "metadata": {},
     "output_type": "execute_result"
    }
   ],
   "source": [
    "# 保存前のモデルによる予測結果\n",
    "pred = model.predict(test_images[0:1])\n",
    "pred"
   ]
  },
  {
   "cell_type": "code",
   "execution_count": null,
   "metadata": {
    "colab": {
     "base_uri": "https://localhost:8080/"
    },
    "id": "HOzHBRZG5xWT",
    "outputId": "3e5af74a-87b9-4481-c306-a5db92f03e0b"
   },
   "outputs": [
    {
     "name": "stdout",
     "output_type": "stream",
     "text": [
      "1/1 [==============================] - 0s 75ms/step\n"
     ]
    },
    {
     "data": {
      "text/plain": [
       "array([[ 2.115134  ,  0.84171724,  3.6655068 ,  6.607142  ,  1.9444997 ,\n",
       "         4.6826024 ,  2.5249922 ,  0.9799721 ,  4.4108725 , -0.58072466]],\n",
       "      dtype=float32)"
      ]
     },
     "execution_count": 98,
     "metadata": {},
     "output_type": "execute_result"
    }
   ],
   "source": [
    "# 復元したモデルによる予測結果\n",
    "pred2 = model2.predict(test_images[0:1])\n",
    "pred2"
   ]
  },
  {
   "cell_type": "markdown",
   "metadata": {
    "id": "6qZWqpGVnSXT"
   },
   "source": [
    "# 4. ChatGPTが提案したモデルによる分類"
   ]
  },
  {
   "cell_type": "markdown",
   "metadata": {
    "id": "LrBl5lGd6lIv"
   },
   "source": [
    "## 1) ライブラリの読み込み"
   ]
  },
  {
   "cell_type": "code",
   "execution_count": null,
   "metadata": {
    "id": "Gu1t5p4InhOu"
   },
   "outputs": [],
   "source": [
    "import tensorflow as tf\n",
    "from tensorflow.keras import datasets, layers, models\n",
    "import matplotlib.pyplot as plt"
   ]
  },
  {
   "cell_type": "markdown",
   "metadata": {
    "id": "BqdDeC2Q6o0c"
   },
   "source": [
    "## 2) データの読み込み"
   ]
  },
  {
   "cell_type": "code",
   "execution_count": null,
   "metadata": {
    "id": "f5Faoa9cnhO5"
   },
   "outputs": [],
   "source": [
    "(train_images, train_labels), (test_images, test_labels) = datasets.cifar10.load_data()\n",
    "# Normalize pixel values to be between 0 and 1\n",
    "train_images, test_images = train_images / 255.0, test_images / 255.0"
   ]
  },
  {
   "cell_type": "markdown",
   "metadata": {
    "id": "_zIswdNe6xiQ"
   },
   "source": [
    "## 3) モデルの設計"
   ]
  },
  {
   "cell_type": "markdown",
   "metadata": {
    "id": "Ly88g4Zw64Wg"
   },
   "source": [
    "- 【ChatGPTに入力したprompt】\n",
    "- I want to make a CNNN model using keras to classifiy cifar10 dataset with a high accuracy. Please sugget such a model."
   ]
  },
  {
   "cell_type": "code",
   "execution_count": null,
   "metadata": {
    "colab": {
     "base_uri": "https://localhost:8080/"
    },
    "id": "1B7jEHq_lhVK",
    "outputId": "8c16d292-3ebe-4fc1-cbfb-812ddd33aee2"
   },
   "outputs": [
    {
     "name": "stdout",
     "output_type": "stream",
     "text": [
      "Model: \"sequential_9\"\n",
      "_________________________________________________________________\n",
      " Layer (type)                Output Shape              Param #   \n",
      "=================================================================\n",
      " conv2d_24 (Conv2D)          (None, 32, 32, 32)        896       \n",
      "                                                                 \n",
      " batch_normalization (BatchN  (None, 32, 32, 32)       128       \n",
      " ormalization)                                                   \n",
      "                                                                 \n",
      " conv2d_25 (Conv2D)          (None, 32, 32, 32)        9248      \n",
      "                                                                 \n",
      " batch_normalization_1 (Batc  (None, 32, 32, 32)       128       \n",
      " hNormalization)                                                 \n",
      "                                                                 \n",
      " max_pooling2d_16 (MaxPoolin  (None, 16, 16, 32)       0         \n",
      " g2D)                                                            \n",
      "                                                                 \n",
      " dropout_1 (Dropout)         (None, 16, 16, 32)        0         \n",
      "                                                                 \n",
      " conv2d_26 (Conv2D)          (None, 16, 16, 64)        18496     \n",
      "                                                                 \n",
      " batch_normalization_2 (Batc  (None, 16, 16, 64)       256       \n",
      " hNormalization)                                                 \n",
      "                                                                 \n",
      " conv2d_27 (Conv2D)          (None, 16, 16, 64)        36928     \n",
      "                                                                 \n",
      " batch_normalization_3 (Batc  (None, 16, 16, 64)       256       \n",
      " hNormalization)                                                 \n",
      "                                                                 \n",
      " max_pooling2d_17 (MaxPoolin  (None, 8, 8, 64)         0         \n",
      " g2D)                                                            \n",
      "                                                                 \n",
      " dropout_2 (Dropout)         (None, 8, 8, 64)          0         \n",
      "                                                                 \n",
      " conv2d_28 (Conv2D)          (None, 8, 8, 128)         73856     \n",
      "                                                                 \n",
      " batch_normalization_4 (Batc  (None, 8, 8, 128)        512       \n",
      " hNormalization)                                                 \n",
      "                                                                 \n",
      " conv2d_29 (Conv2D)          (None, 8, 8, 128)         147584    \n",
      "                                                                 \n",
      " batch_normalization_5 (Batc  (None, 8, 8, 128)        512       \n",
      " hNormalization)                                                 \n",
      "                                                                 \n",
      " max_pooling2d_18 (MaxPoolin  (None, 4, 4, 128)        0         \n",
      " g2D)                                                            \n",
      "                                                                 \n",
      " dropout_3 (Dropout)         (None, 4, 4, 128)         0         \n",
      "                                                                 \n",
      " flatten_9 (Flatten)         (None, 2048)              0         \n",
      "                                                                 \n",
      " dense_18 (Dense)            (None, 512)               1049088   \n",
      "                                                                 \n",
      " batch_normalization_6 (Batc  (None, 512)              2048      \n",
      " hNormalization)                                                 \n",
      "                                                                 \n",
      " dropout_4 (Dropout)         (None, 512)               0         \n",
      "                                                                 \n",
      " dense_19 (Dense)            (None, 10)                5130      \n",
      "                                                                 \n",
      "=================================================================\n",
      "Total params: 1,345,066\n",
      "Trainable params: 1,343,146\n",
      "Non-trainable params: 1,920\n",
      "_________________________________________________________________\n"
     ]
    }
   ],
   "source": [
    "# ChatGPTが提案したモデル\n",
    "\n",
    "import tensorflow as tf\n",
    "from tensorflow.keras import layers\n",
    "\n",
    "# Define the model\n",
    "model = tf.keras.Sequential()\n",
    "\n",
    "# Convolutional layer 1\n",
    "model.add(layers.Conv2D(32, (3, 3), padding='same', activation='relu', input_shape=(32, 32, 3)))\n",
    "model.add(layers.BatchNormalization())\n",
    "model.add(layers.Conv2D(32, (3, 3), padding='same', activation='relu'))\n",
    "model.add(layers.BatchNormalization())\n",
    "model.add(layers.MaxPooling2D(pool_size=(2, 2)))\n",
    "model.add(layers.Dropout(0.25))\n",
    "\n",
    "# Convolutional layer 2\n",
    "model.add(layers.Conv2D(64, (3, 3), padding='same', activation='relu'))\n",
    "model.add(layers.BatchNormalization())\n",
    "model.add(layers.Conv2D(64, (3, 3), padding='same', activation='relu'))\n",
    "model.add(layers.BatchNormalization())\n",
    "model.add(layers.MaxPooling2D(pool_size=(2, 2)))\n",
    "model.add(layers.Dropout(0.25))\n",
    "\n",
    "# Convolutional layer 3\n",
    "model.add(layers.Conv2D(128, (3, 3), padding='same', activation='relu'))\n",
    "model.add(layers.BatchNormalization())\n",
    "model.add(layers.Conv2D(128, (3, 3), padding='same', activation='relu'))\n",
    "model.add(layers.BatchNormalization())\n",
    "model.add(layers.MaxPooling2D(pool_size=(2, 2)))\n",
    "model.add(layers.Dropout(0.25))\n",
    "\n",
    "# Flatten the output\n",
    "model.add(layers.Flatten())\n",
    "\n",
    "# Fully connected layers\n",
    "model.add(layers.Dense(512, activation='relu'))\n",
    "model.add(layers.BatchNormalization())\n",
    "model.add(layers.Dropout(0.5))\n",
    "model.add(layers.Dense(10, activation='softmax'))\n",
    "\n",
    "# Compile the model\n",
    "model.compile(optimizer='adam', loss='categorical_crossentropy', metrics=['accuracy'])\n",
    "\n",
    "# Print the model summary\n",
    "model.summary()\n"
   ]
  },
  {
   "cell_type": "markdown",
   "metadata": {
    "id": "YmUZIlkv7m-3"
   },
   "source": [
    "## 4) モデルの学習"
   ]
  },
  {
   "cell_type": "code",
   "execution_count": null,
   "metadata": {
    "colab": {
     "base_uri": "https://localhost:8080/"
    },
    "id": "GaSKqjEMAPVk",
    "outputId": "bda4df6d-9761-476e-f103-8483ee6994a7"
   },
   "outputs": [
    {
     "name": "stdout",
     "output_type": "stream",
     "text": [
      "Epoch 1/25\n",
      "1250/1250 [==============================] - 18s 10ms/step - loss: 1.6223 - accuracy: 0.4589 - val_loss: 1.2142 - val_accuracy: 0.5868\n",
      "Epoch 2/25\n",
      "1250/1250 [==============================] - 11s 9ms/step - loss: 1.0406 - accuracy: 0.6334 - val_loss: 0.9479 - val_accuracy: 0.6714\n",
      "Epoch 3/25\n",
      "1250/1250 [==============================] - 11s 9ms/step - loss: 0.8851 - accuracy: 0.6902 - val_loss: 0.9850 - val_accuracy: 0.6528\n",
      "Epoch 4/25\n",
      "1250/1250 [==============================] - 12s 9ms/step - loss: 0.7971 - accuracy: 0.7210 - val_loss: 0.8120 - val_accuracy: 0.7264\n",
      "Epoch 5/25\n",
      "1250/1250 [==============================] - 11s 9ms/step - loss: 0.7326 - accuracy: 0.7469 - val_loss: 0.7121 - val_accuracy: 0.7607\n",
      "Epoch 6/25\n",
      "1250/1250 [==============================] - 11s 9ms/step - loss: 0.6610 - accuracy: 0.7705 - val_loss: 0.6253 - val_accuracy: 0.7870\n",
      "Epoch 7/25\n",
      "1250/1250 [==============================] - 11s 9ms/step - loss: 0.6134 - accuracy: 0.7879 - val_loss: 0.5820 - val_accuracy: 0.8015\n",
      "Epoch 8/25\n",
      "1250/1250 [==============================] - 11s 9ms/step - loss: 0.5791 - accuracy: 0.8001 - val_loss: 0.5977 - val_accuracy: 0.7961\n",
      "Epoch 9/25\n",
      "1250/1250 [==============================] - 11s 9ms/step - loss: 0.5287 - accuracy: 0.8165 - val_loss: 0.5408 - val_accuracy: 0.8153\n",
      "Epoch 10/25\n",
      "1250/1250 [==============================] - 11s 9ms/step - loss: 0.4975 - accuracy: 0.8285 - val_loss: 0.6315 - val_accuracy: 0.7862\n",
      "Epoch 11/25\n",
      "1250/1250 [==============================] - 11s 9ms/step - loss: 0.4774 - accuracy: 0.8326 - val_loss: 0.5481 - val_accuracy: 0.8212\n",
      "Epoch 12/25\n",
      "1250/1250 [==============================] - 11s 9ms/step - loss: 0.4427 - accuracy: 0.8450 - val_loss: 0.5559 - val_accuracy: 0.8168\n",
      "Epoch 13/25\n",
      "1250/1250 [==============================] - 11s 9ms/step - loss: 0.4125 - accuracy: 0.8555 - val_loss: 0.5466 - val_accuracy: 0.8189\n",
      "Epoch 14/25\n",
      "1250/1250 [==============================] - 11s 9ms/step - loss: 0.4027 - accuracy: 0.8581 - val_loss: 1.4031 - val_accuracy: 0.6425\n",
      "Epoch 15/25\n",
      "1250/1250 [==============================] - 11s 9ms/step - loss: 0.3786 - accuracy: 0.8675 - val_loss: 0.4762 - val_accuracy: 0.8450\n",
      "Epoch 16/25\n",
      "1250/1250 [==============================] - 11s 9ms/step - loss: 0.3526 - accuracy: 0.8772 - val_loss: 0.5048 - val_accuracy: 0.8397\n",
      "Epoch 17/25\n",
      "1250/1250 [==============================] - 11s 9ms/step - loss: 0.3331 - accuracy: 0.8839 - val_loss: 0.5281 - val_accuracy: 0.8316\n",
      "Epoch 18/25\n",
      "1250/1250 [==============================] - 11s 9ms/step - loss: 0.3314 - accuracy: 0.8843 - val_loss: 0.4647 - val_accuracy: 0.8509\n",
      "Epoch 19/25\n",
      "1250/1250 [==============================] - 11s 9ms/step - loss: 0.3035 - accuracy: 0.8939 - val_loss: 0.5032 - val_accuracy: 0.8444\n",
      "Epoch 20/25\n",
      "1250/1250 [==============================] - 11s 9ms/step - loss: 0.3022 - accuracy: 0.8959 - val_loss: 0.5125 - val_accuracy: 0.8411\n",
      "Epoch 21/25\n",
      "1250/1250 [==============================] - 11s 9ms/step - loss: 0.2773 - accuracy: 0.9016 - val_loss: 0.4666 - val_accuracy: 0.8546\n",
      "Epoch 22/25\n",
      "1250/1250 [==============================] - 11s 9ms/step - loss: 0.2727 - accuracy: 0.9056 - val_loss: 0.4804 - val_accuracy: 0.8509\n",
      "Epoch 23/25\n",
      "1250/1250 [==============================] - 11s 9ms/step - loss: 0.2574 - accuracy: 0.9089 - val_loss: 0.5150 - val_accuracy: 0.8456\n",
      "Epoch 24/25\n",
      "1250/1250 [==============================] - 11s 9ms/step - loss: 0.2491 - accuracy: 0.9129 - val_loss: 0.5215 - val_accuracy: 0.8429\n",
      "Epoch 25/25\n",
      "1250/1250 [==============================] - 11s 9ms/step - loss: 0.2413 - accuracy: 0.9137 - val_loss: 0.4799 - val_accuracy: 0.8557\n"
     ]
    }
   ],
   "source": [
    "model.compile(optimizer='adam',\n",
    "              loss=tf.keras.losses.SparseCategoricalCrossentropy(),\n",
    "              metrics=['accuracy'])\n",
    "\n",
    "history = model.fit(train_images, train_labels, epochs=25, validation_split = 0.2)"
   ]
  },
  {
   "cell_type": "code",
   "execution_count": null,
   "metadata": {
    "colab": {
     "base_uri": "https://localhost:8080/",
     "height": 276
    },
    "id": "VuurFYdX75sX",
    "outputId": "ac079b60-1774-4468-bda2-81f146289d87"
   },
   "outputs": [
    {
     "data": {
      "image/png": "[encoded data removed]",
      "text/plain": [
       "<Figure size 1200x400 with 2 Axes>"
      ]
     },
     "metadata": {},
     "output_type": "display_data"
    }
   ],
   "source": [
    "# モデルの学習過程\n",
    "\n",
    "# Access the training history\n",
    "train_loss = history.history['loss']\n",
    "val_loss = history.history['val_loss']\n",
    "train_accuracy = history.history['accuracy']\n",
    "val_accuracy = history.history['val_accuracy']\n",
    "\n",
    "# Plot of the training and validation loss\n",
    "epochs = np.arange(1, len(train_loss) + 1)\n",
    "\n",
    "plt.figure(figsize=(12, 4))\n",
    "plt.subplot(1, 2, 1)\n",
    "plt.plot(epochs, train_loss, 'b', label='Training Loss')\n",
    "plt.plot(epochs, val_loss, 'r', label='Validation Loss')\n",
    "plt.title('Training and Validation Loss')\n",
    "plt.xlabel('Epochs')\n",
    "plt.ylabel('Loss')\n",
    "plt.legend()\n",
    "\n",
    "# Plot　of the training and validation accuracy\n",
    "plt.subplot(1, 2, 2)\n",
    "plt.plot(epochs, train_accuracy, 'b', label='Training Accuracy')\n",
    "plt.plot(epochs, val_accuracy, 'r', label='Validation Accuracy')\n",
    "plt.title('Training and Validation Accuracy')\n",
    "plt.xlabel('Epochs')\n",
    "plt.ylabel('Accuracy')\n",
    "plt.legend()\n",
    "\n",
    "plt.tight_layout()\n",
    "plt.show()"
   ]
  },
  {
   "cell_type": "markdown",
   "metadata": {
    "id": "5HLmeo_A8Yu7"
   },
   "source": [
    "## 5) モデルの検証"
   ]
  },
  {
   "cell_type": "code",
   "execution_count": null,
   "metadata": {
    "colab": {
     "base_uri": "https://localhost:8080/"
    },
    "id": "ESvfPuJf8bZA",
    "outputId": "a8f71aca-f64a-4ae9-d1ee-1a88bd4b690d"
   },
   "outputs": [
    {
     "name": "stdout",
     "output_type": "stream",
     "text": [
      "Test loss:  0.5196828842163086\n",
      "Test accuracy:  0.8432999849319458\n"
     ]
    }
   ],
   "source": [
    "score = model.evaluate(test_images, test_labels, verbose = 0)\n",
    "print('Test loss: ', score[0])\n",
    "print('Test accuracy: ', score[1])"
   ]
  },
  {
   "cell_type": "markdown",
   "metadata": {
    "id": "2B53orUmOnKe"
   },
   "source": [
    "- 検証データで、Accuracy 84.3%。"
   ]
  },
  {
   "cell_type": "markdown",
   "metadata": {
    "id": "b-42MSSWPFSA"
   },
   "source": [
    "- ChatGPTは、更なる予測精度の向上のため、以下のような suggestion も提案した。\n",
    "- 1. Data Augmentation データの水増し (反転、回転、移動など)\n",
    "- 2. より高度な ResNet, DenseNet, EfficientNet などの利用。\n",
    "- 3. Hyperparameterのチューニング\n",
    "- 4. 正則化 (regularization) L1, L2などで、次元削減を行う"
   ]
  },
  {
   "cell_type": "markdown",
   "metadata": {
    "id": "jMqO20Oa9WsZ"
   },
   "source": [
    "## 6) モデルの保存と復元"
   ]
  },
  {
   "cell_type": "code",
   "execution_count": null,
   "metadata": {
    "id": "gkIJJOQZ9l9k"
   },
   "outputs": [],
   "source": [
    "# モデルの保存。HDF5ファイルで保存される。\n",
    "model.save('/content/drive/MyDrive/Telakoya/tela5/model/cnnC.h5')"
   ]
  },
  {
   "cell_type": "code",
   "execution_count": null,
   "metadata": {
    "id": "DAkKeL8G9l9t"
   },
   "outputs": [],
   "source": [
    "# モデルの復元。\n",
    "from keras.models import load_model\n",
    "model2 = load_model('/content/drive/MyDrive/Telakoya/tela5/model/cnnC.h5')"
   ]
  },
  {
   "cell_type": "code",
   "execution_count": null,
   "metadata": {
    "colab": {
     "base_uri": "https://localhost:8080/"
    },
    "id": "R8GEWVp19l9t",
    "outputId": "459a9e1a-88ae-4d81-f7d8-51f6ed598094"
   },
   "outputs": [
    {
     "name": "stderr",
     "output_type": "stream",
     "text": [
      "WARNING:tensorflow:5 out of the last 8 calls to <function Model.make_predict_function.<locals>.predict_function at 0x7fb3a85d0820> triggered tf.function retracing. Tracing is expensive and the excessive number of tracings could be due to (1) creating @tf.function repeatedly in a loop, (2) passing tensors with different shapes, (3) passing Python objects instead of tensors. For (1), please define your @tf.function outside of the loop. For (2), @tf.function has reduce_retracing=True option that can avoid unnecessary retracing. For (3), please refer to https://www.tensorflow.org/guide/function#controlling_retracing and https://www.tensorflow.org/api_docs/python/tf/function for  more details.\n"
     ]
    },
    {
     "name": "stdout",
     "output_type": "stream",
     "text": [
      "1/1 [==============================] - 0s 370ms/step\n"
     ]
    },
    {
     "data": {
      "text/plain": [
       "array([[9.3048686e-05, 1.6300348e-06, 1.9930166e-04, 9.9537200e-01,\n",
       "        9.0210541e-09, 4.1212486e-03, 1.9730124e-04, 4.6229837e-07,\n",
       "        1.1862066e-05, 3.0614469e-06]], dtype=float32)"
      ]
     },
     "execution_count": 107,
     "metadata": {},
     "output_type": "execute_result"
    }
   ],
   "source": [
    "# 保存前のモデルによる予測結果\n",
    "pred = model.predict(test_images[0:1])\n",
    "pred"
   ]
  },
  {
   "cell_type": "code",
   "execution_count": null,
   "metadata": {
    "colab": {
     "base_uri": "https://localhost:8080/"
    },
    "id": "2iK7M4OB9l9u",
    "outputId": "a6f02a45-ce43-4032-de36-b662ee89ee8d"
   },
   "outputs": [
    {
     "name": "stderr",
     "output_type": "stream",
     "text": [
      "WARNING:tensorflow:6 out of the last 9 calls to <function Model.make_predict_function.<locals>.predict_function at 0x7fb3a85d1120> triggered tf.function retracing. Tracing is expensive and the excessive number of tracings could be due to (1) creating @tf.function repeatedly in a loop, (2) passing tensors with different shapes, (3) passing Python objects instead of tensors. For (1), please define your @tf.function outside of the loop. For (2), @tf.function has reduce_retracing=True option that can avoid unnecessary retracing. For (3), please refer to https://www.tensorflow.org/guide/function#controlling_retracing and https://www.tensorflow.org/api_docs/python/tf/function for  more details.\n"
     ]
    },
    {
     "name": "stdout",
     "output_type": "stream",
     "text": [
      "1/1 [==============================] - 0s 173ms/step\n"
     ]
    },
    {
     "data": {
      "text/plain": [
       "array([[9.3048686e-05, 1.6300348e-06, 1.9930166e-04, 9.9537200e-01,\n",
       "        9.0210541e-09, 4.1212486e-03, 1.9730124e-04, 4.6229837e-07,\n",
       "        1.1862066e-05, 3.0614469e-06]], dtype=float32)"
      ]
     },
     "execution_count": 108,
     "metadata": {},
     "output_type": "execute_result"
    }
   ],
   "source": [
    "# 復元したモデルによる予測結果\n",
    "pred2 = model2.predict(test_images[0:1])\n",
    "pred2"
   ]
  },
  {
   "cell_type": "markdown",
   "metadata": {
    "id": "HYXivXvt-D1m"
   },
   "source": [
    "# 5. Kaggleで提案されたモデルによる分類"
   ]
  },
  {
   "cell_type": "markdown",
   "metadata": {
    "id": "YboBLqj9BEQd"
   },
   "source": [
    "- 世界的な機械学習のCompetitionであるKaggleにおいて、Cifar10の画像分類で銀メダリストが提案したモデル。"
   ]
  },
  {
   "cell_type": "markdown",
   "metadata": {
    "id": "FU854WNV_rtZ"
   },
   "source": [
    "https://www.kaggle.com/code/kedarsai/cifar-10-88-accuracy-using-keras"
   ]
  },
  {
   "cell_type": "markdown",
   "metadata": {
    "id": "rXAxrNCk-NtS"
   },
   "source": [
    "## 1) ライブラリの読み込み"
   ]
  },
  {
   "cell_type": "code",
   "execution_count": null,
   "metadata": {
    "id": "ydwxPEx--I6M"
   },
   "outputs": [],
   "source": [
    "import tensorflow as tf\n",
    "from tensorflow import keras\n",
    "from tensorflow.keras import datasets, layers, models\n",
    "from keras.layers import BatchNormalization, MaxPool2D\n",
    "from tensorflow.keras.preprocessing.image import ImageDataGenerator\n",
    "import matplotlib.pyplot as plt"
   ]
  },
  {
   "cell_type": "markdown",
   "metadata": {
    "id": "BQjzHzND-kt8"
   },
   "source": [
    "## 2) データの読み込み"
   ]
  },
  {
   "cell_type": "markdown",
   "metadata": {
    "id": "R5GBoTtX-9yt"
   },
   "source": [
    "- モデルの損失関数が Cross Entropy のため、正解データは One Hot vectorに変換する"
   ]
  },
  {
   "cell_type": "code",
   "execution_count": null,
   "metadata": {
    "id": "pUel5zQr-m_C"
   },
   "outputs": [],
   "source": [
    "(train_images, train_labels), (test_images, test_labels) = datasets.cifar10.load_data()\n",
    "# Normalize pixel values to be between 0 and 1\n",
    "train_images, test_images = train_images / 255.0, test_images / 255.0\n",
    "\n",
    "from keras.utils import to_categorical\n",
    "train_labels = to_categorical(train_labels, 10)\n",
    "test_labels = to_categorical(test_labels, 10)"
   ]
  },
  {
   "cell_type": "markdown",
   "metadata": {
    "id": "gH2NERPl-n00"
   },
   "source": [
    "## 3) モデルの設計"
   ]
  },
  {
   "cell_type": "code",
   "execution_count": null,
   "metadata": {
    "colab": {
     "base_uri": "https://localhost:8080/"
    },
    "id": "m7G6BgCd-pi9",
    "outputId": "9f16f9e5-9165-4cb3-b18b-d84aed5def5c"
   },
   "outputs": [
    {
     "name": "stdout",
     "output_type": "stream",
     "text": [
      "Model: \"sequential_11\"\n",
      "_________________________________________________________________\n",
      " Layer (type)                Output Shape              Param #   \n",
      "=================================================================\n",
      " conv2d_36 (Conv2D)          (None, 32, 32, 32)        896       \n",
      "                                                                 \n",
      " batch_normalization_14 (Bat  (None, 32, 32, 32)       128       \n",
      " chNormalization)                                                \n",
      "                                                                 \n",
      " conv2d_37 (Conv2D)          (None, 32, 32, 32)        9248      \n",
      "                                                                 \n",
      " batch_normalization_15 (Bat  (None, 32, 32, 32)       128       \n",
      " chNormalization)                                                \n",
      "                                                                 \n",
      " max_pooling2d_22 (MaxPoolin  (None, 16, 16, 32)       0         \n",
      " g2D)                                                            \n",
      "                                                                 \n",
      " dropout_9 (Dropout)         (None, 16, 16, 32)        0         \n",
      "                                                                 \n",
      " conv2d_38 (Conv2D)          (None, 16, 16, 64)        18496     \n",
      "                                                                 \n",
      " batch_normalization_16 (Bat  (None, 16, 16, 64)       256       \n",
      " chNormalization)                                                \n",
      "                                                                 \n",
      " conv2d_39 (Conv2D)          (None, 16, 16, 64)        36928     \n",
      "                                                                 \n",
      " batch_normalization_17 (Bat  (None, 16, 16, 64)       256       \n",
      " chNormalization)                                                \n",
      "                                                                 \n",
      " max_pooling2d_23 (MaxPoolin  (None, 8, 8, 64)         0         \n",
      " g2D)                                                            \n",
      "                                                                 \n",
      " dropout_10 (Dropout)        (None, 8, 8, 64)          0         \n",
      "                                                                 \n",
      " conv2d_40 (Conv2D)          (None, 8, 8, 128)         73856     \n",
      "                                                                 \n",
      " batch_normalization_18 (Bat  (None, 8, 8, 128)        512       \n",
      " chNormalization)                                                \n",
      "                                                                 \n",
      " conv2d_41 (Conv2D)          (None, 8, 8, 128)         147584    \n",
      "                                                                 \n",
      " batch_normalization_19 (Bat  (None, 8, 8, 128)        512       \n",
      " chNormalization)                                                \n",
      "                                                                 \n",
      " max_pooling2d_24 (MaxPoolin  (None, 4, 4, 128)        0         \n",
      " g2D)                                                            \n",
      "                                                                 \n",
      " dropout_11 (Dropout)        (None, 4, 4, 128)         0         \n",
      "                                                                 \n",
      " flatten_11 (Flatten)        (None, 2048)              0         \n",
      "                                                                 \n",
      " dense_22 (Dense)            (None, 128)               262272    \n",
      "                                                                 \n",
      " batch_normalization_20 (Bat  (None, 128)              512       \n",
      " chNormalization)                                                \n",
      "                                                                 \n",
      " dropout_12 (Dropout)        (None, 128)               0         \n",
      "                                                                 \n",
      " dense_23 (Dense)            (None, 10)                1290      \n",
      "                                                                 \n",
      "=================================================================\n",
      "Total params: 552,874\n",
      "Trainable params: 551,722\n",
      "Non-trainable params: 1,152\n",
      "_________________________________________________________________\n"
     ]
    }
   ],
   "source": [
    "model6 = models.Sequential()\n",
    "model6.add(layers.Conv2D(32, (3, 3), activation='relu', kernel_initializer='he_uniform', padding='same', input_shape=(32, 32, 3)))\n",
    "model6.add(BatchNormalization())\n",
    "model6.add(layers.Conv2D(32, (3, 3), activation='relu', kernel_initializer='he_uniform', padding='same'))\n",
    "model6.add(BatchNormalization())\n",
    "model6.add(MaxPool2D((2, 2)))\n",
    "model6.add(layers.Dropout(0.2))\n",
    "model6.add(layers.Conv2D(64, (3, 3), activation='relu', kernel_initializer='he_uniform', padding='same'))\n",
    "model6.add(BatchNormalization())\n",
    "model6.add(layers.Conv2D(64, (3, 3), activation='relu', kernel_initializer='he_uniform', padding='same'))\n",
    "model6.add(BatchNormalization())\n",
    "model6.add(MaxPool2D((2, 2)))\n",
    "model6.add(layers.Dropout(0.3))\n",
    "model6.add(layers.Conv2D(128, (3, 3), activation='relu', kernel_initializer='he_uniform', padding='same'))\n",
    "model6.add(BatchNormalization())\n",
    "model6.add(layers.Conv2D(128, (3, 3), activation='relu', kernel_initializer='he_uniform', padding='same'))\n",
    "model6.add(BatchNormalization())\n",
    "model6.add(MaxPool2D((2, 2)))\n",
    "model6.add(layers.Dropout(0.4))\n",
    "model6.add(layers.Flatten())\n",
    "model6.add(layers.Dense(128, activation='relu', kernel_initializer='he_uniform'))\n",
    "model6.add(BatchNormalization())\n",
    "model6.add(layers.Dropout(0.5))\n",
    "model6.add(layers.Dense(10, activation='softmax'))\n",
    "\n",
    "model6.summary()"
   ]
  },
  {
   "cell_type": "markdown",
   "metadata": {
    "id": "76P20KzQ-qZq"
   },
   "source": [
    "## 4) モデルの学習"
   ]
  },
  {
   "cell_type": "code",
   "execution_count": null,
   "metadata": {
    "colab": {
     "base_uri": "https://localhost:8080/"
    },
    "id": "oalSqgPw-sQ7",
    "outputId": "b4ff7d4e-f512-48c7-a275-42d128cc60c2"
   },
   "outputs": [
    {
     "metadata": {
      "tags": null
     },
     "name": "stdout",
     "output_type": "stream",
     "text": [
      "Epoch 1/200\n"
     ]
    },
    {
     "metadata": {
      "tags": null
     },
     "name": "stderr",
     "output_type": "stream",
     "text": [
      "<ipython-input-113-b4162ae07747>:10: UserWarning: `Model.fit_generator` is deprecated and will be removed in a future version. Please use `Model.fit`, which supports generators.\n",
      "  history6=model6.fit_generator(it_train, epochs=200, steps_per_epoch=steps, validation_data=(test_images, test_labels))\n"
     ]
    },
    {
     "name": "stdout",
     "output_type": "stream",
     "text": [
      "781/781 [==============================] - 21s 20ms/step - loss: 1.9806 - accuracy: 0.3344 - val_loss: 1.3675 - val_accuracy: 0.5014\n",
      "Epoch 2/200\n",
      "781/781 [==============================] - 15s 20ms/step - loss: 1.4664 - accuracy: 0.4719 - val_loss: 1.4320 - val_accuracy: 0.5120\n",
      "Epoch 3/200\n",
      "781/781 [==============================] - 15s 19ms/step - loss: 1.3018 - accuracy: 0.5330 - val_loss: 1.2757 - val_accuracy: 0.5483\n",
      "Epoch 4/200\n",
      "781/781 [==============================] - 15s 19ms/step - loss: 1.1855 - accuracy: 0.5812 - val_loss: 1.0316 - val_accuracy: 0.6297\n",
      "Epoch 5/200\n",
      "781/781 [==============================] - 15s 20ms/step - loss: 1.0941 - accuracy: 0.6182 - val_loss: 0.9296 - val_accuracy: 0.6828\n",
      "Epoch 6/200\n",
      "781/781 [==============================] - 15s 20ms/step - loss: 1.0358 - accuracy: 0.6387 - val_loss: 0.8136 - val_accuracy: 0.7133\n",
      "Epoch 7/200\n",
      "781/781 [==============================] - 15s 19ms/step - loss: 0.9881 - accuracy: 0.6555 - val_loss: 1.2702 - val_accuracy: 0.5840\n",
      "Epoch 8/200\n",
      "781/781 [==============================] - 15s 19ms/step - loss: 0.9552 - accuracy: 0.6720 - val_loss: 0.8048 - val_accuracy: 0.7231\n",
      "Epoch 9/200\n",
      "781/781 [==============================] - 15s 19ms/step - loss: 0.9119 - accuracy: 0.6868 - val_loss: 1.0906 - val_accuracy: 0.6408\n",
      "Epoch 10/200\n",
      "781/781 [==============================] - 15s 19ms/step - loss: 0.8807 - accuracy: 0.7002 - val_loss: 0.8177 - val_accuracy: 0.7255\n",
      "Epoch 11/200\n",
      "781/781 [==============================] - 15s 20ms/step - loss: 0.8613 - accuracy: 0.7043 - val_loss: 0.8371 - val_accuracy: 0.7184\n",
      "Epoch 12/200\n",
      "781/781 [==============================] - 15s 19ms/step - loss: 0.8371 - accuracy: 0.7165 - val_loss: 0.6746 - val_accuracy: 0.7701\n",
      "Epoch 13/200\n",
      "781/781 [==============================] - 15s 19ms/step - loss: 0.8007 - accuracy: 0.7285 - val_loss: 0.7727 - val_accuracy: 0.7424\n",
      "Epoch 14/200\n",
      "781/781 [==============================] - 15s 19ms/step - loss: 0.7855 - accuracy: 0.7325 - val_loss: 0.7318 - val_accuracy: 0.7508\n",
      "Epoch 15/200\n",
      "781/781 [==============================] - 15s 19ms/step - loss: 0.7766 - accuracy: 0.7347 - val_loss: 0.7753 - val_accuracy: 0.7458\n",
      "Epoch 16/200\n",
      "781/781 [==============================] - 15s 19ms/step - loss: 0.7582 - accuracy: 0.7397 - val_loss: 0.7165 - val_accuracy: 0.7629\n",
      "Epoch 17/200\n",
      "781/781 [==============================] - 15s 20ms/step - loss: 0.7494 - accuracy: 0.7456 - val_loss: 0.6593 - val_accuracy: 0.7822\n",
      "Epoch 18/200\n",
      "781/781 [==============================] - 15s 19ms/step - loss: 0.7338 - accuracy: 0.7508 - val_loss: 0.5950 - val_accuracy: 0.7978\n",
      "Epoch 19/200\n",
      "781/781 [==============================] - 15s 20ms/step - loss: 0.7152 - accuracy: 0.7566 - val_loss: 0.6660 - val_accuracy: 0.7778\n",
      "Epoch 20/200\n",
      "781/781 [==============================] - 15s 19ms/step - loss: 0.7117 - accuracy: 0.7556 - val_loss: 0.5900 - val_accuracy: 0.8035\n",
      "Epoch 21/200\n",
      "781/781 [==============================] - 15s 19ms/step - loss: 0.7067 - accuracy: 0.7624 - val_loss: 0.6702 - val_accuracy: 0.7793\n",
      "Epoch 22/200\n",
      "781/781 [==============================] - 15s 19ms/step - loss: 0.7016 - accuracy: 0.7614 - val_loss: 0.7206 - val_accuracy: 0.7652\n",
      "Epoch 23/200\n",
      "781/781 [==============================] - 15s 20ms/step - loss: 0.6815 - accuracy: 0.7679 - val_loss: 0.5664 - val_accuracy: 0.8049\n",
      "Epoch 24/200\n",
      "781/781 [==============================] - 15s 19ms/step - loss: 0.6797 - accuracy: 0.7681 - val_loss: 0.6985 - val_accuracy: 0.7691\n",
      "Epoch 25/200\n",
      "781/781 [==============================] - 15s 19ms/step - loss: 0.6747 - accuracy: 0.7721 - val_loss: 0.6979 - val_accuracy: 0.7683\n",
      "Epoch 26/200\n",
      "781/781 [==============================] - 15s 19ms/step - loss: 0.6574 - accuracy: 0.7758 - val_loss: 0.6367 - val_accuracy: 0.7951\n",
      "Epoch 27/200\n",
      "781/781 [==============================] - 15s 19ms/step - loss: 0.6486 - accuracy: 0.7823 - val_loss: 0.5859 - val_accuracy: 0.8013\n",
      "Epoch 28/200\n",
      "781/781 [==============================] - 15s 19ms/step - loss: 0.6486 - accuracy: 0.7820 - val_loss: 0.7782 - val_accuracy: 0.7491\n",
      "Epoch 29/200\n",
      "781/781 [==============================] - 16s 20ms/step - loss: 0.6366 - accuracy: 0.7838 - val_loss: 0.5524 - val_accuracy: 0.8140\n",
      "Epoch 30/200\n",
      "781/781 [==============================] - 15s 19ms/step - loss: 0.6460 - accuracy: 0.7836 - val_loss: 0.5020 - val_accuracy: 0.8321\n",
      "Epoch 31/200\n",
      "781/781 [==============================] - 15s 19ms/step - loss: 0.6310 - accuracy: 0.7843 - val_loss: 0.5358 - val_accuracy: 0.8203\n",
      "Epoch 32/200\n",
      "781/781 [==============================] - 15s 19ms/step - loss: 0.6272 - accuracy: 0.7880 - val_loss: 0.6304 - val_accuracy: 0.7908\n",
      "Epoch 33/200\n",
      "781/781 [==============================] - 15s 19ms/step - loss: 0.6252 - accuracy: 0.7886 - val_loss: 0.5198 - val_accuracy: 0.8246\n",
      "Epoch 34/200\n",
      "781/781 [==============================] - 15s 19ms/step - loss: 0.6132 - accuracy: 0.7928 - val_loss: 0.5933 - val_accuracy: 0.8044\n",
      "Epoch 35/200\n",
      "781/781 [==============================] - 15s 20ms/step - loss: 0.6154 - accuracy: 0.7933 - val_loss: 0.4631 - val_accuracy: 0.8425\n",
      "Epoch 36/200\n",
      "781/781 [==============================] - 15s 19ms/step - loss: 0.6184 - accuracy: 0.7941 - val_loss: 0.5605 - val_accuracy: 0.8110\n",
      "Epoch 37/200\n",
      "781/781 [==============================] - 15s 20ms/step - loss: 0.6063 - accuracy: 0.7949 - val_loss: 0.5215 - val_accuracy: 0.8279\n",
      "Epoch 38/200\n",
      "781/781 [==============================] - 15s 19ms/step - loss: 0.5953 - accuracy: 0.7984 - val_loss: 0.5145 - val_accuracy: 0.8223\n",
      "Epoch 39/200\n",
      "781/781 [==============================] - 15s 19ms/step - loss: 0.5940 - accuracy: 0.8007 - val_loss: 0.6191 - val_accuracy: 0.7970\n",
      "Epoch 40/200\n",
      "781/781 [==============================] - 15s 20ms/step - loss: 0.5921 - accuracy: 0.8007 - val_loss: 0.5594 - val_accuracy: 0.8122\n",
      "Epoch 41/200\n",
      "781/781 [==============================] - 15s 20ms/step - loss: 0.5881 - accuracy: 0.8027 - val_loss: 0.5307 - val_accuracy: 0.8213\n",
      "Epoch 42/200\n",
      "781/781 [==============================] - 15s 19ms/step - loss: 0.5872 - accuracy: 0.8027 - val_loss: 0.4761 - val_accuracy: 0.8413\n",
      "Epoch 43/200\n",
      "781/781 [==============================] - 15s 20ms/step - loss: 0.5805 - accuracy: 0.8050 - val_loss: 0.4995 - val_accuracy: 0.8304\n",
      "Epoch 44/200\n",
      "781/781 [==============================] - 15s 19ms/step - loss: 0.5833 - accuracy: 0.8024 - val_loss: 0.4987 - val_accuracy: 0.8342\n",
      "Epoch 45/200\n",
      "781/781 [==============================] - 15s 19ms/step - loss: 0.5763 - accuracy: 0.8041 - val_loss: 0.4523 - val_accuracy: 0.8441\n",
      "Epoch 46/200\n",
      "781/781 [==============================] - 15s 19ms/step - loss: 0.5683 - accuracy: 0.8096 - val_loss: 0.4907 - val_accuracy: 0.8339\n",
      "Epoch 47/200\n",
      "781/781 [==============================] - 15s 20ms/step - loss: 0.5690 - accuracy: 0.8063 - val_loss: 0.5311 - val_accuracy: 0.8195\n",
      "Epoch 48/200\n",
      "781/781 [==============================] - 15s 19ms/step - loss: 0.5699 - accuracy: 0.8047 - val_loss: 0.4585 - val_accuracy: 0.8479\n",
      "Epoch 49/200\n",
      "781/781 [==============================] - 15s 20ms/step - loss: 0.5564 - accuracy: 0.8112 - val_loss: 0.5993 - val_accuracy: 0.8025\n",
      "Epoch 50/200\n",
      "781/781 [==============================] - 15s 19ms/step - loss: 0.5676 - accuracy: 0.8091 - val_loss: 0.5197 - val_accuracy: 0.8281\n",
      "Epoch 51/200\n",
      "781/781 [==============================] - 15s 19ms/step - loss: 0.5558 - accuracy: 0.8140 - val_loss: 0.4700 - val_accuracy: 0.8427\n",
      "Epoch 52/200\n",
      "781/781 [==============================] - 15s 19ms/step - loss: 0.5550 - accuracy: 0.8109 - val_loss: 0.4977 - val_accuracy: 0.8361\n",
      "Epoch 53/200\n",
      "781/781 [==============================] - 15s 19ms/step - loss: 0.5363 - accuracy: 0.8192 - val_loss: 0.5411 - val_accuracy: 0.8217\n",
      "Epoch 54/200\n",
      "781/781 [==============================] - 15s 19ms/step - loss: 0.5527 - accuracy: 0.8153 - val_loss: 0.4479 - val_accuracy: 0.8489\n",
      "Epoch 55/200\n",
      "781/781 [==============================] - 15s 20ms/step - loss: 0.5399 - accuracy: 0.8178 - val_loss: 0.4691 - val_accuracy: 0.8435\n",
      "Epoch 56/200\n",
      "781/781 [==============================] - 15s 20ms/step - loss: 0.5406 - accuracy: 0.8168 - val_loss: 0.4702 - val_accuracy: 0.8425\n",
      "Epoch 57/200\n",
      "781/781 [==============================] - 15s 20ms/step - loss: 0.5477 - accuracy: 0.8147 - val_loss: 0.4739 - val_accuracy: 0.8406\n",
      "Epoch 58/200\n",
      "781/781 [==============================] - 15s 19ms/step - loss: 0.5455 - accuracy: 0.8119 - val_loss: 0.4725 - val_accuracy: 0.8441\n",
      "Epoch 59/200\n",
      "781/781 [==============================] - 15s 20ms/step - loss: 0.5496 - accuracy: 0.8153 - val_loss: 0.4938 - val_accuracy: 0.8378\n",
      "Epoch 60/200\n",
      "781/781 [==============================] - 15s 20ms/step - loss: 0.5337 - accuracy: 0.8187 - val_loss: 0.4481 - val_accuracy: 0.8471\n",
      "Epoch 61/200\n",
      "781/781 [==============================] - 15s 20ms/step - loss: 0.5312 - accuracy: 0.8200 - val_loss: 0.5286 - val_accuracy: 0.8287\n",
      "Epoch 62/200\n",
      "781/781 [==============================] - 15s 19ms/step - loss: 0.5327 - accuracy: 0.8209 - val_loss: 0.5354 - val_accuracy: 0.8221\n",
      "Epoch 63/200\n",
      "781/781 [==============================] - 15s 19ms/step - loss: 0.5283 - accuracy: 0.8196 - val_loss: 0.4297 - val_accuracy: 0.8548\n",
      "Epoch 64/200\n",
      "781/781 [==============================] - 15s 19ms/step - loss: 0.5204 - accuracy: 0.8270 - val_loss: 0.4335 - val_accuracy: 0.8523\n",
      "Epoch 65/200\n",
      "781/781 [==============================] - 15s 19ms/step - loss: 0.5220 - accuracy: 0.8245 - val_loss: 0.4545 - val_accuracy: 0.8467\n",
      "Epoch 66/200\n",
      "781/781 [==============================] - 15s 19ms/step - loss: 0.5194 - accuracy: 0.8233 - val_loss: 0.4429 - val_accuracy: 0.8521\n",
      "Epoch 67/200\n",
      "781/781 [==============================] - 15s 19ms/step - loss: 0.5199 - accuracy: 0.8245 - val_loss: 0.4677 - val_accuracy: 0.8421\n",
      "Epoch 68/200\n",
      "781/781 [==============================] - 15s 19ms/step - loss: 0.5152 - accuracy: 0.8247 - val_loss: 0.4501 - val_accuracy: 0.8487\n",
      "Epoch 69/200\n",
      "781/781 [==============================] - 15s 19ms/step - loss: 0.5205 - accuracy: 0.8235 - val_loss: 0.4537 - val_accuracy: 0.8495\n",
      "Epoch 70/200\n",
      "781/781 [==============================] - 15s 19ms/step - loss: 0.5283 - accuracy: 0.8228 - val_loss: 0.4497 - val_accuracy: 0.8521\n",
      "Epoch 71/200\n",
      "781/781 [==============================] - 15s 19ms/step - loss: 0.5198 - accuracy: 0.8238 - val_loss: 0.4156 - val_accuracy: 0.8600\n",
      "Epoch 72/200\n",
      "781/781 [==============================] - 15s 19ms/step - loss: 0.5115 - accuracy: 0.8266 - val_loss: 0.4352 - val_accuracy: 0.8522\n",
      "Epoch 73/200\n",
      "781/781 [==============================] - 15s 20ms/step - loss: 0.5000 - accuracy: 0.8305 - val_loss: 0.4576 - val_accuracy: 0.8475\n",
      "Epoch 74/200\n",
      "781/781 [==============================] - 15s 19ms/step - loss: 0.5104 - accuracy: 0.8261 - val_loss: 0.4708 - val_accuracy: 0.8447\n",
      "Epoch 75/200\n",
      "781/781 [==============================] - 15s 19ms/step - loss: 0.4946 - accuracy: 0.8324 - val_loss: 0.4200 - val_accuracy: 0.8581\n",
      "Epoch 76/200\n",
      "781/781 [==============================] - 15s 19ms/step - loss: 0.4994 - accuracy: 0.8320 - val_loss: 0.4514 - val_accuracy: 0.8499\n",
      "Epoch 77/200\n",
      "781/781 [==============================] - 15s 19ms/step - loss: 0.5006 - accuracy: 0.8306 - val_loss: 0.4367 - val_accuracy: 0.8532\n",
      "Epoch 78/200\n",
      "781/781 [==============================] - 15s 19ms/step - loss: 0.5020 - accuracy: 0.8298 - val_loss: 0.4266 - val_accuracy: 0.8573\n",
      "Epoch 79/200\n",
      "781/781 [==============================] - 15s 19ms/step - loss: 0.4980 - accuracy: 0.8308 - val_loss: 0.4511 - val_accuracy: 0.8488\n",
      "Epoch 80/200\n",
      "781/781 [==============================] - 15s 20ms/step - loss: 0.5004 - accuracy: 0.8316 - val_loss: 0.4612 - val_accuracy: 0.8487\n",
      "Epoch 81/200\n",
      "781/781 [==============================] - 15s 20ms/step - loss: 0.5074 - accuracy: 0.8285 - val_loss: 0.4534 - val_accuracy: 0.8532\n",
      "Epoch 82/200\n",
      "781/781 [==============================] - 15s 19ms/step - loss: 0.5003 - accuracy: 0.8289 - val_loss: 0.4336 - val_accuracy: 0.8538\n",
      "Epoch 83/200\n",
      "781/781 [==============================] - 15s 20ms/step - loss: 0.4977 - accuracy: 0.8331 - val_loss: 0.4617 - val_accuracy: 0.8458\n",
      "Epoch 84/200\n",
      "781/781 [==============================] - 15s 19ms/step - loss: 0.4992 - accuracy: 0.8342 - val_loss: 0.4074 - val_accuracy: 0.8653\n",
      "Epoch 85/200\n",
      "781/781 [==============================] - 15s 20ms/step - loss: 0.4893 - accuracy: 0.8367 - val_loss: 0.4315 - val_accuracy: 0.8578\n",
      "Epoch 86/200\n",
      "781/781 [==============================] - 15s 19ms/step - loss: 0.4937 - accuracy: 0.8327 - val_loss: 0.4133 - val_accuracy: 0.8593\n",
      "Epoch 87/200\n",
      "781/781 [==============================] - 15s 19ms/step - loss: 0.4868 - accuracy: 0.8371 - val_loss: 0.4371 - val_accuracy: 0.8541\n",
      "Epoch 88/200\n",
      "781/781 [==============================] - 15s 19ms/step - loss: 0.4894 - accuracy: 0.8341 - val_loss: 0.4159 - val_accuracy: 0.8603\n",
      "Epoch 89/200\n",
      "781/781 [==============================] - 15s 19ms/step - loss: 0.4898 - accuracy: 0.8338 - val_loss: 0.4410 - val_accuracy: 0.8581\n",
      "Epoch 90/200\n",
      "781/781 [==============================] - 15s 19ms/step - loss: 0.4900 - accuracy: 0.8322 - val_loss: 0.4151 - val_accuracy: 0.8602\n",
      "Epoch 91/200\n",
      "781/781 [==============================] - 15s 20ms/step - loss: 0.4859 - accuracy: 0.8349 - val_loss: 0.4478 - val_accuracy: 0.8506\n",
      "Epoch 92/200\n",
      "781/781 [==============================] - 15s 19ms/step - loss: 0.4866 - accuracy: 0.8379 - val_loss: 0.4582 - val_accuracy: 0.8508\n",
      "Epoch 93/200\n",
      "781/781 [==============================] - 15s 19ms/step - loss: 0.4838 - accuracy: 0.8386 - val_loss: 0.4305 - val_accuracy: 0.8575\n",
      "Epoch 94/200\n",
      "781/781 [==============================] - 15s 19ms/step - loss: 0.4854 - accuracy: 0.8365 - val_loss: 0.4110 - val_accuracy: 0.8622\n",
      "Epoch 95/200\n",
      "781/781 [==============================] - 15s 20ms/step - loss: 0.4810 - accuracy: 0.8369 - val_loss: 0.4566 - val_accuracy: 0.8506\n",
      "Epoch 96/200\n",
      "781/781 [==============================] - 15s 19ms/step - loss: 0.4767 - accuracy: 0.8385 - val_loss: 0.4496 - val_accuracy: 0.8541\n",
      "Epoch 97/200\n",
      "781/781 [==============================] - 15s 19ms/step - loss: 0.4720 - accuracy: 0.8419 - val_loss: 0.4065 - val_accuracy: 0.8686\n",
      "Epoch 98/200\n",
      "781/781 [==============================] - 15s 19ms/step - loss: 0.4856 - accuracy: 0.8376 - val_loss: 0.4133 - val_accuracy: 0.8634\n",
      "Epoch 99/200\n",
      "781/781 [==============================] - 15s 19ms/step - loss: 0.4644 - accuracy: 0.8443 - val_loss: 0.4966 - val_accuracy: 0.8370\n",
      "Epoch 100/200\n",
      "781/781 [==============================] - 15s 19ms/step - loss: 0.4707 - accuracy: 0.8399 - val_loss: 0.4452 - val_accuracy: 0.8518\n",
      "Epoch 101/200\n",
      "781/781 [==============================] - 15s 20ms/step - loss: 0.4692 - accuracy: 0.8427 - val_loss: 0.4475 - val_accuracy: 0.8514\n",
      "Epoch 102/200\n",
      "781/781 [==============================] - 15s 19ms/step - loss: 0.4682 - accuracy: 0.8427 - val_loss: 0.4398 - val_accuracy: 0.8540\n",
      "Epoch 103/200\n",
      "781/781 [==============================] - 15s 19ms/step - loss: 0.4666 - accuracy: 0.8439 - val_loss: 0.4158 - val_accuracy: 0.8600\n",
      "Epoch 104/200\n",
      "781/781 [==============================] - 15s 19ms/step - loss: 0.4620 - accuracy: 0.8435 - val_loss: 0.3842 - val_accuracy: 0.8723\n",
      "Epoch 105/200\n",
      "781/781 [==============================] - 15s 19ms/step - loss: 0.4628 - accuracy: 0.8455 - val_loss: 0.4517 - val_accuracy: 0.8530\n",
      "Epoch 106/200\n",
      "781/781 [==============================] - 15s 19ms/step - loss: 0.4662 - accuracy: 0.8438 - val_loss: 0.4364 - val_accuracy: 0.8562\n",
      "Epoch 107/200\n",
      "781/781 [==============================] - 15s 19ms/step - loss: 0.4675 - accuracy: 0.8431 - val_loss: 0.4108 - val_accuracy: 0.8642\n",
      "Epoch 108/200\n",
      "781/781 [==============================] - 15s 19ms/step - loss: 0.4639 - accuracy: 0.8433 - val_loss: 0.4151 - val_accuracy: 0.8613\n",
      "Epoch 109/200\n",
      "781/781 [==============================] - 15s 19ms/step - loss: 0.4654 - accuracy: 0.8428 - val_loss: 0.4870 - val_accuracy: 0.8420\n",
      "Epoch 110/200\n",
      "781/781 [==============================] - 15s 19ms/step - loss: 0.4600 - accuracy: 0.8459 - val_loss: 0.4274 - val_accuracy: 0.8575\n",
      "Epoch 111/200\n",
      "781/781 [==============================] - 15s 19ms/step - loss: 0.4616 - accuracy: 0.8449 - val_loss: 0.3946 - val_accuracy: 0.8670\n",
      "Epoch 112/200\n",
      "781/781 [==============================] - 15s 20ms/step - loss: 0.4661 - accuracy: 0.8434 - val_loss: 0.4810 - val_accuracy: 0.8409\n",
      "Epoch 113/200\n",
      "781/781 [==============================] - 15s 20ms/step - loss: 0.4535 - accuracy: 0.8473 - val_loss: 0.4052 - val_accuracy: 0.8662\n",
      "Epoch 114/200\n",
      "781/781 [==============================] - 15s 19ms/step - loss: 0.4561 - accuracy: 0.8445 - val_loss: 0.4525 - val_accuracy: 0.8505\n",
      "Epoch 115/200\n",
      "781/781 [==============================] - 15s 20ms/step - loss: 0.4624 - accuracy: 0.8449 - val_loss: 0.3891 - val_accuracy: 0.8698\n",
      "Epoch 116/200\n",
      "781/781 [==============================] - 15s 20ms/step - loss: 0.4639 - accuracy: 0.8431 - val_loss: 0.4034 - val_accuracy: 0.8658\n",
      "Epoch 117/200\n",
      "781/781 [==============================] - 15s 20ms/step - loss: 0.4691 - accuracy: 0.8400 - val_loss: 0.4142 - val_accuracy: 0.8636\n",
      "Epoch 118/200\n",
      "781/781 [==============================] - 15s 19ms/step - loss: 0.4586 - accuracy: 0.8480 - val_loss: 0.4095 - val_accuracy: 0.8661\n",
      "Epoch 119/200\n",
      "781/781 [==============================] - 15s 20ms/step - loss: 0.4495 - accuracy: 0.8479 - val_loss: 0.3788 - val_accuracy: 0.8734\n",
      "Epoch 120/200\n",
      "781/781 [==============================] - 15s 19ms/step - loss: 0.4606 - accuracy: 0.8463 - val_loss: 0.3927 - val_accuracy: 0.8667\n",
      "Epoch 121/200\n",
      "781/781 [==============================] - 15s 20ms/step - loss: 0.4526 - accuracy: 0.8485 - val_loss: 0.3600 - val_accuracy: 0.8805\n",
      "Epoch 122/200\n",
      "781/781 [==============================] - 15s 20ms/step - loss: 0.4503 - accuracy: 0.8457 - val_loss: 0.4273 - val_accuracy: 0.8599\n",
      "Epoch 123/200\n",
      "781/781 [==============================] - 15s 20ms/step - loss: 0.4489 - accuracy: 0.8460 - val_loss: 0.4147 - val_accuracy: 0.8646\n",
      "Epoch 124/200\n",
      "781/781 [==============================] - 15s 19ms/step - loss: 0.4539 - accuracy: 0.8486 - val_loss: 0.3872 - val_accuracy: 0.8735\n",
      "Epoch 125/200\n",
      "781/781 [==============================] - 15s 19ms/step - loss: 0.4466 - accuracy: 0.8498 - val_loss: 0.3655 - val_accuracy: 0.8763\n",
      "Epoch 126/200\n",
      "781/781 [==============================] - 15s 20ms/step - loss: 0.4395 - accuracy: 0.8499 - val_loss: 0.3845 - val_accuracy: 0.8699\n",
      "Epoch 127/200\n",
      "781/781 [==============================] - 15s 19ms/step - loss: 0.4498 - accuracy: 0.8504 - val_loss: 0.4009 - val_accuracy: 0.8667\n",
      "Epoch 128/200\n",
      "781/781 [==============================] - 15s 19ms/step - loss: 0.4401 - accuracy: 0.8516 - val_loss: 0.4231 - val_accuracy: 0.8614\n",
      "Epoch 129/200\n",
      "781/781 [==============================] - 15s 20ms/step - loss: 0.4424 - accuracy: 0.8505 - val_loss: 0.4009 - val_accuracy: 0.8666\n",
      "Epoch 130/200\n",
      "781/781 [==============================] - 15s 19ms/step - loss: 0.4509 - accuracy: 0.8468 - val_loss: 0.3871 - val_accuracy: 0.8709\n",
      "Epoch 131/200\n",
      "781/781 [==============================] - 15s 19ms/step - loss: 0.4502 - accuracy: 0.8480 - val_loss: 0.3969 - val_accuracy: 0.8712\n",
      "Epoch 132/200\n",
      "781/781 [==============================] - 15s 20ms/step - loss: 0.4390 - accuracy: 0.8519 - val_loss: 0.4147 - val_accuracy: 0.8661\n",
      "Epoch 133/200\n",
      "781/781 [==============================] - 15s 20ms/step - loss: 0.4449 - accuracy: 0.8533 - val_loss: 0.3676 - val_accuracy: 0.8772\n",
      "Epoch 134/200\n",
      "781/781 [==============================] - 15s 19ms/step - loss: 0.4425 - accuracy: 0.8470 - val_loss: 0.4102 - val_accuracy: 0.8638\n",
      "Epoch 135/200\n",
      "781/781 [==============================] - 15s 19ms/step - loss: 0.4352 - accuracy: 0.8523 - val_loss: 0.3798 - val_accuracy: 0.8764\n",
      "Epoch 136/200\n",
      "781/781 [==============================] - 15s 19ms/step - loss: 0.4469 - accuracy: 0.8471 - val_loss: 0.3948 - val_accuracy: 0.8699\n",
      "Epoch 137/200\n",
      "781/781 [==============================] - 15s 19ms/step - loss: 0.4378 - accuracy: 0.8500 - val_loss: 0.3984 - val_accuracy: 0.8647\n",
      "Epoch 138/200\n",
      "781/781 [==============================] - 15s 19ms/step - loss: 0.4403 - accuracy: 0.8506 - val_loss: 0.3783 - val_accuracy: 0.8734\n",
      "Epoch 139/200\n",
      "781/781 [==============================] - 15s 19ms/step - loss: 0.4450 - accuracy: 0.8515 - val_loss: 0.3803 - val_accuracy: 0.8735\n",
      "Epoch 140/200\n",
      "781/781 [==============================] - 15s 20ms/step - loss: 0.4457 - accuracy: 0.8499 - val_loss: 0.3974 - val_accuracy: 0.8686\n",
      "Epoch 141/200\n",
      "781/781 [==============================] - 15s 20ms/step - loss: 0.4347 - accuracy: 0.8516 - val_loss: 0.3931 - val_accuracy: 0.8693\n",
      "Epoch 142/200\n",
      "781/781 [==============================] - 15s 20ms/step - loss: 0.4460 - accuracy: 0.8489 - val_loss: 0.3609 - val_accuracy: 0.8794\n",
      "Epoch 143/200\n",
      "781/781 [==============================] - 15s 20ms/step - loss: 0.4424 - accuracy: 0.8518 - val_loss: 0.4376 - val_accuracy: 0.8546\n",
      "Epoch 144/200\n",
      "781/781 [==============================] - 15s 19ms/step - loss: 0.4393 - accuracy: 0.8515 - val_loss: 0.3544 - val_accuracy: 0.8794\n",
      "Epoch 145/200\n",
      "781/781 [==============================] - 15s 20ms/step - loss: 0.4381 - accuracy: 0.8526 - val_loss: 0.4185 - val_accuracy: 0.8617\n",
      "Epoch 146/200\n",
      "781/781 [==============================] - 15s 20ms/step - loss: 0.4326 - accuracy: 0.8543 - val_loss: 0.4202 - val_accuracy: 0.8641\n",
      "Epoch 147/200\n",
      "781/781 [==============================] - 15s 19ms/step - loss: 0.4374 - accuracy: 0.8549 - val_loss: 0.3707 - val_accuracy: 0.8771\n",
      "Epoch 148/200\n",
      "781/781 [==============================] - 15s 20ms/step - loss: 0.4318 - accuracy: 0.8520 - val_loss: 0.4539 - val_accuracy: 0.8528\n",
      "Epoch 149/200\n",
      "781/781 [==============================] - 15s 20ms/step - loss: 0.4295 - accuracy: 0.8524 - val_loss: 0.3865 - val_accuracy: 0.8738\n",
      "Epoch 150/200\n",
      "781/781 [==============================] - 15s 19ms/step - loss: 0.4397 - accuracy: 0.8522 - val_loss: 0.4406 - val_accuracy: 0.8585\n",
      "Epoch 151/200\n",
      "781/781 [==============================] - 15s 20ms/step - loss: 0.4262 - accuracy: 0.8559 - val_loss: 0.3857 - val_accuracy: 0.8720\n",
      "Epoch 152/200\n",
      "781/781 [==============================] - 15s 20ms/step - loss: 0.4322 - accuracy: 0.8545 - val_loss: 0.3625 - val_accuracy: 0.8813\n",
      "Epoch 153/200\n",
      "781/781 [==============================] - 15s 20ms/step - loss: 0.4350 - accuracy: 0.8518 - val_loss: 0.3835 - val_accuracy: 0.8726\n",
      "Epoch 154/200\n",
      "781/781 [==============================] - 15s 20ms/step - loss: 0.4241 - accuracy: 0.8572 - val_loss: 0.4038 - val_accuracy: 0.8689\n",
      "Epoch 155/200\n",
      "781/781 [==============================] - 15s 19ms/step - loss: 0.4228 - accuracy: 0.8568 - val_loss: 0.4076 - val_accuracy: 0.8703\n",
      "Epoch 156/200\n",
      "781/781 [==============================] - 15s 20ms/step - loss: 0.4295 - accuracy: 0.8528 - val_loss: 0.3998 - val_accuracy: 0.8690\n",
      "Epoch 157/200\n",
      "781/781 [==============================] - 15s 19ms/step - loss: 0.4237 - accuracy: 0.8563 - val_loss: 0.3985 - val_accuracy: 0.8693\n",
      "Epoch 158/200\n",
      "781/781 [==============================] - 15s 19ms/step - loss: 0.4256 - accuracy: 0.8564 - val_loss: 0.4075 - val_accuracy: 0.8657\n",
      "Epoch 159/200\n",
      "781/781 [==============================] - 15s 20ms/step - loss: 0.4231 - accuracy: 0.8573 - val_loss: 0.4250 - val_accuracy: 0.8643\n",
      "Epoch 160/200\n",
      "781/781 [==============================] - 15s 20ms/step - loss: 0.4271 - accuracy: 0.8566 - val_loss: 0.4031 - val_accuracy: 0.8698\n",
      "Epoch 161/200\n",
      "781/781 [==============================] - 15s 20ms/step - loss: 0.4252 - accuracy: 0.8560 - val_loss: 0.3682 - val_accuracy: 0.8781\n",
      "Epoch 162/200\n",
      "781/781 [==============================] - 15s 20ms/step - loss: 0.4258 - accuracy: 0.8575 - val_loss: 0.3985 - val_accuracy: 0.8702\n",
      "Epoch 163/200\n",
      "781/781 [==============================] - 15s 20ms/step - loss: 0.4237 - accuracy: 0.8577 - val_loss: 0.3909 - val_accuracy: 0.8733\n",
      "Epoch 164/200\n",
      "781/781 [==============================] - 15s 20ms/step - loss: 0.4099 - accuracy: 0.8608 - val_loss: 0.3650 - val_accuracy: 0.8793\n",
      "Epoch 165/200\n",
      "781/781 [==============================] - 15s 20ms/step - loss: 0.4269 - accuracy: 0.8583 - val_loss: 0.3896 - val_accuracy: 0.8714\n",
      "Epoch 166/200\n",
      "781/781 [==============================] - 15s 20ms/step - loss: 0.4167 - accuracy: 0.8597 - val_loss: 0.4072 - val_accuracy: 0.8671\n",
      "Epoch 167/200\n",
      "781/781 [==============================] - 15s 20ms/step - loss: 0.4251 - accuracy: 0.8561 - val_loss: 0.3702 - val_accuracy: 0.8739\n",
      "Epoch 168/200\n",
      "781/781 [==============================] - 15s 19ms/step - loss: 0.4210 - accuracy: 0.8595 - val_loss: 0.4065 - val_accuracy: 0.8672\n",
      "Epoch 169/200\n",
      "781/781 [==============================] - 15s 19ms/step - loss: 0.4204 - accuracy: 0.8584 - val_loss: 0.4036 - val_accuracy: 0.8690\n",
      "Epoch 170/200\n",
      "781/781 [==============================] - 15s 20ms/step - loss: 0.4213 - accuracy: 0.8579 - val_loss: 0.3764 - val_accuracy: 0.8759\n",
      "Epoch 171/200\n",
      "781/781 [==============================] - 15s 19ms/step - loss: 0.4203 - accuracy: 0.8579 - val_loss: 0.3759 - val_accuracy: 0.8764\n",
      "Epoch 172/200\n",
      "781/781 [==============================] - 15s 19ms/step - loss: 0.4192 - accuracy: 0.8559 - val_loss: 0.3958 - val_accuracy: 0.8691\n",
      "Epoch 173/200\n",
      "781/781 [==============================] - 15s 20ms/step - loss: 0.4132 - accuracy: 0.8594 - val_loss: 0.3683 - val_accuracy: 0.8798\n",
      "Epoch 174/200\n",
      "781/781 [==============================] - 15s 19ms/step - loss: 0.4264 - accuracy: 0.8576 - val_loss: 0.3894 - val_accuracy: 0.8706\n",
      "Epoch 175/200\n",
      "781/781 [==============================] - 15s 20ms/step - loss: 0.4202 - accuracy: 0.8561 - val_loss: 0.3650 - val_accuracy: 0.8791\n",
      "Epoch 176/200\n",
      "781/781 [==============================] - 15s 19ms/step - loss: 0.4168 - accuracy: 0.8593 - val_loss: 0.4045 - val_accuracy: 0.8670\n",
      "Epoch 177/200\n",
      "781/781 [==============================] - 15s 19ms/step - loss: 0.4190 - accuracy: 0.8567 - val_loss: 0.3438 - val_accuracy: 0.8818\n",
      "Epoch 178/200\n",
      "781/781 [==============================] - 15s 19ms/step - loss: 0.4172 - accuracy: 0.8609 - val_loss: 0.3772 - val_accuracy: 0.8747\n",
      "Epoch 179/200\n",
      "781/781 [==============================] - 15s 20ms/step - loss: 0.4138 - accuracy: 0.8597 - val_loss: 0.3728 - val_accuracy: 0.8785\n",
      "Epoch 180/200\n",
      "781/781 [==============================] - 15s 19ms/step - loss: 0.4091 - accuracy: 0.8603 - val_loss: 0.3540 - val_accuracy: 0.8815\n",
      "Epoch 181/200\n",
      "781/781 [==============================] - 15s 19ms/step - loss: 0.4190 - accuracy: 0.8589 - val_loss: 0.3837 - val_accuracy: 0.8747\n",
      "Epoch 182/200\n",
      "781/781 [==============================] - 15s 20ms/step - loss: 0.4203 - accuracy: 0.8588 - val_loss: 0.3535 - val_accuracy: 0.8852\n",
      "Epoch 183/200\n",
      "781/781 [==============================] - 15s 20ms/step - loss: 0.4154 - accuracy: 0.8618 - val_loss: 0.3741 - val_accuracy: 0.8773\n",
      "Epoch 184/200\n",
      "781/781 [==============================] - 15s 19ms/step - loss: 0.4152 - accuracy: 0.8578 - val_loss: 0.3816 - val_accuracy: 0.8750\n",
      "Epoch 185/200\n",
      "781/781 [==============================] - 15s 19ms/step - loss: 0.4102 - accuracy: 0.8613 - val_loss: 0.3687 - val_accuracy: 0.8794\n",
      "Epoch 186/200\n",
      "781/781 [==============================] - 15s 20ms/step - loss: 0.4044 - accuracy: 0.8648 - val_loss: 0.3475 - val_accuracy: 0.8848\n",
      "Epoch 187/200\n",
      "781/781 [==============================] - 15s 20ms/step - loss: 0.4034 - accuracy: 0.8636 - val_loss: 0.3507 - val_accuracy: 0.8822\n",
      "Epoch 188/200\n",
      "781/781 [==============================] - 15s 19ms/step - loss: 0.4155 - accuracy: 0.8584 - val_loss: 0.3728 - val_accuracy: 0.8760\n",
      "Epoch 189/200\n",
      "781/781 [==============================] - 15s 19ms/step - loss: 0.4126 - accuracy: 0.8612 - val_loss: 0.3896 - val_accuracy: 0.8724\n",
      "Epoch 190/200\n",
      "781/781 [==============================] - 15s 19ms/step - loss: 0.4120 - accuracy: 0.8623 - val_loss: 0.3698 - val_accuracy: 0.8765\n",
      "Epoch 191/200\n",
      "781/781 [==============================] - 15s 19ms/step - loss: 0.4030 - accuracy: 0.8629 - val_loss: 0.3924 - val_accuracy: 0.8669\n",
      "Epoch 192/200\n",
      "781/781 [==============================] - 15s 19ms/step - loss: 0.4146 - accuracy: 0.8592 - val_loss: 0.3614 - val_accuracy: 0.8794\n",
      "Epoch 193/200\n",
      "781/781 [==============================] - 15s 19ms/step - loss: 0.4073 - accuracy: 0.8625 - val_loss: 0.4042 - val_accuracy: 0.8712\n",
      "Epoch 194/200\n",
      "781/781 [==============================] - 15s 19ms/step - loss: 0.4132 - accuracy: 0.8611 - val_loss: 0.3659 - val_accuracy: 0.8815\n",
      "Epoch 195/200\n",
      "781/781 [==============================] - 15s 19ms/step - loss: 0.4093 - accuracy: 0.8622 - val_loss: 0.4115 - val_accuracy: 0.8655\n",
      "Epoch 196/200\n",
      "781/781 [==============================] - 15s 19ms/step - loss: 0.4082 - accuracy: 0.8630 - val_loss: 0.3971 - val_accuracy: 0.8691\n",
      "Epoch 197/200\n",
      "781/781 [==============================] - 15s 20ms/step - loss: 0.4043 - accuracy: 0.8630 - val_loss: 0.3950 - val_accuracy: 0.8724\n",
      "Epoch 198/200\n",
      "781/781 [==============================] - 15s 20ms/step - loss: 0.4061 - accuracy: 0.8623 - val_loss: 0.3463 - val_accuracy: 0.8871\n",
      "Epoch 199/200\n",
      "781/781 [==============================] - 15s 19ms/step - loss: 0.4024 - accuracy: 0.8648 - val_loss: 0.3924 - val_accuracy: 0.8686\n",
      "Epoch 200/200\n",
      "781/781 [==============================] - 15s 19ms/step - loss: 0.4114 - accuracy: 0.8593 - val_loss: 0.3821 - val_accuracy: 0.8740\n"
     ]
    }
   ],
   "source": [
    "# compile model\n",
    "# opt = SGD(lr=0.001, momentum=0.9)\n",
    "model6.compile(optimizer='adam', loss='categorical_crossentropy', metrics=['accuracy'])\n",
    "\n",
    "# Image Data Generator , we are shifting image accross width and height also we are flipping the image horizantally.\n",
    "datagen = ImageDataGenerator(width_shift_range=0.1, height_shift_range=0.1, horizontal_flip=True,rotation_range=20)\n",
    "it_train = datagen.flow(train_images, train_labels)\n",
    "steps = int(train_images.shape[0] / 64)\n",
    "\n",
    "# Be patient. It will take some time to train the due to 200 epochs of optimization.\n",
    "history6=model6.fit_generator(it_train, epochs=200, steps_per_epoch=steps, validation_data=(test_images, test_labels))"
   ]
  },
  {
   "cell_type": "code",
   "execution_count": null,
   "metadata": {
    "colab": {
     "base_uri": "https://localhost:8080/",
     "height": 276
    },
    "id": "p77auhLrCREY",
    "outputId": "06fb5b19-96d6-466b-bbda-b427d174b3ed"
   },
   "outputs": [
    {
     "data": {
      "image/png": "[encoded data removed]",
      "text/plain": [
       "<Figure size 1200x400 with 2 Axes>"
      ]
     },
     "metadata": {},
     "output_type": "display_data"
    }
   ],
   "source": [
    "# モデルの学習過程\n",
    "\n",
    "# Access the training history\n",
    "train_loss = history6.history['loss']\n",
    "val_loss = history6.history['val_loss']\n",
    "train_accuracy = history6.history['accuracy']\n",
    "val_accuracy = history6.history['val_accuracy']\n",
    "\n",
    "# Plot of the training and validation loss\n",
    "epochs = np.arange(1, len(train_loss) + 1)\n",
    "\n",
    "plt.figure(figsize=(12, 4))\n",
    "plt.subplot(1, 2, 1)\n",
    "plt.plot(epochs, train_loss, 'b', label='Training Loss')\n",
    "plt.plot(epochs, val_loss, 'r', label='Validation Loss')\n",
    "plt.title('Training and Validation Loss')\n",
    "plt.xlabel('Epochs')\n",
    "plt.ylabel('Loss')\n",
    "plt.legend()\n",
    "\n",
    "# Plot　of the training and validation accuracy\n",
    "plt.subplot(1, 2, 2)\n",
    "plt.plot(epochs, train_accuracy, 'b', label='Training Accuracy')\n",
    "plt.plot(epochs, val_accuracy, 'r', label='Validation Accuracy')\n",
    "plt.title('Training and Validation Accuracy')\n",
    "plt.xlabel('Epochs')\n",
    "plt.ylabel('Accuracy')\n",
    "plt.legend()\n",
    "\n",
    "plt.tight_layout()\n",
    "plt.show()"
   ]
  },
  {
   "cell_type": "markdown",
   "metadata": {
    "id": "M-Gv27So-tUr"
   },
   "source": [
    "## 5) モデルの検証"
   ]
  },
  {
   "cell_type": "code",
   "execution_count": null,
   "metadata": {
    "colab": {
     "base_uri": "https://localhost:8080/"
    },
    "id": "vEzvTuvW-vK3",
    "outputId": "e3a053e1-5f26-4b22-8a89-07b3f3b5fb27"
   },
   "outputs": [
    {
     "name": "stdout",
     "output_type": "stream",
     "text": [
      "Test loss:  0.38208404183387756\n",
      "Test accuracy:  0.8740000128746033\n"
     ]
    }
   ],
   "source": [
    "score = model6.evaluate(test_images, test_labels, verbose = 0)\n",
    "print('Test loss: ', score[0])\n",
    "print('Test accuracy: ', score[1])"
   ]
  },
  {
   "cell_type": "markdown",
   "metadata": {
    "id": "TLR5eEBqOcTu"
   },
   "source": [
    "- 検証データで、Accuracy 87.4% を達成した。"
   ]
  },
  {
   "cell_type": "markdown",
   "metadata": {
    "id": "RBUnAOf4-wYG"
   },
   "source": [
    "## 6) モデルの保存と復元"
   ]
  },
  {
   "cell_type": "code",
   "execution_count": null,
   "metadata": {
    "id": "nA_m_izKCvNk"
   },
   "outputs": [],
   "source": [
    "# モデルの保存。HDF5ファイルで保存される。\n",
    "model6.save('/content/drive/MyDrive/Telakoya/tela5/model/cnnK.h5')"
   ]
  },
  {
   "cell_type": "code",
   "execution_count": null,
   "metadata": {
    "id": "VKMBhJs_CvNq"
   },
   "outputs": [],
   "source": [
    "# モデルの復元。\n",
    "from keras.models import load_model\n",
    "model62 = load_model('/content/drive/MyDrive/Telakoya/tela5/model/cnnK.h5')"
   ]
  },
  {
   "cell_type": "code",
   "execution_count": null,
   "metadata": {
    "colab": {
     "base_uri": "https://localhost:8080/"
    },
    "id": "KX4viuoTCvNq",
    "outputId": "12f89b35-b98b-41f1-c518-ba308968b6e4"
   },
   "outputs": [
    {
     "name": "stdout",
     "output_type": "stream",
     "text": [
      "1/1 [==============================] - 0s 171ms/step\n"
     ]
    },
    {
     "data": {
      "text/plain": [
       "array([[7.1535003e-04, 1.4320160e-03, 1.0530756e-02, 8.1961149e-01,\n",
       "        6.8566151e-04, 9.9383844e-03, 1.4954913e-01, 9.1346759e-05,\n",
       "        5.9183552e-03, 1.5274881e-03]], dtype=float32)"
      ]
     },
     "execution_count": 118,
     "metadata": {},
     "output_type": "execute_result"
    }
   ],
   "source": [
    "# 保存前のモデルによる予測結果\n",
    "pred = model6.predict(test_images[0:1])\n",
    "pred"
   ]
  },
  {
   "cell_type": "code",
   "execution_count": null,
   "metadata": {
    "colab": {
     "base_uri": "https://localhost:8080/"
    },
    "id": "hMqbD88DCvNq",
    "outputId": "3893708e-c89a-4e84-f145-98d49032e225"
   },
   "outputs": [
    {
     "name": "stdout",
     "output_type": "stream",
     "text": [
      "1/1 [==============================] - 0s 171ms/step\n"
     ]
    },
    {
     "data": {
      "text/plain": [
       "array([[7.1535003e-04, 1.4320160e-03, 1.0530756e-02, 8.1961149e-01,\n",
       "        6.8566151e-04, 9.9383844e-03, 1.4954913e-01, 9.1346759e-05,\n",
       "        5.9183552e-03, 1.5274881e-03]], dtype=float32)"
      ]
     },
     "execution_count": 119,
     "metadata": {},
     "output_type": "execute_result"
    }
   ],
   "source": [
    "# 復元したモデルによる予測結果\n",
    "pred2 = model62.predict(test_images[0:1])\n",
    "pred2"
   ]
  }
 ],
 "metadata": {
  "accelerator": "GPU",
  "colab": {
   "collapsed_sections": [
    "dZGzoyVHjdep",
    "mPLwF0d30ck7",
    "n3A62Ym47vXD",
    "x_kzi0ZA7x36",
    "McAGloto9-KO",
    "jAyXVt4cBjHY",
    "XTb0BjxMC58F",
    "jC0-C3hJGjDY",
    "72RpjncYGmuE",
    "xZkDqBp9m9kE",
    "vk_nAALAnRj3",
    "z-YccPmus6cL",
    "H6T1EvGjsUpa",
    "ZwFldizVu3Lw",
    "vdRvP3pzu3Lw",
    "GL_fA49lymZu",
    "AW7ExxKKzg5v",
    "AkmYSXfF3ExU",
    "bLshO9Gr5h4H",
    "6qZWqpGVnSXT",
    "LrBl5lGd6lIv",
    "BqdDeC2Q6o0c",
    "_zIswdNe6xiQ",
    "YmUZIlkv7m-3",
    "5HLmeo_A8Yu7",
    "jMqO20Oa9WsZ",
    "HYXivXvt-D1m",
    "rXAxrNCk-NtS",
    "BQjzHzND-kt8",
    "gH2NERPl-n00",
    "76P20KzQ-qZq",
    "M-Gv27So-tUr",
    "RBUnAOf4-wYG"
   ],
   "gpuType": "A100",
   "machine_shape": "hm",
   "provenance": []
  },
  "gpuClass": "standard",
  "kernelspec": {
   "display_name": "Python 3 (ipykernel)",
   "language": "python",
   "name": "python3"
  },
  "language_info": {
   "codemirror_mode": {
    "name": "ipython",
    "version": 3
   },
   "file_extension": ".py",
   "mimetype": "text/x-python",
   "name": "python",
   "nbconvert_exporter": "python",
   "pygments_lexer": "ipython3",
   "version": "3.10.9"
  }
 },
 "nbformat": 4,
 "nbformat_minor": 1
}
