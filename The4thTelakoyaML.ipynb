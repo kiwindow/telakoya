{
  "nbformat": 4,
  "nbformat_minor": 0,
  "metadata": {
    "colab": {
      "provenance": [],
      "collapsed_sections": [
        "dZGzoyVHjdep",
        "PwBsA6iY5ocO",
        "suvl98hv6Faa",
        "28VJjeoCdXhg",
        "8iiqH9B2uJTh",
        "ppBFjnoe9YC-",
        "_OidcCNlc-Jj",
        "KblwrFBJ0vNl"
      ]
    },
    "kernelspec": {
      "name": "python3",
      "display_name": "Python 3"
    },
    "language_info": {
      "name": "python"
    }
  },
  "cells": [
    {
      "cell_type": "markdown",
      "source": [
        "# ■ 日本腎・血液浄化AI学会主催「よくわかる寺子屋セミナー」\n",
        "\n",
        "# 第4回「機械学習による回帰/分類問題」　演習プログラム"
      ],
      "metadata": {
        "id": "7EewZ4vjix3L"
      }
    },
    {
      "cell_type": "markdown",
      "source": [
        "## □ 文責　学術委員会副委員長　岩藤和広"
      ],
      "metadata": {
        "id": "ObWUzCOajAZ-"
      }
    },
    {
      "cell_type": "markdown",
      "source": [
        "# 1. 環境設定"
      ],
      "metadata": {
        "id": "dZGzoyVHjdep"
      }
    },
    {
      "cell_type": "markdown",
      "source": [
        "- MyDriveの中にTelakoya というフォルダーを作成し、その中に tela4 というフォルダーを作成する\n",
        "- フォルダー tela4 の中に data というフォルダーと model というフォルダーを作る。\n",
        "- https://github.com/kiwindow/telakoya をデスクトップなどにdownloadする。\n",
        "- downloadしたファイルのうち、boston.csvとbreast.csvを、先ほど作成した data の中にuploadする。\n",
        "- また、BinaryClassificationEvaluator.ipynbは Telakoya/tela4というフォルダーの中にuploadする。\n",
        "- The4thTelakoyaMLが、今回の演習内容を示した本ファイル。"
      ],
      "metadata": {
        "id": "mXHT_P34jgR0"
      }
    },
    {
      "cell_type": "markdown",
      "source": [
        "- 最初に、このnotebookをGoogle Driveにmountする。\n",
        "- mount出来ると、左のサイドバーに drive というフォルダーが現れる。\n",
        "- もし drive というフォルダーがなければ、次のセルを実行する。"
      ],
      "metadata": {
        "id": "fLeKGSG7Aais"
      }
    },
    {
      "cell_type": "code",
      "source": [
        "# Gogle driveにmountする\n",
        "from google.colab import drive\n",
        "drive.mount('/content/drive')"
      ],
      "metadata": {
        "id": "eAvyB44qA0JL"
      },
      "execution_count": null,
      "outputs": []
    },
    {
      "cell_type": "code",
      "source": [
        "# ライブラリの読み込み\n",
        "import numpy as np  # 数値計算のライブラリ\n",
        "import pandas as pd  # 表計算のライブラリ \n",
        "import matplotlib.pyplot as plt  # 図示のライブラリ\n",
        "%matplotlib inline\n",
        "\n",
        "# Excelの読み込みに必要だったライブラリは読み込み不要 (pd.read_excel(...) はpandasの読み込みのみで使用可)"
      ],
      "metadata": {
        "id": "cQlCR_oDj4Fo"
      },
      "execution_count": null,
      "outputs": []
    },
    {
      "cell_type": "markdown",
      "source": [
        "# 2. 機械学習：回帰問題"
      ],
      "metadata": {
        "id": "7erZm2ixbVlf"
      }
    },
    {
      "cell_type": "markdown",
      "source": [
        "## 1) Boston Housing: Training data と Test data に分割 (Hold-out法)"
      ],
      "metadata": {
        "id": "PwBsA6iY5ocO"
      }
    },
    {
      "cell_type": "markdown",
      "source": [
        "- 回帰問題とは、目的変数が連続変数のデータにおける予測問題。今回は公開データの「Boston Housing」のデータを利用する\n",
        "- Boston Housingの説明変数を x 、目的変数を t とそれぞれ定義してから、以下の計算を行う。"
      ],
      "metadata": {
        "id": "8EPq4p9yAT3K"
      }
    },
    {
      "cell_type": "markdown",
      "source": [
        "https://scikit-learn.org/stable/modules/generated/sklearn.model_selection.train_test_split.html#sklearn.model_selection.train_test_split"
      ],
      "metadata": {
        "id": "AhEssqz3HjlU"
      }
    },
    {
      "cell_type": "code",
      "source": [
        "# boston.csvを読み込む\n",
        "df = pd.read_csv('/content/drive/MyDrive/Telakoya/tela4/data/boston.csv')\n",
        "df"
      ],
      "metadata": {
        "id": "D_d-HJEwbpux"
      },
      "execution_count": null,
      "outputs": []
    },
    {
      "cell_type": "code",
      "source": [
        "# 説明変数を x 、目的変数を t に代入。以後は(x, t)で使用してゆく。新たなデータを解析する場合も、同様に定義する。\n",
        "x = df.iloc[:, :-1].values\n",
        "t = df.iloc[:, -1].values"
      ],
      "metadata": {
        "id": "Cn9Wkzk5dD8k"
      },
      "execution_count": null,
      "outputs": []
    },
    {
      "cell_type": "code",
      "source": [
        "# x と t の型を確認しておく。    (506, )とは、506個の要素を持つ横に長いベクトル(1行506列)を示す\n",
        "print('x: ', x.shape)\n",
        "print('t: ', t.shape)"
      ],
      "metadata": {
        "id": "BdUqykcPBAa5"
      },
      "execution_count": null,
      "outputs": []
    },
    {
      "cell_type": "markdown",
      "source": [
        "https://scikit-learn.org/stable/modules/generated/sklearn.model_selection.train_test_split.html"
      ],
      "metadata": {
        "id": "tabd4AXcC5RL"
      }
    },
    {
      "cell_type": "code",
      "source": [
        "# 全データを学習データと検証データに分離する。test_size=0.3とすると、7 : 3の割合になる。random_stateは分離の仕方の乱数の指定で、任意の正の整数(1〜2^31)で指定できる\n",
        "from sklearn.model_selection import train_test_split\n",
        "x_train, x_test, t_train, t_test = train_test_split(x, t, test_size = 0.3, random_state = 0)"
      ],
      "metadata": {
        "id": "T7zf1FfFbYar"
      },
      "execution_count": null,
      "outputs": []
    },
    {
      "cell_type": "markdown",
      "source": [
        "## 2) simple Linear regression (重回帰分析)"
      ],
      "metadata": {
        "id": "suvl98hv6Faa"
      }
    },
    {
      "cell_type": "markdown",
      "source": [
        "https://scikit-learn.org/stable/modules/generated/sklearn.linear_model.LinearRegression.html#sklearn.linear_model.LinearRegression"
      ],
      "metadata": {
        "id": "9VSew67-Ha4Z"
      }
    },
    {
      "cell_type": "code",
      "source": [
        "# 機械学習　回帰問題\n",
        "#　① モデルの読み込み (モデルの設計図)\n",
        "from sklearn.linear_model import LinearRegression\n",
        "#　②　モデルのインスタンス化 (モデルの数値化)\n",
        "model = LinearRegression()\n",
        "# ③ モデルの学習 (モデルの最適化)\n",
        "model.fit(x_train, t_train)"
      ],
      "metadata": {
        "id": "c_hAGY1b6Laz"
      },
      "execution_count": null,
      "outputs": []
    },
    {
      "cell_type": "code",
      "source": [
        "# 検証 (テストデータでモデルの予測精度の検証)　　　決定係数 R^2の値が出力される　: 1に近いほど良い　　　(1-R^2を誤差という)\n",
        "model.score(x_test, t_test)"
      ],
      "metadata": {
        "id": "UFKURK7L6R22"
      },
      "execution_count": null,
      "outputs": []
    },
    {
      "cell_type": "code",
      "source": [
        "# 検証データの１例毎の予測値\n",
        "pred = model.predict(x_test)\n",
        "pred"
      ],
      "metadata": {
        "id": "BeFNcGS56XUG"
      },
      "execution_count": null,
      "outputs": []
    },
    {
      "cell_type": "code",
      "source": [
        "# 実測値\n",
        "t_test"
      ],
      "metadata": {
        "id": "EEMblvVPRGuB"
      },
      "execution_count": null,
      "outputs": []
    },
    {
      "cell_type": "markdown",
      "source": [
        "https://docs.python.org/ja/3/library/functions.html#enumerate"
      ],
      "metadata": {
        "id": "5D_FGWYyYPsJ"
      }
    },
    {
      "cell_type": "code",
      "source": [
        "# 予測値と実測値の書き出し (通常は特に必要ない)\n",
        "for i, value in enumerate(pred):\n",
        "    print('Predicted: {}    Observed: {}'.format(value, t_test[i]))"
      ],
      "metadata": {
        "id": "DdxyZxMp6eDf"
      },
      "execution_count": null,
      "outputs": []
    },
    {
      "cell_type": "markdown",
      "source": [
        "https://matplotlib.org/stable/api/_as_gen/matplotlib.pyplot.scatter.html"
      ],
      "metadata": {
        "id": "zIhjyKrWJAg1"
      }
    },
    {
      "cell_type": "code",
      "source": [
        "# 散布図で図示 (簡略)\n",
        "plt.scatter(pred, t_test)"
      ],
      "metadata": {
        "id": "rdE-m0N79xoN"
      },
      "execution_count": null,
      "outputs": []
    },
    {
      "cell_type": "code",
      "source": [
        "# 散布図で図示 (詳細)\n",
        "fig = plt.figure()\n",
        "ax = fig.add_subplot(111)\n",
        "ax.scatter(pred, t_test)\n",
        "ax.set_xlabel('Predicted')\n",
        "ax.set_ylabel('Observed')\n",
        "ax.set_aspect('equal')\n",
        "plt.show()"
      ],
      "metadata": {
        "id": "5jHn1dyI6xPx"
      },
      "execution_count": null,
      "outputs": []
    },
    {
      "cell_type": "markdown",
      "source": [
        "## 3) 予測モデルの書き出しと読み込み"
      ],
      "metadata": {
        "id": "28VJjeoCdXhg"
      }
    },
    {
      "cell_type": "code",
      "source": [
        "# モデルの保存   pickle.dumpで保存する。　model を f というファイルで保存。wbとは、write binary file という意味。\n",
        "import pickle\n",
        "with open('/content/drive/MyDrive/Telakoya/tela4/model/boston.pickle', mode = 'wb') as f:\n",
        "    pickle.dump(model, f)"
      ],
      "metadata": {
        "id": "FtllJ2qb-YgA"
      },
      "execution_count": null,
      "outputs": []
    },
    {
      "cell_type": "code",
      "source": [
        "# モデルの復元　　　　　pickle.loadで読み込む。f　というファイルを読み込んでいる。rbとは read binary file という意味。\n",
        "with open('/content/drive/MyDrive/Telakoya/tela4/model/boston.pickle', mode = 'rb') as f:\n",
        "    model2 = pickle.load(f)"
      ],
      "metadata": {
        "id": "0VWgbhqC_ZU_"
      },
      "execution_count": null,
      "outputs": []
    },
    {
      "cell_type": "code",
      "source": [
        "# 復元したモデルによる予測\n",
        "pred2 = model2.predict(x_test)\n",
        "pred2"
      ],
      "metadata": {
        "id": "a0_ioUxaACyR"
      },
      "execution_count": null,
      "outputs": []
    },
    {
      "cell_type": "code",
      "source": [
        "# 先ほどの予測結果と一致していることの確認\n",
        "pred == pred2"
      ],
      "metadata": {
        "id": "HV82VSRNZ0G8"
      },
      "execution_count": null,
      "outputs": []
    },
    {
      "cell_type": "markdown",
      "source": [
        "# 3. 機械学習：分類問題"
      ],
      "metadata": {
        "id": "XZuJjS9WbbZt"
      }
    },
    {
      "cell_type": "markdown",
      "source": [
        "## 1) Breast Cancer: Training data と Test data への分割 (Hold-out法)"
      ],
      "metadata": {
        "id": "8iiqH9B2uJTh"
      }
    },
    {
      "cell_type": "markdown",
      "source": [
        "- 分類問題とは、目的変数が離散変数のデータにおける予測問題。このため、公開データのうち「Breast Cancer」のデータを利用する\n",
        "- Breast Cancer の説明変数を x で、目的変数を t でそれぞれ定義してから、以下の計算を行う。"
      ],
      "metadata": {
        "id": "AWnlYixl0NJh"
      }
    },
    {
      "cell_type": "markdown",
      "source": [
        "https://scikit-learn.org/stable/modules/generated/sklearn.model_selection.train_test_split.html#sklearn.model_selection.train_test_split"
      ],
      "metadata": {
        "id": "55BfZyOHuTGl"
      }
    },
    {
      "cell_type": "markdown",
      "source": [
        "- 分類問題では、説明変数を x　目的変数(教師データ)を t として定義する。\n",
        "- 目的変数は 0 / 1 の2値にすると予測精度が上がりやすい。\n",
        "- 1 を予測したい陽性症例、0 を陰性症例とする。\n",
        "- 陽性症例と陰性症例の数が同じ程度であると予測精度が上がりやすい。\n",
        "- 陽性症例の数が例えば10%以下と少ない場合、Imbalanced data といい、予測困難になりやすい。"
      ],
      "metadata": {
        "id": "u0L3PxAWZdm-"
      }
    },
    {
      "cell_type": "code",
      "source": [
        "# breast.csvを読み込む\n",
        "df = pd.read_csv('/content/drive/MyDrive/Telakoya/tela4/data/breast.csv')\n",
        "df"
      ],
      "metadata": {
        "id": "tLXbbZwocqiq"
      },
      "execution_count": null,
      "outputs": []
    },
    {
      "cell_type": "code",
      "source": [
        "# 説明変数を x 、目的変数を t に代入。以後は(x, t)で使用してゆく。新たなデータを解析する場合も、同様に定義する。\n",
        "x = df.iloc[:, :-1].values\n",
        "t = df.iloc[:, -1].values"
      ],
      "metadata": {
        "id": "mmJYingacqis"
      },
      "execution_count": null,
      "outputs": []
    },
    {
      "cell_type": "code",
      "source": [
        "# データを学習データと検証データに分離する。分離の割合は、test_size(0〜1)で指定。\n",
        "from sklearn.model_selection import train_test_split\n",
        "x_train, x_test, t_train, t_test = train_test_split(x, t, test_size = 0.3, random_state = 0)"
      ],
      "metadata": {
        "id": "8BOWUORRuXiK"
      },
      "execution_count": null,
      "outputs": []
    },
    {
      "cell_type": "markdown",
      "source": [
        "https://seaborn.pydata.org/generated/seaborn.displot.html"
      ],
      "metadata": {
        "id": "wc6P0NfyblkI"
      }
    },
    {
      "cell_type": "code",
      "source": [
        "# 目的変数の陽性症例と陰性症例の数を図示する\n",
        "import seaborn as sns\n",
        "sns.displot(t)"
      ],
      "metadata": {
        "colab": {
          "base_uri": "https://localhost:8080/",
          "height": 387
        },
        "id": "xjRE0Lama5QM",
        "outputId": "7c7cf582-0a28-4bb6-da57-ee5d5f31cb52"
      },
      "execution_count": null,
      "outputs": [
        {
          "output_type": "execute_result",
          "data": {
            "text/plain": [
              "<seaborn.axisgrid.FacetGrid at 0x7f2d814d3670>"
            ]
          },
          "metadata": {},
          "execution_count": 5
        },
        {
          "output_type": "display_data",
          "data": {
            "text/plain": [
              "<Figure size 360x360 with 1 Axes>"
            ],
            "image/png": "[encoded data removed]"
          },
          "metadata": {
            "needs_background": "light"
          }
        }
      ]
    },
    {
      "cell_type": "markdown",
      "source": [
        "## ■ 2値分類を評価する関数 (予測値が実数の場合)"
      ],
      "metadata": {
        "id": "ppBFjnoe9YC-"
      }
    },
    {
      "cell_type": "markdown",
      "source": [
        "- 以下の showscores という関数を利用すると、2値分類において accuracy, precision, recall, f1-score, AUC of ROCなどが算出される\n",
        "- trueval には、0 / 1 の教師データを、predval には、0〜1の予測値(実数)を入力する\n",
        "- ROCのAUCやC-indexを算出するには、予測値が予測モデルから算出された実数(0〜1程度)の必要がある\n",
        "- Pythonにおける混同行列の表記は[[TN, FP],[FN,TP]]となるが、本関数では[[TP, FP],[FN, TN]] とした。"
      ],
      "metadata": {
        "id": "47NsBEGncRDt"
      }
    },
    {
      "cell_type": "code",
      "source": [
        "# 本関数での混同行列の表記\n",
        "print(pd.DataFrame([['TP', 'FP'],['FN', 'TN']], index = ('予測(+)', '予測(-)'), columns=('実際(+)', '実際(-)')))"
      ],
      "metadata": {
        "colab": {
          "base_uri": "https://localhost:8080/"
        },
        "outputId": "b129f228-9397-46bb-e6b6-43c0b8bbcf92",
        "id": "YE0vfLh4OL9e"
      },
      "execution_count": null,
      "outputs": [
        {
          "output_type": "stream",
          "name": "stdout",
          "text": [
            "      実際(+) 実際(-)\n",
            "予測(+)    TP    FP\n",
            "予測(-)    FN    TN\n"
          ]
        }
      ]
    },
    {
      "cell_type": "code",
      "source": [
        "# Pythonでの混同行列の表記\n",
        "print(pd.DataFrame([['TN', 'FP'],['FN', 'TP']], index = ('実際(-)', '実際(+)'), columns=('予測(-)', '予測(+)')))"
      ],
      "metadata": {
        "colab": {
          "base_uri": "https://localhost:8080/"
        },
        "outputId": "765e0487-575d-41cc-ca75-1f5eaa7b7257",
        "id": "6jWUd6SFOL9e"
      },
      "execution_count": null,
      "outputs": [
        {
          "output_type": "stream",
          "name": "stdout",
          "text": [
            "      予測(-) 予測(+)\n",
            "実際(-)    TN    FP\n",
            "実際(+)    FN    TP\n"
          ]
        }
      ]
    },
    {
      "cell_type": "code",
      "source": [
        "# 2値分類の結果を評価する関数\n",
        "def showscores(trueval, predval):\n",
        "    # trueval: 検証データの観測値 (0 or 1), predval: 予測モデルによる予測値 (0〜1程度の実数)\n",
        "    !pip install lifelines --quiet\n",
        "    from lifelines.utils import concordance_index    \n",
        "    from sklearn.metrics import confusion_matrix\n",
        "    import seaborn as sns\n",
        "    from sklearn.metrics import accuracy_score\n",
        "    from sklearn.metrics import precision_score\n",
        "    from sklearn.metrics import recall_score\n",
        "    from sklearn.metrics import f1_score\n",
        "    from sklearn.metrics import roc_auc_score\n",
        "\n",
        "    # 端数処理\n",
        "    import math\n",
        "    def my_round(val, digit=0):\n",
        "        p = 10 ** digit\n",
        "        try:\n",
        "            ans = (val * p * 2 + 1) // 2 / p\n",
        "        except:\n",
        "            ans = 'N/A'\n",
        "        return ans      \n",
        "\n",
        "    # predintが整数の場合、AUCが低く出ることの警告文\n",
        "    if np.array(predval).flatten()[0].is_integer():\n",
        "        print('')\n",
        "        print('◇ 予測値が整数であったため、ROCのAUC と C-index が実際よりも低値に出ることに注意。')\n",
        "        print('')     \n",
        "    else: \n",
        "        pass\n",
        "    \n",
        "    # 目的変数を整数にする\n",
        "    round = [1 if p >= 0.5 else 0 for p in predval]   \n",
        "\n",
        "    # 混同行列の作成\n",
        "    cm = confusion_matrix(trueval, round)\n",
        "    tn, fp, fn, tp = confusion_matrix(trueval, round).ravel()\n",
        "    confmat = [[tp, fp], [fn, tn]]\n",
        "\n",
        "    # 各種評価値の計算\n",
        "    acc = accuracy_score(trueval, round)\n",
        "    prec = precision_score(trueval, round)\n",
        "    rec = recall_score(trueval, round)\n",
        "    f1 = f1_score(trueval, round)\n",
        "    spec = tn/(tn + fp)\n",
        "\n",
        "    auc = roc_auc_score(trueval, predval)\n",
        "    cind = concordance_index(trueval, predval)\n",
        "\n",
        "    # 出力　: ( 1, Accuracy, 2. Precision 3. Recall 4. f1-score 5. Specificity, 6. AUCofROC, 7. C-index, 8. 混同行列)\n",
        "    # res = np.array([acc, prec, rec, f1, spec, auc, cind, [[tp, fp], [fn, tn]] ])\n",
        "\n",
        "    # ヒートマップ\n",
        "    hm = sns.heatmap(confmat, annot=True, cmap='Blues')\n",
        "\n",
        "    print('■ 2値分類の予測結果の評価')\n",
        "    print('')\n",
        "    print('□　検証データのサンプル数: ' + str(len(trueval)))\n",
        "    print('')\n",
        "    print('□　混同行列: ')\n",
        "    print(pd.DataFrame(confmat,  index=['Predict True', 'Predict False'], columns=['Actual True', 'Actual False'] ))\n",
        "    print('')\n",
        "    print('   Accuracy(正解率): ' + str(my_round(acc,5)) + '   precision(精度): ' + str(my_round(prec,5)) + '    recall(再現率): ' + str(my_round(rec, 5)))\n",
        "    print('   f1-score(f1値): ' + str(my_round(f1,5)) + '   specificity(特異度): ' + str(my_round(spec,5)))  \n",
        "    print('')\n",
        "    print('   AUC of ROC: ' + str(my_round(auc)) + '    C-index (c-Statistics): ' + str(my_round(cind,5)))\n",
        "    print('')\n",
        "    print('□　混同行列のヒートマップ:')\n",
        "    plt.show()\n",
        "    print('')"
      ],
      "metadata": {
        "id": "S8f2LJ8-wz0a"
      },
      "execution_count": null,
      "outputs": []
    },
    {
      "cell_type": "markdown",
      "source": [
        "## ■ 2値分類を評価する関数 (予測値が整数 0/1 の場合)"
      ],
      "metadata": {
        "id": "_OidcCNlc-Jj"
      }
    },
    {
      "cell_type": "markdown",
      "source": [
        "- Pythonにおける混同行列の表記は[[TN, FP],[FN,TP]]となるが、本関数では[[TP, FP],[FN, TN]] とした。"
      ],
      "metadata": {
        "id": "ve2V6IE8Gysu"
      }
    },
    {
      "cell_type": "code",
      "source": [
        "# 本関数での混同行列の表記\n",
        "print(pd.DataFrame([['TP', 'FP'],['FN', 'TN']], index = ('予測(+)', '予測(-)'), columns=('実際(+)', '実際(-)')))"
      ],
      "metadata": {
        "colab": {
          "base_uri": "https://localhost:8080/"
        },
        "id": "iewCg-et6r8-",
        "outputId": "b129f228-9397-46bb-e6b6-43c0b8bbcf92"
      },
      "execution_count": null,
      "outputs": [
        {
          "output_type": "stream",
          "name": "stdout",
          "text": [
            "      実際(+) 実際(-)\n",
            "予測(+)    TP    FP\n",
            "予測(-)    FN    TN\n"
          ]
        }
      ]
    },
    {
      "cell_type": "code",
      "source": [
        "# Pythonでの混同行列の表記\n",
        "print(pd.DataFrame([['TN', 'FP'],['FN', 'TP']], index = ('実際(-)', '実際(+)'), columns=('予測(-)', '予測(+)')))"
      ],
      "metadata": {
        "colab": {
          "base_uri": "https://localhost:8080/"
        },
        "id": "x2e7McAKG8HU",
        "outputId": "765e0487-575d-41cc-ca75-1f5eaa7b7257"
      },
      "execution_count": null,
      "outputs": [
        {
          "output_type": "stream",
          "name": "stdout",
          "text": [
            "      予測(-) 予測(+)\n",
            "実際(-)    TN    FP\n",
            "実際(+)    FN    TP\n"
          ]
        }
      ]
    },
    {
      "cell_type": "code",
      "source": [
        "def confusionmatrix(trueval, predint):\n",
        "    # trueval: 検証データの観測値 (0 or 1), predint: 予測モデルによる予測値 (0 or 1)\n",
        "    import matplotlib.pyplot as plt\n",
        "    import seaborn as sns    \n",
        "    from sklearn.metrics import confusion_matrix\n",
        "\n",
        "    # 端数処理\n",
        "    import math\n",
        "    def my_round(val, digit=0):\n",
        "        p = 10 ** digit\n",
        "        try:\n",
        "            ans = (val * p * 2 + 1) // 2 / p\n",
        "        except:\n",
        "            ans = 'N/A'\n",
        "        return ans    \n",
        "\n",
        "    # predintが実数の場合、整数に変換する\n",
        "    if np.array(predint).flatten()[0].is_integer():\n",
        "        pass\n",
        "    else: \n",
        "        predint = [1 if p >= 0.5 else 0 for p in predint]\n",
        "        print('')\n",
        "        print('◇ 予測値が実数であったため、予測値は整数(0/1)に変換した。')\n",
        "        print('')\n",
        "\n",
        "    # 混同行列の作成\n",
        "    TN, FP, FN, TP = confusion_matrix(trueval, predint).ravel()\n",
        "    confmat = [[TP, FP], [FN, TN]] \n",
        "\n",
        "    # 各種評価値の計算\n",
        "    acc = (TP+TN)/(TP+FP+FN+TN)\n",
        "    \n",
        "    if TP + FP != 0:\n",
        "        prec = TP/(TP+FP)\n",
        "    elif TP + FP == 0:\n",
        "        prec = 'N/A'\n",
        "    if TP + FN != 0:\n",
        "        rec = TP/(TP+FN)\n",
        "    elif TP + FP ==0:\n",
        "        rec = 'N/A'\n",
        "    if TN + FP != 0:\n",
        "        spec = TN/(TN + FP)\n",
        "    elif TN + FP == 0:\n",
        "        spec = 'N/A'\n",
        "    if TP + FP/2 + FN/2 != 0:\n",
        "        f1 = TP/(TP + FP/2 + FN/2)\n",
        "    elif TP + FP/2 + FN/2 == 0:\n",
        "        f1 = 'N/A'\n",
        "\n",
        "    # 出力　: ( 1, Accuracy, 2. Precision 3. Recall 4. f1-score 5. Specificity, 6. 混同行列)\n",
        "    # res = np.array([acc, prec, rec, f1, spec, [[TP, FP], [FN, TN]] ])\n",
        "\n",
        "    # ヒートマップ\n",
        "    hm = sns.heatmap(confmat, annot=True, cmap='Blues')    \n",
        "\n",
        "    print('■ 2値分類の検定結果')\n",
        "    print('')\n",
        "    print('□　検証データのサンプル数: ' + str(len(trueval)) )\n",
        "    print('')\n",
        "    print('□　混同行列:')\n",
        "    print(pd.DataFrame(np.array(confmat), index=['Predict True', 'Predict False'], columns=['Actual True', 'Actual False']))\n",
        "    print('')    \n",
        "    print('   Accuracy(正解率): ' + str(my_round(acc,5)) + '   precision(精度): ' + str(my_round(prec,5)) + '    recall(再現率): ' + str(my_round(rec, 5)))\n",
        "    print('   f1-score(f1値): ' + str(my_round(f1,5)) + '   specificity(特異度): ' + str(my_round(spec,5)))\n",
        "    print('')\n",
        "    print('□　混同行列のヒートマップ:')\n",
        "    plt.show()\n",
        "    print('')"
      ],
      "metadata": {
        "id": "LZkGgzhjwt28"
      },
      "execution_count": null,
      "outputs": []
    },
    {
      "cell_type": "markdown",
      "source": [
        "## 2) simple Linear Regression (重回帰分析)"
      ],
      "metadata": {
        "id": "KblwrFBJ0vNl"
      }
    },
    {
      "cell_type": "markdown",
      "source": [
        "- LinearRegressionは予測値を実数で出力する。そのため、2値分類に利用するためには、出力を整数に変える必要がある。"
      ],
      "metadata": {
        "id": "K1nvFDJghss6"
      }
    },
    {
      "cell_type": "markdown",
      "source": [
        "https://scikit-learn.org/stable/modules/generated/sklearn.linear_model.LinearRegression.html"
      ],
      "metadata": {
        "id": "bErkylztinB0"
      }
    },
    {
      "cell_type": "code",
      "source": [
        "#　機械学習　回帰問題\n",
        "# ① モデルの読み込み (モデルの設計図)\n",
        "from sklearn.linear_model import LinearRegression\n",
        "# ② モデルのインスタンス化 (モデルの活性化)\n",
        "model = LinearRegression()\n",
        "# ③ モデルの学習 (モデルの最適化)\n",
        "model.fit(x_train, t_train)"
      ],
      "metadata": {
        "id": "kOXz53mk1CWn"
      },
      "execution_count": null,
      "outputs": []
    },
    {
      "cell_type": "code",
      "source": [
        "# 予測値の算出 (実数で算出される)\n",
        "pred = model.predict(x_test)\n",
        "pred"
      ],
      "metadata": {
        "id": "aidedHP5h2o2"
      },
      "execution_count": null,
      "outputs": []
    },
    {
      "cell_type": "code",
      "source": [
        "# 予測値は実数であるため、showscores関数で評価する。予測値が整数の場合は、confusionmatrixで評価する。\n",
        "showscores(t_test, pred)"
      ],
      "metadata": {
        "id": "x6YWkqcZiF6f"
      },
      "execution_count": null,
      "outputs": []
    }
  ]
}